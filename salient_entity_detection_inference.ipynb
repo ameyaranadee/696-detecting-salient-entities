{
 "cells": [
  {
   "cell_type": "code",
   "execution_count": 3,
   "id": "a8b8c1a3-905f-4017-b37d-fdbfe5acebac",
   "metadata": {},
   "outputs": [],
   "source": [
    "import os\n",
    "import re\n",
    "import json\n",
    "import pandas as pd\n",
    "import torch\n",
    "import datetime\n",
    "# from transformers import AutoTokenizer, AutoModelForCausalLM, BitsAndBytesConfig\n",
    "from vllm import LLM, SamplingParams\n",
    "from thefuzz import process\n",
    "from sklearn.metrics import precision_score, recall_score, f1_score\n",
    "from utils.data_loader import load_dataset\n",
    "from utils.clean_json import clean_incomplete_json\n",
    "from utils.eval import fuzzy_match, evaluate_salience, evaluate_multiple_instances\n",
    "from utils.postprocessing import save_outputs"
   ]
  },
  {
   "cell_type": "code",
   "execution_count": 4,
   "id": "81b8263f-ecc3-4dbb-a47f-13e4df34ad80",
   "metadata": {},
   "outputs": [],
   "source": [
    "os.environ['HF_HOME'] = '/work/pi_wenlongzhao_umass_edu/8/aranade/models/huggingface_cache'\n",
    "download_dir = \"/work/pi_wenlongzhao_umass_edu/8/aranade/models\"\n",
    "llama_model_path = \"/datasets/ai/llama3/hub/models--meta-llama--Meta-Llama-3.1-8B-Instruct/snapshots/5206a32e0bd3067aef1ce90f5528ade7d866253f\"\n",
    "zephyr_model_path = \"HuggingFaceH4/zephyr-7b-beta\""
   ]
  },
  {
   "cell_type": "code",
   "execution_count": 15,
   "id": "9264cdab-950d-46e5-a3e5-108e6a9da996",
   "metadata": {},
   "outputs": [],
   "source": [
    "sampling_params = SamplingParams(\n",
    "    n=1,\n",
    "    temperature=0,\n",
    "    max_tokens=300,\n",
    "    stop=[\"</s>\", \"\\n}\"]\n",
    ")"
   ]
  },
  {
   "cell_type": "code",
   "execution_count": 5,
   "id": "6c83d66e-87f5-4170-9050-c10597c585b3",
   "metadata": {
    "tags": []
   },
   "outputs": [
    {
     "name": "stdout",
     "output_type": "stream",
     "text": [
      "INFO 03-18 02:34:28 __init__.py:207] Automatically detected platform cuda.\n",
      "INFO 03-18 02:34:45 config.py:549] This model supports multiple tasks: {'classify', 'score', 'embed', 'reward', 'generate'}. Defaulting to 'generate'.\n",
      "INFO 03-18 02:34:45 llm_engine.py:234] Initializing a V0 LLM engine (v0.7.3) with config: model='HuggingFaceH4/zephyr-7b-beta', speculative_config=None, tokenizer='HuggingFaceH4/zephyr-7b-beta', skip_tokenizer_init=False, tokenizer_mode=auto, revision=None, override_neuron_config=None, tokenizer_revision=None, trust_remote_code=False, dtype=torch.bfloat16, max_seq_len=32768, download_dir='/work/pi_wenlongzhao_umass_edu/8/aranade/models', load_format=auto, tensor_parallel_size=1, pipeline_parallel_size=1, disable_custom_all_reduce=False, quantization=None, enforce_eager=False, kv_cache_dtype=auto,  device_config=cuda, decoding_config=DecodingConfig(guided_decoding_backend='xgrammar'), observability_config=ObservabilityConfig(otlp_traces_endpoint=None, collect_model_forward_time=False, collect_model_execute_time=False), seed=0, served_model_name=HuggingFaceH4/zephyr-7b-beta, num_scheduler_steps=1, multi_step_stream_outputs=True, enable_prefix_caching=False, chunked_prefill_enabled=False, use_async_output_proc=True, disable_mm_preprocessor_cache=False, mm_processor_kwargs=None, pooler_config=None, compilation_config={\"splitting_ops\":[],\"compile_sizes\":[],\"cudagraph_capture_sizes\":[256,248,240,232,224,216,208,200,192,184,176,168,160,152,144,136,128,120,112,104,96,88,80,72,64,56,48,40,32,24,16,8,4,2,1],\"max_capture_size\":256}, use_cached_outputs=False, \n",
      "INFO 03-18 02:34:47 cuda.py:229] Using Flash Attention backend.\n",
      "INFO 03-18 02:34:47 model_runner.py:1110] Starting to load model HuggingFaceH4/zephyr-7b-beta...\n",
      "INFO 03-18 02:34:47 weight_utils.py:254] Using model weights format ['*.safetensors']\n"
     ]
    },
    {
     "data": {
      "application/vnd.jupyter.widget-view+json": {
       "model_id": "2a3ff5fc94aa4fc683ee18ee301fed2f",
       "version_major": 2,
       "version_minor": 0
      },
      "text/plain": [
       "model-00008-of-00008.safetensors:   0%|          | 0.00/816M [00:00<?, ?B/s]"
      ]
     },
     "metadata": {},
     "output_type": "display_data"
    },
    {
     "data": {
      "application/vnd.jupyter.widget-view+json": {
       "model_id": "125e5b6a79324b9b909f4d904399dad6",
       "version_major": 2,
       "version_minor": 0
      },
      "text/plain": [
       "model-00003-of-00008.safetensors:   0%|          | 0.00/1.98G [00:00<?, ?B/s]"
      ]
     },
     "metadata": {},
     "output_type": "display_data"
    },
    {
     "data": {
      "application/vnd.jupyter.widget-view+json": {
       "model_id": "da12d9641fa74e6dafc00c4278ef7672",
       "version_major": 2,
       "version_minor": 0
      },
      "text/plain": [
       "model-00005-of-00008.safetensors:   0%|          | 0.00/1.98G [00:00<?, ?B/s]"
      ]
     },
     "metadata": {},
     "output_type": "display_data"
    },
    {
     "data": {
      "application/vnd.jupyter.widget-view+json": {
       "model_id": "2bba9a1043c34464b19afc4baeee8e6e",
       "version_major": 2,
       "version_minor": 0
      },
      "text/plain": [
       "model-00007-of-00008.safetensors:   0%|          | 0.00/1.98G [00:00<?, ?B/s]"
      ]
     },
     "metadata": {},
     "output_type": "display_data"
    },
    {
     "data": {
      "application/vnd.jupyter.widget-view+json": {
       "model_id": "70f6fcf7760540b48f3eccb5b8c850ff",
       "version_major": 2,
       "version_minor": 0
      },
      "text/plain": [
       "model-00001-of-00008.safetensors:   0%|          | 0.00/1.89G [00:00<?, ?B/s]"
      ]
     },
     "metadata": {},
     "output_type": "display_data"
    },
    {
     "data": {
      "application/vnd.jupyter.widget-view+json": {
       "model_id": "fb7b2cb1930c4f73bb8358ec8c4835a7",
       "version_major": 2,
       "version_minor": 0
      },
      "text/plain": [
       "model-00004-of-00008.safetensors:   0%|          | 0.00/1.95G [00:00<?, ?B/s]"
      ]
     },
     "metadata": {},
     "output_type": "display_data"
    },
    {
     "data": {
      "application/vnd.jupyter.widget-view+json": {
       "model_id": "fbf9dd5aaa1b489c877fa6c49ee8e1b5",
       "version_major": 2,
       "version_minor": 0
      },
      "text/plain": [
       "model-00006-of-00008.safetensors:   0%|          | 0.00/1.95G [00:00<?, ?B/s]"
      ]
     },
     "metadata": {},
     "output_type": "display_data"
    },
    {
     "data": {
      "application/vnd.jupyter.widget-view+json": {
       "model_id": "86d18d62f18a4d459f6ce241e1da019a",
       "version_major": 2,
       "version_minor": 0
      },
      "text/plain": [
       "model-00002-of-00008.safetensors:   0%|          | 0.00/1.95G [00:00<?, ?B/s]"
      ]
     },
     "metadata": {},
     "output_type": "display_data"
    },
    {
     "name": "stdout",
     "output_type": "stream",
     "text": [
      "INFO 03-18 02:35:22 weight_utils.py:270] Time spent downloading weights for HuggingFaceH4/zephyr-7b-beta: 34.643490 seconds\n"
     ]
    },
    {
     "data": {
      "application/vnd.jupyter.widget-view+json": {
       "model_id": "dd18f1f4ac134c89b1ff44ad8f4ba67a",
       "version_major": 2,
       "version_minor": 0
      },
      "text/plain": [
       "model.safetensors.index.json:   0%|          | 0.00/23.9k [00:00<?, ?B/s]"
      ]
     },
     "metadata": {},
     "output_type": "display_data"
    },
    {
     "data": {
      "application/vnd.jupyter.widget-view+json": {
       "model_id": "70eb5695f02d4b0d8f5ea229cb28e072",
       "version_major": 2,
       "version_minor": 0
      },
      "text/plain": [
       "Loading safetensors checkpoint shards:   0% Completed | 0/8 [00:00<?, ?it/s]\n"
      ]
     },
     "metadata": {},
     "output_type": "display_data"
    },
    {
     "name": "stdout",
     "output_type": "stream",
     "text": [
      "INFO 03-18 02:35:57 model_runner.py:1115] Loading model weights took 13.4967 GB\n",
      "INFO 03-18 02:36:02 worker.py:267] Memory profiling takes 4.62 seconds\n",
      "INFO 03-18 02:36:02 worker.py:267] the current vLLM instance can use total_gpu_memory (44.34GiB) x gpu_memory_utilization (0.90) = 39.91GiB\n",
      "INFO 03-18 02:36:02 worker.py:267] model weights take 13.50GiB; non_torch_memory takes 0.06GiB; PyTorch activation peak memory takes 3.38GiB; the rest of the memory reserved for KV Cache is 22.97GiB.\n",
      "INFO 03-18 02:36:02 executor_base.py:111] # cuda blocks: 11758, # CPU blocks: 2048\n",
      "INFO 03-18 02:36:02 executor_base.py:116] Maximum concurrency for 32768 tokens per request: 5.74x\n",
      "INFO 03-18 02:36:04 model_runner.py:1434] Capturing cudagraphs for decoding. This may lead to unexpected consequences if the model is not static. To run the model in eager mode, set 'enforce_eager=True' or use '--enforce-eager' in the CLI. If out-of-memory error occurs during cudagraph capture, consider decreasing `gpu_memory_utilization` or switching to eager mode. You can also reduce the `max_num_seqs` as needed to decrease memory usage.\n"
     ]
    },
    {
     "name": "stderr",
     "output_type": "stream",
     "text": [
      "Capturing CUDA graph shapes: 100%|██████████| 35/35 [00:18<00:00,  1.87it/s]"
     ]
    },
    {
     "name": "stdout",
     "output_type": "stream",
     "text": [
      "INFO 03-18 02:36:22 model_runner.py:1562] Graph capturing finished in 19 secs, took 0.26 GiB\n",
      "INFO 03-18 02:36:22 llm_engine.py:436] init engine (profile, create kv cache, warmup model) took 25.66 seconds\n"
     ]
    },
    {
     "name": "stderr",
     "output_type": "stream",
     "text": [
      "\n"
     ]
    }
   ],
   "source": [
    "llm = LLM(\n",
    "    model=zephyr_model_path, \n",
    "    tokenizer=zephyr_model_path,\n",
    "    download_dir=download_dir,\n",
    ")"
   ]
  },
  {
   "cell_type": "markdown",
   "id": "7c2d9b5d-d533-417a-bf0e-a06ad8a9a21c",
   "metadata": {
    "tags": []
   },
   "source": [
    "## Article text and prompt"
   ]
  },
  {
   "cell_type": "code",
   "execution_count": 16,
   "id": "fe1632c3-5a11-4152-bb07-e50db86637bb",
   "metadata": {},
   "outputs": [],
   "source": [
    "# title = 'Euro reaches ten month low against US dollar'\n",
    "\n",
    "# article = '''The euro reached a ten-month low against the US dollar earlier today over concerns about Greece's debt crisis. The euro traded at US$1.3436 in the morning, \n",
    "# a level not seen since May of last year, although it finished the day back up at $1.3606. It was, however, up 0.6% against the British pound, at 90.76 pence. The pound also fell today, \n",
    "# reaching a trading level of $1.4936 after a loss of 0.4%.The spike lower this morning indicates market nervousness about the prospects of a Greek bailout - the message coming out of \n",
    "# Europe is still confused, commented an analysts for CMC Markets, Michael Hewson, as quoted by Agence France-Presse.\n",
    "# '''"
   ]
  },
  {
   "cell_type": "markdown",
   "id": "7d7eb175-2fb9-4cdf-aac3-2941c24f99f5",
   "metadata": {
    "jp-MarkdownHeadingCollapsed": true,
    "tags": []
   },
   "source": [
    "### llama3.1-8b-instruct model prompt"
   ]
  },
  {
   "cell_type": "code",
   "execution_count": 16,
   "id": "baf665af-b105-4789-b30f-b8e5ae0cf66c",
   "metadata": {},
   "outputs": [],
   "source": [
    "# system_prompt = \"You are an expert news article analysis assistant.\"\n",
    "\n",
    "few_shot_prompt = \"\"\"\n",
    "<|begin_of_text|><|start_header_id|>system<|end_header_id|>\n",
    "You are an expert news article analysis assistant in entity recognition and reading comprehension.\n",
    "<|eot_id|><|start_header_id|>user<|end_header_id|>\n",
    "I need you to extract entities from an article and assign a salience score to each one. The salience score indicates how central the entity is to the article: use 1 for salient entities and 0 for entities mentioned only in passing.\n",
    "\n",
    "Below are two examples:\n",
    "\n",
    "Example 1:\n",
    "---------------------\n",
    "Article Title: Laws allowing same sex marriage in Washington, D.C. go into effect\n",
    "Article Text: The United States capital of Washington, D.C. legalized same-sex marriage on Wednesday. Beginning at 6 A.M. local time (1100 UTC), couples began submitting marriage applications at local courthouses citywide. Washington D.C. becomes the seventh United States territory to legalize same sex marriage. The bill was ratified by Mayor Adrian Fenty last December. Due to city's territorial status as a federal district, the bill had to be reviewed by congress. The bill passed congressional review Tuesday night. The bill faced opposition from many family values activists, who tried to stop the bill from becoming law. Supreme Court Chief Justice John Roberts rejected a lawsuit to prevent the measure.\n",
    "Final JSON Output:\n",
    "{{\n",
    "  \"entities\": [\n",
    "    {{\n",
    "      \"entity_title\": \"United States\",\n",
    "      \"entity_salience\": \"1\"\n",
    "    }},\n",
    "    {{\n",
    "      \"entity_title\": \"Washington, D.C.\",\n",
    "      \"entity_salience\": \"1\"\n",
    "    }},\n",
    "    {{\n",
    "      \"entity_title\": \"same-sex marriage\",\n",
    "      \"entity_salience\": \"0\"\n",
    "    }},\n",
    "    {{\n",
    "      \"entity_title\": \"Adrian Fenty\",\n",
    "      \"entity_salience\": \"0\"\n",
    "    }},\n",
    "    {{\n",
    "      \"entity_title\": \"federal district\",\n",
    "      \"entity_salience\": \"0\"\n",
    "    }},\n",
    "    {{\n",
    "      \"entity_title\": \"family values\",\n",
    "      \"entity_salience\": \"0\"\n",
    "    }},\n",
    "    {{\n",
    "      \"entity_title\": \"John Roberts\",\n",
    "      \"entity_salience\": \"0\"\n",
    "    }}\n",
    "  ]\n",
    "}}\n",
    "\n",
    "User: Example 2:\n",
    "---------------------\n",
    "Article Title: New York Representative Eric Massa to retire\n",
    "Article Text: New York Representative Eric Massa announced Wednesday that he would be stepping down as Congressman from New York's 29th congressional district. He cited health reasons for the sudden announcement. Massa is the latest in a string of United States Congresspeople to resign or not to seek reelection in 2010. He said that he had his third non-specific cancer recurrence in December 2009. He implied that his cancer is terminal, saying “I will now enter the final phase of my life at a more controlled pace.” He denied claims that his resignation is related to a sexual harassment accusation from a male aide. He said that this was untrue, although he admitted to using so called salty language.\n",
    "Final JSON Output:Assistant: Based on the above, the final JSON output should be:\n",
    "{{\n",
    "  \"entities\": [\n",
    "    {{\n",
    "      \"entity_title\": \"New York\",\n",
    "      \"entity_salience\": \"1\"\n",
    "    }},\n",
    "    {{\n",
    "      \"entity_title\": \"Eric Massa\",\n",
    "      \"entity_salience\": \"0\"\n",
    "    }},\n",
    "    {{\n",
    "      \"entity_title\": \"Congressman\",\n",
    "      \"entity_salience\": \"1\"\n",
    "    }},\n",
    "    {{\n",
    "      \"entity_title\": \"New York\",\n",
    "      \"entity_salience\": \"1\"\n",
    "    }},\n",
    "    {{\n",
    "      \"entity_title\": \"29th congressional district\",\n",
    "      \"entity_salience\": \"0\"\n",
    "    }},\n",
    "    {{\n",
    "      \"entity_title\": \"United States\",\n",
    "      \"entity_salience\": \"1\"\n",
    "    }},\n",
    "    {{\n",
    "      \"entity_title\": \"sexual harassment\",\n",
    "      \"entity_salience\": \"0\"\n",
    "    }}\n",
    "  ]\n",
    "}}\n",
    "\n",
    "Before producing the final JSON output, please think through your reasoning for each extracted entity. Identify each entity mentioned in the article and decide if it is central (salience 1) or only mentioned (salience 0) based solely on the article title and text. Do not output your internal reasoning.\n",
    "\n",
    "Now, based on the article below, return only the final JSON answer (with no extra commentary or questions). Use the exact format below:\n",
    "\n",
    "{{\n",
    "  \"entities\": [\n",
    "    {{\n",
    "      \"entity_title\": \"<entity_name>\",\n",
    "      \"entity_salience\": \"<0 or 1>\"\n",
    "    }},\n",
    "    ...\n",
    "  ]\n",
    "}}\n",
    "\n",
    "---------------------\n",
    "Article Title: {title}\n",
    "Article Text: {article}\n",
    "---------------------\n",
    "\n",
    "<|eot_id|><|start_header_id|>assistant<|end_header_id|>\n",
    "\"\"\""
   ]
  },
  {
   "cell_type": "markdown",
   "id": "aff03787-cde8-413d-a235-1e77625504ac",
   "metadata": {
    "jp-MarkdownHeadingCollapsed": true,
    "tags": []
   },
   "source": [
    "### Zephyr-7b prompt"
   ]
  },
  {
   "cell_type": "code",
   "execution_count": 7,
   "id": "b782596d-aa23-41ad-a232-00dd326f027f",
   "metadata": {},
   "outputs": [],
   "source": [
    "few_shot_zephyr_prompt = \"\"\"\n",
    "<|system|>\n",
    "You are an expert news article analysis assistant in entity recognition and reading comprehension.\n",
    "I need you to extract entities from an article and assign a salience score to each one. The salience score indicates how central the entity is to the article: use 1 for salient entities and 0 for entities mentioned only in passing.\n",
    "Below are two examples:\n",
    "\n",
    "Example 1:\n",
    "---------------------\n",
    "Article Title: Laws allowing same sex marriage in Washington, D.C. go into effect\n",
    "Article Text: The United States capital of Washington, D.C. legalized same-sex marriage on Wednesday. Beginning at 6 A.M. local time (1100 UTC), couples began submitting marriage applications at local courthouses citywide. Washington D.C. becomes the seventh United States territory to legalize same sex marriage. The bill was ratified by Mayor Adrian Fenty last December. Due to city's territorial status as a federal district, the bill had to be reviewed by congress. The bill passed congressional review Tuesday night. The bill faced opposition from many family values activists, who tried to stop the bill from becoming law. Supreme Court Chief Justice John Roberts rejected a lawsuit to prevent the measure.\n",
    "Final JSON Output:\n",
    "{{\n",
    "  \"entities\": [\n",
    "    {{\n",
    "      \"entity_title\": \"United States\",\n",
    "      \"entity_salience\": \"1\"\n",
    "    }},\n",
    "    {{\n",
    "      \"entity_title\": \"Washington, D.C.\",\n",
    "      \"entity_salience\": \"1\"\n",
    "    }},\n",
    "    {{\n",
    "      \"entity_title\": \"same-sex marriage\",\n",
    "      \"entity_salience\": \"0\"\n",
    "    }},\n",
    "    {{\n",
    "      \"entity_title\": \"Adrian Fenty\",\n",
    "      \"entity_salience\": \"0\"\n",
    "    }},\n",
    "    {{\n",
    "      \"entity_title\": \"federal district\",\n",
    "      \"entity_salience\": \"0\"\n",
    "    }},\n",
    "    {{\n",
    "      \"entity_title\": \"family values\",\n",
    "      \"entity_salience\": \"0\"\n",
    "    }},\n",
    "    {{\n",
    "      \"entity_title\": \"John Roberts\",\n",
    "      \"entity_salience\": \"0\"\n",
    "    }}\n",
    "  ]\n",
    "}}\n",
    "\n",
    "User: Example 2:\n",
    "---------------------\n",
    "Article Title: New York Representative Eric Massa to retire\n",
    "Article Text: New York Representative Eric Massa announced Wednesday that he would be stepping down as Congressman from New York's 29th congressional district. He cited health reasons for the sudden announcement. Massa is the latest in a string of United States Congresspeople to resign or not to seek reelection in 2010. He said that he had his third non-specific cancer recurrence in December 2009. He implied that his cancer is terminal, saying “I will now enter the final phase of my life at a more controlled pace.” He denied claims that his resignation is related to a sexual harassment accusation from a male aide. He said that this was untrue, although he admitted to using so called salty language.\n",
    "Final JSON Output:Assistant: Based on the above, the final JSON output should be:\n",
    "{{\n",
    "  \"entities\": [\n",
    "    {{\n",
    "      \"entity_title\": \"New York\",\n",
    "      \"entity_salience\": \"1\"\n",
    "    }},\n",
    "    {{\n",
    "      \"entity_title\": \"Eric Massa\",\n",
    "      \"entity_salience\": \"0\"\n",
    "    }},\n",
    "    {{\n",
    "      \"entity_title\": \"Congressman\",\n",
    "      \"entity_salience\": \"1\"\n",
    "    }},\n",
    "    {{\n",
    "      \"entity_title\": \"New York\",\n",
    "      \"entity_salience\": \"1\"\n",
    "    }},\n",
    "    {{\n",
    "      \"entity_title\": \"29th congressional district\",\n",
    "      \"entity_salience\": \"0\"\n",
    "    }},\n",
    "    {{\n",
    "      \"entity_title\": \"United States\",\n",
    "      \"entity_salience\": \"1\"\n",
    "    }},\n",
    "    {{\n",
    "      \"entity_title\": \"sexual harassment\",\n",
    "      \"entity_salience\": \"0\"\n",
    "    }}\n",
    "  ]\n",
    "}}\n",
    "\n",
    "Before producing the final JSON output, please think through your reasoning for each extracted entity. Identify each entity mentioned in the article and decide if it is central (salience 1) or only mentioned (salience 0) based solely on the article title and text. Do not output your internal reasoning.\n",
    "\n",
    "Now, based on the article below, return only the final JSON answer (with no extra commentary or questions). Use the exact format below:\n",
    "\n",
    "{{\n",
    "  \"entities\": [\n",
    "    {{\n",
    "      \"entity_title\": \"<entity_name>\",\n",
    "      \"entity_salience\": \"<0 or 1>\"\n",
    "    }},\n",
    "    ...\n",
    "  ]\n",
    "}}\n",
    "\n",
    "</s>\n",
    "<|user|>\n",
    "Based on the article below, extract entities and assign salience scores. Output only the final JSON result. (Use the exact JSON format specified.)\n",
    "---------------------\n",
    "Article Title: {title}\n",
    "Article Text: {article}\n",
    "---------------------\n",
    "</s>\n",
    "<|assistant|>\n",
    "\"\"\""
   ]
  },
  {
   "cell_type": "markdown",
   "id": "8a3407ab-2e05-42ee-8cbc-fa7e6d3f5553",
   "metadata": {
    "tags": []
   },
   "source": [
    "## Generate response"
   ]
  },
  {
   "cell_type": "code",
   "execution_count": 8,
   "id": "01758192-f46d-4322-9107-28a405be4480",
   "metadata": {},
   "outputs": [
    {
     "data": {
      "text/plain": [
       "'\\n<|system|>\\nYou are an expert news article analysis assistant in entity recognition and reading comprehension.\\nI need you to extract entities from an article and assign a salience score to each one. The salience score indicates how central the entity is to the article: use 1 for salient entities and 0 for entities mentioned only in passing.\\nBelow are two examples:\\n\\nExample 1:\\n---------------------\\nArticle Title: Laws allowing same sex marriage in Washington, D.C. go into effect\\nArticle Text: The United States capital of Washington, D.C. legalized same-sex marriage on Wednesday. Beginning at 6 A.M. local time (1100 UTC), couples began submitting marriage applications at local courthouses citywide. Washington D.C. becomes the seventh United States territory to legalize same sex marriage. The bill was ratified by Mayor Adrian Fenty last December. Due to city\\'s territorial status as a federal district, the bill had to be reviewed by congress. The bill passed congressional review Tuesday night. The bill faced opposition from many family values activists, who tried to stop the bill from becoming law. Supreme Court Chief Justice John Roberts rejected a lawsuit to prevent the measure.\\nFinal JSON Output:\\n{\\n  \"entities\": [\\n    {\\n      \"entity_title\": \"United States\",\\n      \"entity_salience\": \"1\"\\n    },\\n    {\\n      \"entity_title\": \"Washington, D.C.\",\\n      \"entity_salience\": \"1\"\\n    },\\n    {\\n      \"entity_title\": \"same-sex marriage\",\\n      \"entity_salience\": \"0\"\\n    },\\n    {\\n      \"entity_title\": \"Adrian Fenty\",\\n      \"entity_salience\": \"0\"\\n    },\\n    {\\n      \"entity_title\": \"federal district\",\\n      \"entity_salience\": \"0\"\\n    },\\n    {\\n      \"entity_title\": \"family values\",\\n      \"entity_salience\": \"0\"\\n    },\\n    {\\n      \"entity_title\": \"John Roberts\",\\n      \"entity_salience\": \"0\"\\n    }\\n  ]\\n}\\n\\nUser: Example 2:\\n---------------------\\nArticle Title: New York Representative Eric Massa to retire\\nArticle Text: New York Representative Eric Massa announced Wednesday that he would be stepping down as Congressman from New York\\'s 29th congressional district. He cited health reasons for the sudden announcement. Massa is the latest in a string of United States Congresspeople to resign or not to seek reelection in 2010. He said that he had his third non-specific cancer recurrence in December 2009. He implied that his cancer is terminal, saying “I will now enter the final phase of my life at a more controlled pace.” He denied claims that his resignation is related to a sexual harassment accusation from a male aide. He said that this was untrue, although he admitted to using so called salty language.\\nFinal JSON Output:Assistant: Based on the above, the final JSON output should be:\\n{\\n  \"entities\": [\\n    {\\n      \"entity_title\": \"New York\",\\n      \"entity_salience\": \"1\"\\n    },\\n    {\\n      \"entity_title\": \"Eric Massa\",\\n      \"entity_salience\": \"0\"\\n    },\\n    {\\n      \"entity_title\": \"Congressman\",\\n      \"entity_salience\": \"1\"\\n    },\\n    {\\n      \"entity_title\": \"New York\",\\n      \"entity_salience\": \"1\"\\n    },\\n    {\\n      \"entity_title\": \"29th congressional district\",\\n      \"entity_salience\": \"0\"\\n    },\\n    {\\n      \"entity_title\": \"United States\",\\n      \"entity_salience\": \"1\"\\n    },\\n    {\\n      \"entity_title\": \"sexual harassment\",\\n      \"entity_salience\": \"0\"\\n    }\\n  ]\\n}\\n\\nBefore producing the final JSON output, please think through your reasoning for each extracted entity. Identify each entity mentioned in the article and decide if it is central (salience 1) or only mentioned (salience 0) based solely on the article title and text. Do not output your internal reasoning.\\n\\nNow, based on the article below, return only the final JSON answer (with no extra commentary or questions). Use the exact format below:\\n\\n{\\n  \"entities\": [\\n    {\\n      \"entity_title\": \"<entity_name>\",\\n      \"entity_salience\": \"<0 or 1>\"\\n    },\\n    ...\\n  ]\\n}\\n\\n</s>\\n<|user|>\\nBased on the article below, extract entities and assign salience scores. Output only the final JSON result. (Use the exact JSON format specified.)\\n---------------------\\nArticle Title: Euro reaches ten month low against US dollar\\nArticle Text: The euro reached a ten-month low against the US dollar earlier today over concerns about Greece\\'s debt crisis. The euro traded at US$1.3436 in the morning, \\na level not seen since May of last year, although it finished the day back up at $1.3606. It was, however, up 0.6% against the British pound, at 90.76 pence. The pound also fell today, \\nreaching a trading level of $1.4936 after a loss of 0.4%.The spike lower this morning indicates market nervousness about the prospects of a Greek bailout - the message coming out of \\nEurope is still confused, commented an analysts for CMC Markets, Michael Hewson, as quoted by Agence France-Presse.\\n\\n---------------------\\n</s>\\n<|assistant|>\\n'"
      ]
     },
     "execution_count": 8,
     "metadata": {},
     "output_type": "execute_result"
    }
   ],
   "source": [
    "# messages = [\n",
    "#     {\"role\": \"system\", \"content\": system_prompt},\n",
    "#     {\"role\": \"user\", \"content\": few_shot_prompt},\n",
    "# ]\n",
    "\n",
    "# combined_prompt = f\"{system_prompt}\\n\\n{few_shot_prompt}\"\n",
    "# combined_prompt\n",
    "# few_shot_prompt\n",
    "prompt = few_shot_zephyr_prompt.format(title=title, article=article)\n",
    "prompt"
   ]
  },
  {
   "cell_type": "code",
   "execution_count": 11,
   "id": "82dd7541-e191-4373-9f25-197cdbef8056",
   "metadata": {},
   "outputs": [
    {
     "name": "stderr",
     "output_type": "stream",
     "text": [
      "Processed prompts: 100%|██████████| 1/1 [00:03<00:00,  3.78s/it, est. speed input: 349.03 toks/s, output: 33.61 toks/s]\n"
     ]
    }
   ],
   "source": [
    "# Generate outputs using the vllm model\n",
    "outputs = llm.generate(prompts=prompt, sampling_params=sampling_params)"
   ]
  },
  {
   "cell_type": "code",
   "execution_count": 13,
   "id": "6eff0cb1-218e-478c-b76d-5c2a6394857c",
   "metadata": {},
   "outputs": [
    {
     "data": {
      "text/plain": [
       "'{\\n  \"entities\": [\\n    {\\n      \"entity_title\": \"euro\",\\n      \"entity_salience\": \"1\"\\n    },\\n    {\\n      \"entity_title\": \"US dollar\",\\n      \"entity_salience\": \"1\"\\n    },\\n    {\\n      \"entity_title\": \"Greece\",\\n      \"entity_salience\": \"1\"\\n    },\\n    {\\n      \"entity_title\": \"British pound\",\\n      \"entity_salience\": \"0\"\\n    }\\n  ]'"
      ]
     },
     "execution_count": 13,
     "metadata": {},
     "output_type": "execute_result"
    }
   ],
   "source": [
    "outputs[0].outputs[0].text"
   ]
  },
  {
   "cell_type": "code",
   "execution_count": 14,
   "id": "6538da1f-fb1a-44dc-b97b-1c819316c1a3",
   "metadata": {},
   "outputs": [
    {
     "data": {
      "text/plain": [
       "{'entities': [{'entity_title': 'euro', 'entity_salience': '1'},\n",
       "  {'entity_title': 'US dollar', 'entity_salience': '1'},\n",
       "  {'entity_title': 'Greece', 'entity_salience': '1'},\n",
       "  {'entity_title': 'British pound', 'entity_salience': '0'}]}"
      ]
     },
     "execution_count": 14,
     "metadata": {},
     "output_type": "execute_result"
    }
   ],
   "source": [
    "clean_incomplete_json(outputs[0].outputs[0].text)"
   ]
  },
  {
   "cell_type": "markdown",
   "id": "a8770d4e-f7bd-4b1c-903b-16d7a058c09a",
   "metadata": {},
   "source": [
    "## Over entire dataset"
   ]
  },
  {
   "cell_type": "code",
   "execution_count": 17,
   "id": "59ca7f55-bc38-477c-970d-eb085f7c49ce",
   "metadata": {},
   "outputs": [
    {
     "data": {
      "text/html": [
       "<div>\n",
       "<style scoped>\n",
       "    .dataframe tbody tr th:only-of-type {\n",
       "        vertical-align: middle;\n",
       "    }\n",
       "\n",
       "    .dataframe tbody tr th {\n",
       "        vertical-align: top;\n",
       "    }\n",
       "\n",
       "    .dataframe thead th {\n",
       "        text-align: right;\n",
       "    }\n",
       "</style>\n",
       "<table border=\"1\" class=\"dataframe\">\n",
       "  <thead>\n",
       "    <tr style=\"text-align: right;\">\n",
       "      <th></th>\n",
       "      <th>text</th>\n",
       "      <th>title</th>\n",
       "      <th>entities</th>\n",
       "    </tr>\n",
       "  </thead>\n",
       "  <tbody>\n",
       "    <tr>\n",
       "      <th>0</th>\n",
       "      <td>The United States capital of Washington, D.C. ...</td>\n",
       "      <td>Laws allowing same sex marriage in Washington,...</td>\n",
       "      <td>[{'entity title': 'United States', 'entity sal...</td>\n",
       "    </tr>\n",
       "    <tr>\n",
       "      <th>1</th>\n",
       "      <td>New York Representative Eric Massa announced W...</td>\n",
       "      <td>New York Representative Eric Massa to retire</td>\n",
       "      <td>[{'entity title': 'New York', 'entity salience...</td>\n",
       "    </tr>\n",
       "    <tr>\n",
       "      <th>2</th>\n",
       "      <td>Canadian airline Air Canada has said that it w...</td>\n",
       "      <td>Air Canada to lay off over a thousand machinists</td>\n",
       "      <td>[{'entity title': 'Canadian', 'entity salience...</td>\n",
       "    </tr>\n",
       "    <tr>\n",
       "      <th>3</th>\n",
       "      <td>Former Bosnian president Dr. Ejup Ganić was ar...</td>\n",
       "      <td>Former Bosnian president arrested in London</td>\n",
       "      <td>[{'entity title': 'Bosnian', 'entity salience'...</td>\n",
       "    </tr>\n",
       "    <tr>\n",
       "      <th>4</th>\n",
       "      <td>The euro reached a ten-month low against the U...</td>\n",
       "      <td>Euro reaches ten month low against US dollar</td>\n",
       "      <td>[{'entity title': 'euro', 'entity salience': '...</td>\n",
       "    </tr>\n",
       "    <tr>\n",
       "      <th>...</th>\n",
       "      <td>...</td>\n",
       "      <td>...</td>\n",
       "      <td>...</td>\n",
       "    </tr>\n",
       "    <tr>\n",
       "      <th>5383</th>\n",
       "      <td>Wildfires in California continued to spread on...</td>\n",
       "      <td>California wildfires continue to spread</td>\n",
       "      <td>[{'entity title': 'California', 'entity salien...</td>\n",
       "    </tr>\n",
       "    <tr>\n",
       "      <th>5384</th>\n",
       "      <td>American-based online retailer Amazon.com has ...</td>\n",
       "      <td>Amazon dips into memory hole to retrieve Orwel...</td>\n",
       "      <td>[{'entity title': 'American', 'entity salience...</td>\n",
       "    </tr>\n",
       "    <tr>\n",
       "      <th>5385</th>\n",
       "      <td>According to the United Nations' humanitarian ...</td>\n",
       "      <td>Thousands displaced after heavy flooding in Bu...</td>\n",
       "      <td>[{'entity title': 'United Nations', 'entity sa...</td>\n",
       "    </tr>\n",
       "    <tr>\n",
       "      <th>5386</th>\n",
       "      <td>English author and playwright Keith Waterhouse...</td>\n",
       "      <td>Author and playwright Keith Waterhouse dies at 80</td>\n",
       "      <td>[{'entity title': 'English', 'entity salience'...</td>\n",
       "    </tr>\n",
       "    <tr>\n",
       "      <th>5387</th>\n",
       "      <td>Google has reached an agreement with the Unite...</td>\n",
       "      <td>Music videos return to UK version of YouTube a...</td>\n",
       "      <td>[{'entity title': 'Google', 'entity salience':...</td>\n",
       "    </tr>\n",
       "  </tbody>\n",
       "</table>\n",
       "<p>5388 rows × 3 columns</p>\n",
       "</div>"
      ],
      "text/plain": [
       "                                                   text  \\\n",
       "0     The United States capital of Washington, D.C. ...   \n",
       "1     New York Representative Eric Massa announced W...   \n",
       "2     Canadian airline Air Canada has said that it w...   \n",
       "3     Former Bosnian president Dr. Ejup Ganić was ar...   \n",
       "4     The euro reached a ten-month low against the U...   \n",
       "...                                                 ...   \n",
       "5383  Wildfires in California continued to spread on...   \n",
       "5384  American-based online retailer Amazon.com has ...   \n",
       "5385  According to the United Nations' humanitarian ...   \n",
       "5386  English author and playwright Keith Waterhouse...   \n",
       "5387  Google has reached an agreement with the Unite...   \n",
       "\n",
       "                                                  title  \\\n",
       "0     Laws allowing same sex marriage in Washington,...   \n",
       "1          New York Representative Eric Massa to retire   \n",
       "2      Air Canada to lay off over a thousand machinists   \n",
       "3           Former Bosnian president arrested in London   \n",
       "4          Euro reaches ten month low against US dollar   \n",
       "...                                                 ...   \n",
       "5383            California wildfires continue to spread   \n",
       "5384  Amazon dips into memory hole to retrieve Orwel...   \n",
       "5385  Thousands displaced after heavy flooding in Bu...   \n",
       "5386  Author and playwright Keith Waterhouse dies at 80   \n",
       "5387  Music videos return to UK version of YouTube a...   \n",
       "\n",
       "                                               entities  \n",
       "0     [{'entity title': 'United States', 'entity sal...  \n",
       "1     [{'entity title': 'New York', 'entity salience...  \n",
       "2     [{'entity title': 'Canadian', 'entity salience...  \n",
       "3     [{'entity title': 'Bosnian', 'entity salience'...  \n",
       "4     [{'entity title': 'euro', 'entity salience': '...  \n",
       "...                                                 ...  \n",
       "5383  [{'entity title': 'California', 'entity salien...  \n",
       "5384  [{'entity title': 'American', 'entity salience...  \n",
       "5385  [{'entity title': 'United Nations', 'entity sa...  \n",
       "5386  [{'entity title': 'English', 'entity salience'...  \n",
       "5387  [{'entity title': 'Google', 'entity salience':...  \n",
       "\n",
       "[5388 rows x 3 columns]"
      ]
     },
     "execution_count": 17,
     "metadata": {},
     "output_type": "execute_result"
    }
   ],
   "source": [
    "file_path = \"/project/pi_wenlongzhao_umass_edu/8/data/WN_salience_train.json\"\n",
    "df = load_dataset(file_path)\n",
    "df"
   ]
  },
  {
   "cell_type": "code",
   "execution_count": 18,
   "id": "82af3f85-89d7-4c41-8cc8-444e567d109a",
   "metadata": {},
   "outputs": [],
   "source": [
    "articles = list(df['text'])\n",
    "titles = list(df['title'])"
   ]
  },
  {
   "cell_type": "code",
   "execution_count": 19,
   "id": "a134a56b-f28a-4f55-bbdf-5728d5eb6f0a",
   "metadata": {},
   "outputs": [
    {
     "data": {
      "text/plain": [
       "(5388, 5388)"
      ]
     },
     "execution_count": 19,
     "metadata": {},
     "output_type": "execute_result"
    }
   ],
   "source": [
    "len(articles), len(titles)"
   ]
  },
  {
   "cell_type": "code",
   "execution_count": 20,
   "id": "6a4691eb-893a-4d47-b317-5f294a8da0b3",
   "metadata": {},
   "outputs": [],
   "source": [
    "combined_prompts = []\n",
    "for title, article in zip(titles, articles):\n",
    "    prompt = few_shot_zephyr_prompt.format(title=title, article=article)\n",
    "    combined_prompts.append(prompt)"
   ]
  },
  {
   "cell_type": "code",
   "execution_count": 22,
   "id": "801c1ada-6999-45cf-95d4-c2d61faa8fa6",
   "metadata": {},
   "outputs": [
    {
     "data": {
      "text/plain": [
       "5388"
      ]
     },
     "execution_count": 22,
     "metadata": {},
     "output_type": "execute_result"
    }
   ],
   "source": [
    "len(combined_prompts)"
   ]
  },
  {
   "cell_type": "code",
   "execution_count": 23,
   "id": "3a391902-21f8-460b-a894-99838ae2dff1",
   "metadata": {},
   "outputs": [
    {
     "name": "stderr",
     "output_type": "stream",
     "text": [
      "Processed prompts:   0%|          | 0/5388 [00:00<?, ?it/s, est. speed input: 0.00 toks/s, output: 0.00 toks/s]"
     ]
    },
    {
     "name": "stdout",
     "output_type": "stream",
     "text": [
      "WARNING 03-18 02:39:20 scheduler.py:1754] Sequence group 121 is preempted by PreemptionMode.RECOMPUTE mode because there is not enough KV cache space. This can affect the end-to-end performance. Increase gpu_memory_utilization or tensor_parallel_size to provide more KV cache memory. total_num_cumulative_preemption=1\n"
     ]
    },
    {
     "name": "stderr",
     "output_type": "stream",
     "text": [
      "Processed prompts: 100%|██████████| 5388/5388 [1:10:11<00:00,  1.28it/s, est. speed input: 2069.48 toks/s, output: 357.90 toks/s]\n"
     ]
    }
   ],
   "source": [
    "outputs = llm.generate(prompts=combined_prompts, sampling_params=sampling_params)"
   ]
  },
  {
   "cell_type": "code",
   "execution_count": 27,
   "id": "7bce08bd-9c73-4baa-a798-6930aaaebeb0",
   "metadata": {},
   "outputs": [
    {
     "name": "stdout",
     "output_type": "stream",
     "text": [
      "Skipping invalid entity: {\n",
      "      \"entity_title\": \"Star Wars \"Celebration V\" Convention\",\n",
      "      \"entity_salience\": \"0\"\n",
      "    }\n",
      "Skipping invalid entity: {\n",
      "      \"entity_title\": \"St Thomas\" Hospital\",\n",
      "      \"entity_salience\": \"0\"\n",
      "    }\n",
      "Skipping invalid entity: {\n",
      "      \"entity_title\": \"Brussels\" airport\",\n",
      "      \"entity_salience\": \"0\"\n",
      "    }\n",
      "Skipping invalid entity: {\n",
      "      \"entity_title\": \"Pathway Home veterans\" psychiatric center\",\n",
      "      \"entity_salience\": \"1\"\n",
      "    }\n",
      "Error: No valid JSON-like content found in the response.\n",
      "Error: No valid JSON-like content found in the response.\n",
      "Error: No valid JSON-like content found in the response.\n",
      "Error: No valid JSON-like content found in the response.\n",
      "Skipping invalid entity: {\n",
      "      \"entity_title\": \"Workers\" Youth League\",\n",
      "      \"entity_salience\": \"0\"\n",
      "    }\n",
      "Skipping invalid entity: {\n",
      "      \"entity_title\": \"David \"Comedy Dave\" Vitty\",\n",
      "      \"entity_salience\": \"1\"\n",
      "    }\n",
      "Skipping invalid entity: {\n",
      "      \"entity_title\": \"Aarons\" 499\",\n",
      "      \"entity_salience\": \"1\"\n",
      "    }\n",
      "Skipping invalid entity: {\n",
      "      \"entity_title\": \"City of Westminster Magistrates\" Court\",\n",
      "      \"entity_salience\": \"0\"\n",
      "    }\n",
      "Skipping invalid entity: {\n",
      "      \"entity_title\": \"Paris\" Charles de Gaulle Airport\",\n",
      "      \"entity_salience\": \"0\"\n",
      "    }\n",
      "Skipping invalid entity: {\n",
      "      \"entity_title\": \"O\" sole mio\",\n",
      "      \"entity_salience\": \"0\"\n",
      "    }\n",
      "Skipping invalid entity: {\n",
      "      \"entity_title\": \"al-Aqsa Martyrs\" Brigades\",\n",
      "      \"entity_salience\": \"0\"\n",
      "    }\n",
      "Skipping invalid entity: {\n",
      "      \"entity_title\": \"Workers\" Party\",\n",
      "      \"entity_salience\": \"0\"\n",
      "    }\n",
      "Skipping invalid entity: {\n",
      "      \"entity_title\": \"Martyrs\" Square\",\n",
      "      \"entity_salience\": \"1\"\n",
      "    }\n",
      "Skipping invalid entity: {\n",
      "      \"entity_title\": \"PT (Workers\" Party)\",\n",
      "      \"entity_salience\": \"0\"\n",
      "    }\n",
      "Skipping invalid entity: {\n",
      "      \"entity_title\": \"Spanish Socialist Workers\" Party\",\n",
      "      \"entity_salience\": \"1\"\n",
      "    }\n",
      "Skipping invalid entity: {\n",
      "      \"entity_title\": \"Andrew \"weev\" Auernheimer\",\n",
      "      \"entity_salience\": \"1\"\n",
      "    }\n",
      "Skipping invalid entity: {\n",
      "      \"entity_title\": \"Students\" Jury Award\",\n",
      "      \"entity_salience\": \"1\"\n",
      "    }\n",
      "Skipping invalid entity: {\n",
      "      \"entity_title\": \"National Sheriffs\" Association\",\n",
      "      \"entity_salience\": \"0\"\n",
      "    }\n",
      "Skipping invalid entity: {\n",
      "      \"entity_title\": \"Lil\" Chris\",\n",
      "      \"entity_salience\": \"1\"\n",
      "    }\n",
      "Skipping invalid entity: {\n",
      "      \"entity_title\": \"South African National Editors\" Forum\",\n",
      "      \"entity_salience\": \"0\"\n",
      "    }\n",
      "Skipping invalid entity: {\n",
      "      \"entity_title\": \"Scots\" Church\",\n",
      "      \"entity_salience\": \"0\"\n",
      "    }\n",
      "Skipping invalid entity: {\n",
      "      \"entity_title\": \"Leaves\" Eyes\",\n",
      "      \"entity_salience\": \"0\"\n",
      "    }\n",
      "Skipping invalid entity: {\n",
      "      \"entity_title\": \"performers\" copyright terms\",\n",
      "      \"entity_salience\": \"1\"\n",
      "    }\n",
      "Skipping invalid entity: {\n",
      "      \"entity_title\": \"2008 Young Designers\" Exhibition\",\n",
      "      \"entity_salience\": \"1\"\n",
      "    }\n",
      "Skipping invalid entity: {\n",
      "      \"entity_title\": \"National Roads and Motorists\" Association\",\n",
      "      \"entity_salience\": \"0\"\n",
      "    }\n",
      "Skipping invalid entity: {\n",
      "      \"entity_title\": \"2008 Taiwan Designers\" Week\",\n",
      "      \"entity_salience\": \"0\"\n",
      "    }\n",
      "Skipping invalid entity: {\n",
      "      \"entity_title\": \"Big N\" Tasty burger\",\n",
      "      \"entity_salience\": \"0\"\n",
      "    }\n",
      "Skipping invalid entity: {\n",
      "      \"entity_title\": \"2008 Taiwan Designers\" Week\",\n",
      "      \"entity_salience\": \"1\"\n",
      "    }\n",
      "Skipping invalid entity: {\n",
      "      \"entity_title\": \"Taiwan Designers\" Web\",\n",
      "      \"entity_salience\": \"0\"\n",
      "    }\n",
      "Error: No valid JSON-like content found in the response.\n",
      "Skipping invalid entity: {\n",
      "      \"entity_title\": \"Swingers\" Club\",\n",
      "      \"entity_salience\": \"0\"\n",
      "    }\n",
      "Skipping invalid entity: {\n",
      "      \"entity_title\": \"warlords\" alliance\",\n",
      "      \"entity_salience\": \"0\"\n",
      "    }\n",
      "Skipping invalid entity: {\n",
      "      \"entity_title\": \"Singin\" in the Rain\",\n",
      "      \"entity_salience\": \"0\"\n",
      "    }\n",
      "Skipping invalid entity: {\n",
      "      \"entity_title\": \"European Law Students\" Association\",\n",
      "      \"entity_salience\": \"0\"\n",
      "    }\n",
      "Skipping invalid entity: {\n",
      "      \"entity_title\": \"I. Lewis \"Scooter\" Libby\",\n",
      "      \"entity_salience\": \"1\"\n",
      "    }\n",
      "Skipping invalid entity: {\n",
      "      \"entity_title\": \"citizens\" committee\",\n",
      "      \"entity_salience\": \"1\"\n",
      "    }\n",
      "Skipping invalid entity: {\n",
      "      \"entity_title\": \"Adventurers\" Grand Slam\",\n",
      "      \"entity_salience\": \"0\"\n",
      "    }\n",
      "Skipping invalid entity: {\n",
      "      \"entity_title\": \"Copyright (New Technologies and Performers\" Rights) Amendment Bill\",\n",
      "      \"entity_salience\": \"1\"\n",
      "    }\n",
      "Skipping invalid entity: {\n",
      "      \"entity_title\": \"performers\" Rights\",\n",
      "      \"entity_salience\": \"0\"\n",
      "    }\n",
      "Skipping invalid entity: {\n",
      "      \"entity_title\": \"tropical storm \"Pabuk\"\",\n",
      "      \"entity_salience\": \"0\"\n",
      "    }\n",
      "Error: No valid JSON-like content found in the response.\n",
      "Skipping invalid entity: {\n",
      "      \"entity_title\": \"International Workers\" Day\",\n",
      "      \"entity_salience\": \"1\"\n",
      "    }\n",
      "Skipping invalid entity: {\n",
      "      \"entity_title\": \"girls\" college\",\n",
      "      \"entity_salience\": \"0\"\n",
      "    }\n",
      "Skipping invalid entity: {\n",
      "      \"entity_title\": \"Corus\" Teesside Cast Products\",\n",
      "      \"entity_salience\": \"0\"\n",
      "    }\n",
      "Error: No valid JSON-like content found in the response.\n",
      "Skipping invalid entity: {\n",
      "      \"entity_title\": \"British Magistrates\" Association\",\n",
      "      \"entity_salience\": \"0\"\n",
      "    }\n",
      "Skipping invalid entity: {\n",
      "      \"entity_title\": \"Transport Salaried Staffs\" Association\",\n",
      "      \"entity_salience\": \"0\"\n",
      "    }\n",
      "Skipping invalid entity: {\n",
      "      \"entity_title\": \"Workers\" Climate Action\",\n",
      "      \"entity_salience\": \"0\"\n",
      "    }\n",
      "Skipping invalid entity: {\n",
      "      \"entity_title\": \"victims\" relatives\",\n",
      "      \"entity_salience\": \"0\"\n",
      "    }\n",
      "Skipping invalid entity: {\n",
      "      \"entity_title\": \"Australian Workers\" Union\",\n",
      "      \"entity_salience\": \"0\"\n",
      "    }\n",
      "Skipping invalid entity: {\n",
      "      \"entity_title\": \"A.B. \"Banjo\" Patterson\",\n",
      "      \"entity_salience\": \"0\"\n",
      "    }\n",
      "Error: No valid JSON-like content found in the response.\n",
      "Skipping invalid entity: {\n",
      "      \"entity_title\": \"St James\" Gate Brewery\",\n",
      "      \"entity_salience\": \"0\"\n",
      "    }\n"
     ]
    }
   ],
   "source": [
    "results = []\n",
    "for i, output in enumerate(outputs):\n",
    "    generated_text = output.outputs[0].text\n",
    "    response = clean_incomplete_json(generated_text)\n",
    "    results.append({\n",
    "        \"iteration\": i + 1,\n",
    "        \"generated_text\": generated_text,\n",
    "        \"entities\": response['entities']\n",
    "    })"
   ]
  },
  {
   "cell_type": "code",
   "execution_count": 28,
   "id": "42c4e7bd-25a2-4af7-abcb-7071fc7999dd",
   "metadata": {},
   "outputs": [
    {
     "data": {
      "text/plain": [
       "5388"
      ]
     },
     "execution_count": 28,
     "metadata": {},
     "output_type": "execute_result"
    }
   ],
   "source": [
    "len(results)"
   ]
  },
  {
   "cell_type": "code",
   "execution_count": 29,
   "id": "26f0008c-ee13-40d8-bf37-ed4686c2dae8",
   "metadata": {},
   "outputs": [
    {
     "data": {
      "text/plain": [
       "{'iteration': 1,\n",
       " 'generated_text': '{\\n  \"entities\": [\\n    {\\n      \"entity_title\": \"United States\",\\n      \"entity_salience\": \"1\"\\n    },\\n    {\\n      \"entity_title\": \"Washington, D.C.\",\\n      \"entity_salience\": \"1\"\\n    },\\n    {\\n      \"entity_title\": \"same-sex marriage\",\\n      \"entity_salience\": \"0\"\\n    },\\n    {\\n      \"entity_title\": \"Adrian Fenty\",\\n      \"entity_salience\": \"0\"\\n    },\\n    {\\n      \"entity_title\": \"federal district\",\\n      \"entity_salience\": \"0\"\\n    },\\n    {\\n      \"entity_title\": \"family values\",\\n      \"entity_salience\": \"0\"\\n    },\\n    {\\n      \"entity_title\": \"John Roberts\",\\n      \"entity_salience\": \"0\"\\n    }\\n  ]',\n",
       " 'entities': [{'entity_title': 'United States', 'entity_salience': '1'},\n",
       "  {'entity_title': 'Washington, D.C.', 'entity_salience': '1'},\n",
       "  {'entity_title': 'same-sex marriage', 'entity_salience': '0'},\n",
       "  {'entity_title': 'Adrian Fenty', 'entity_salience': '0'},\n",
       "  {'entity_title': 'federal district', 'entity_salience': '0'},\n",
       "  {'entity_title': 'family values', 'entity_salience': '0'},\n",
       "  {'entity_title': 'John Roberts', 'entity_salience': '0'}]}"
      ]
     },
     "execution_count": 29,
     "metadata": {},
     "output_type": "execute_result"
    }
   ],
   "source": [
    "results[0]"
   ]
  },
  {
   "cell_type": "code",
   "execution_count": 30,
   "id": "0c687a6c-7345-4af0-9822-5a0a1cd9e387",
   "metadata": {},
   "outputs": [
    {
     "name": "stdout",
     "output_type": "stream",
     "text": [
      "Weird data: {'0': 0, '1': 10}\n",
      "Weird data: {'0': 0, '1': 10}\n",
      "Weird data: {'0': 0, '1': 1}\n"
     ]
    },
    {
     "name": "stderr",
     "output_type": "stream",
     "text": [
      "Applied processor reduces input query to empty string, all comparisons will have score 0. [Query: '. ']\n"
     ]
    },
    {
     "name": "stdout",
     "output_type": "stream",
     "text": [
      "Weird data: {'1998': '1', '2007': '0'}\n",
      "Weird data: {'1998': '1', '2007': '0'}\n"
     ]
    },
    {
     "name": "stderr",
     "output_type": "stream",
     "text": [
      "/home/aranade_umass_edu/.conda/envs/intro/lib/python3.9/site-packages/sklearn/metrics/_classification.py:1565: UndefinedMetricWarning: Recall is ill-defined and being set to 0.0 in labels with no true samples. Use `zero_division` parameter to control this behavior.\n",
      "  _warn_prf(average, modifier, f\"{metric.capitalize()} is\", len(result))\n",
      "Applied processor reduces input query to empty string, all comparisons will have score 0. [Query: '€']\n"
     ]
    },
    {
     "name": "stdout",
     "output_type": "stream",
     "text": [
      "Instance-level errors (empty ground truth or model output): 8\n"
     ]
    }
   ],
   "source": [
    "ts = datetime.datetime.utcnow().isoformat()\n",
    "\n",
    "# Save the result (final outputs) as a JSON file\n",
    "save_outputs(results, f'outputs/{ts}.json')\n",
    "\n",
    "# Evaluate metrics (assuming evaluate_multiple_instances returns a serializable structure)\n",
    "metrics = evaluate_multiple_instances(df['entities'], results)\n",
    "save_outputs(metrics, f'metrics/{ts}.json')"
   ]
  },
  {
   "cell_type": "markdown",
   "id": "9d3eb13a-5584-470d-bedc-142cf1305824",
   "metadata": {},
   "source": [
    "## Check if any empty"
   ]
  },
  {
   "cell_type": "code",
   "execution_count": 32,
   "id": "57cd1ee0-1ac0-4be2-8580-d3e48832e674",
   "metadata": {},
   "outputs": [],
   "source": [
    "def check_empty_lists(file_path):\n",
    "    with open(file_path, \"r\", encoding=\"utf-8\") as f:\n",
    "        data = json.load(f)\n",
    "    \n",
    "    found_empty = False\n",
    "    # Assuming the top-level object is a list of dictionaries.\n",
    "    for i, item in enumerate(data):\n",
    "        for key, value in item.items():\n",
    "            if isinstance(value, list) and len(value) == 0:\n",
    "                print(f\"Empty list found in iteration {i+1} under key '{key}'.\")\n",
    "                found_empty = True\n",
    "\n",
    "    if not found_empty:\n",
    "        print(\"No empty lists found.\")\n",
    "    return found_empty"
   ]
  },
  {
   "cell_type": "code",
   "execution_count": 34,
   "id": "f5f0f527-951e-4180-bea5-6ff772e1d221",
   "metadata": {},
   "outputs": [
    {
     "name": "stdout",
     "output_type": "stream",
     "text": [
      "Empty list found in iteration 906 under key 'entities'.\n",
      "Empty list found in iteration 928 under key 'entities'.\n",
      "Empty list found in iteration 950 under key 'entities'.\n",
      "Empty list found in iteration 1005 under key 'entities'.\n",
      "Empty list found in iteration 3454 under key 'entities'.\n",
      "Empty list found in iteration 4681 under key 'entities'.\n",
      "Empty list found in iteration 5027 under key 'entities'.\n",
      "Empty list found in iteration 5269 under key 'entities'.\n"
     ]
    },
    {
     "data": {
      "text/plain": [
       "True"
      ]
     },
     "execution_count": 34,
     "metadata": {},
     "output_type": "execute_result"
    }
   ],
   "source": [
    "empty_exists = check_empty_lists(\"outputs/2025-03-18T03:49:22.363424.json\")\n",
    "empty_exists"
   ]
  },
  {
   "cell_type": "code",
   "execution_count": null,
   "id": "1b5cc9df-8837-434f-99c2-12b8eedd1277",
   "metadata": {},
   "outputs": [],
   "source": []
  }
 ],
 "metadata": {
  "kernelspec": {
   "display_name": "baseline-salient-entities",
   "language": "python",
   "name": "baseline"
  },
  "language_info": {
   "codemirror_mode": {
    "name": "ipython",
    "version": 3
   },
   "file_extension": ".py",
   "mimetype": "text/x-python",
   "name": "python",
   "nbconvert_exporter": "python",
   "pygments_lexer": "ipython3",
   "version": "3.9.21"
  }
 },
 "nbformat": 4,
 "nbformat_minor": 5
}
