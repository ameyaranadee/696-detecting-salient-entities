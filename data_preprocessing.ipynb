{
 "cells": [
  {
   "cell_type": "code",
   "execution_count": 1,
   "id": "57ef9964-a4c1-4f97-89c5-bb560a1012e7",
   "metadata": {},
   "outputs": [],
   "source": [
    "import os\n",
    "import re\n",
    "import ast\n",
    "import json\n",
    "import spacy\n",
    "import pickle\n",
    "import difflib\n",
    "import requests\n",
    "import datetime\n",
    "import jsonlines\n",
    "import numpy as np\n",
    "import pandas as pd"
   ]
  },
  {
   "cell_type": "code",
   "execution_count": 23,
   "id": "9dc0b891-627d-4f01-b18d-c751a5fc0e39",
   "metadata": {},
   "outputs": [],
   "source": [
    "wn_val_pkl = \"/work/pi_wenlongzhao_umass_edu/8/696-detecting-salient-entities/data/WN_pkl/WN_salience_ValSplit.pkl\"\n",
    "wn_val = \"/work/pi_wenlongzhao_umass_edu/8/696-detecting-salient-entities/data/WN_csv/WN_salience_ValSplit.csv\""
   ]
  },
  {
   "cell_type": "code",
   "execution_count": 25,
   "id": "60daf449-2f70-4135-b192-fcd6fbf1b13e",
   "metadata": {},
   "outputs": [
    {
     "name": "stderr",
     "output_type": "stream",
     "text": [
      "/tmp/ipykernel_713689/3817052386.py:2: DeprecationWarning: numpy.core.numeric is deprecated and has been renamed to numpy._core.numeric. The numpy._core namespace contains private NumPy internals and its use is discouraged, as NumPy internals can change without warning in any release. In practice, most real-world usage of numpy.core is to access functionality in the public NumPy API. If that is the case, use the public NumPy API. If not, you are using NumPy internals. If you would still like to access an internal attribute, use numpy._core.numeric._frombuffer.\n",
      "  wn_val_pkl = pickle.load(f)\n"
     ]
    }
   ],
   "source": [
    "with open(wn_val_pkl, \"rb\") as f:\n",
    "    wn_val_pkl = pickle.load(f)"
   ]
  },
  {
   "cell_type": "code",
   "execution_count": 26,
   "id": "2a2b6dbe-e1bb-4bf2-8352-d45bc41a8dcb",
   "metadata": {},
   "outputs": [
    {
     "name": "stdout",
     "output_type": "stream",
     "text": [
      "<class 'pandas.core.frame.DataFrame'>\n",
      "RangeIndex: 15644 entries, 0 to 15643\n",
      "Data columns (total 7 columns):\n",
      " #   Column           Non-Null Count  Dtype         \n",
      "---  ------           --------------  -----         \n",
      " 0   text             15644 non-null  object        \n",
      " 1   date             15644 non-null  datetime64[ns]\n",
      " 2   title            15644 non-null  object        \n",
      " 3   entity title     15603 non-null  object        \n",
      " 4   entity salience  15644 non-null  int64         \n",
      " 5   offsets          15644 non-null  object        \n",
      " 6   url              15544 non-null  object        \n",
      "dtypes: datetime64[ns](1), int64(1), object(5)\n",
      "memory usage: 855.7+ KB\n"
     ]
    }
   ],
   "source": [
    "wn_val_pkl.info()"
   ]
  },
  {
   "cell_type": "code",
   "execution_count": 29,
   "id": "a16ced80-b400-4cd3-92d3-acb574de2102",
   "metadata": {},
   "outputs": [
    {
     "name": "stdout",
     "output_type": "stream",
     "text": [
      "<class 'pandas.core.frame.DataFrame'>\n",
      "Index: 41 entries, 193 to 14029\n",
      "Data columns (total 7 columns):\n",
      " #   Column           Non-Null Count  Dtype         \n",
      "---  ------           --------------  -----         \n",
      " 0   text             41 non-null     object        \n",
      " 1   date             41 non-null     datetime64[ns]\n",
      " 2   title            41 non-null     object        \n",
      " 3   entity title     0 non-null      object        \n",
      " 4   entity salience  41 non-null     int64         \n",
      " 5   offsets          41 non-null     object        \n",
      " 6   url              1 non-null      object        \n",
      "dtypes: datetime64[ns](1), int64(1), object(5)\n",
      "memory usage: 2.6+ KB\n"
     ]
    }
   ],
   "source": [
    "wn_val_pkl[wn_val_pkl['entity title'].isna()==True].info()"
   ]
  },
  {
   "cell_type": "code",
   "execution_count": 32,
   "id": "5938a587-9422-4ff6-9085-aac1f401f937",
   "metadata": {},
   "outputs": [],
   "source": [
    "wn_val = pd.read_csv(wn_val)"
   ]
  },
  {
   "cell_type": "code",
   "execution_count": 14,
   "id": "85807d3a-871c-4608-81ae-af04a68e7c6b",
   "metadata": {},
   "outputs": [],
   "source": [
    "column_mapping = {\n",
    "    'text': 'article_text',\n",
    "    'title': 'article_title',\n",
    "    'entity title': 'entity_title',\n",
    "    'entity salience': 'entity_salience'\n",
    "}\n",
    "wn_val.rename(columns=column_mapping, inplace=True)"
   ]
  },
  {
   "cell_type": "code",
   "execution_count": 33,
   "id": "99def49c-9fff-44f5-b2d4-bba52efb63f6",
   "metadata": {},
   "outputs": [
    {
     "name": "stdout",
     "output_type": "stream",
     "text": [
      "<class 'pandas.core.frame.DataFrame'>\n",
      "RangeIndex: 15524 entries, 0 to 15523\n",
      "Data columns (total 7 columns):\n",
      " #   Column           Non-Null Count  Dtype \n",
      "---  ------           --------------  ----- \n",
      " 0   text             15524 non-null  object\n",
      " 1   date             15524 non-null  object\n",
      " 2   title            15524 non-null  object\n",
      " 3   entity title     15523 non-null  object\n",
      " 4   entity salience  15524 non-null  int64 \n",
      " 5   offsets          15524 non-null  object\n",
      " 6   wiki_ID          15524 non-null  int64 \n",
      "dtypes: int64(2), object(5)\n",
      "memory usage: 849.1+ KB\n"
     ]
    }
   ],
   "source": [
    "wn_val.info()"
   ]
  },
  {
   "cell_type": "code",
   "execution_count": null,
   "id": "cd4fe00d-349f-4223-8750-566bf34d8b75",
   "metadata": {},
   "outputs": [],
   "source": [
    "wn_val.info()"
   ]
  },
  {
   "cell_type": "code",
   "execution_count": 37,
   "id": "6931b247-9d7d-4b7a-8da6-72e0c5beda07",
   "metadata": {},
   "outputs": [
    {
     "data": {
      "text/html": [
       "<div>\n",
       "<style scoped>\n",
       "    .dataframe tbody tr th:only-of-type {\n",
       "        vertical-align: middle;\n",
       "    }\n",
       "\n",
       "    .dataframe tbody tr th {\n",
       "        vertical-align: top;\n",
       "    }\n",
       "\n",
       "    .dataframe thead th {\n",
       "        text-align: right;\n",
       "    }\n",
       "</style>\n",
       "<table border=\"1\" class=\"dataframe\">\n",
       "  <thead>\n",
       "    <tr style=\"text-align: right;\">\n",
       "      <th></th>\n",
       "      <th>text</th>\n",
       "      <th>date</th>\n",
       "      <th>title</th>\n",
       "      <th>entity title</th>\n",
       "      <th>entity salience</th>\n",
       "      <th>offsets</th>\n",
       "      <th>wiki_ID</th>\n",
       "    </tr>\n",
       "  </thead>\n",
       "  <tbody>\n",
       "    <tr>\n",
       "      <th>13909</th>\n",
       "      <td>On Sunday in tennis's French Open men's single...</td>\n",
       "      <td>2017-06-13</td>\n",
       "      <td>¡La décima! Nadal again a French CHAMP10N</td>\n",
       "      <td>NaN</td>\n",
       "      <td>0</td>\n",
       "      <td>(277, 277)</td>\n",
       "      <td>-1</td>\n",
       "    </tr>\n",
       "  </tbody>\n",
       "</table>\n",
       "</div>"
      ],
      "text/plain": [
       "                                                    text        date  \\\n",
       "13909  On Sunday in tennis's French Open men's single...  2017-06-13   \n",
       "\n",
       "                                           title entity title  \\\n",
       "13909  ¡La décima! Nadal again a French CHAMP10N          NaN   \n",
       "\n",
       "       entity salience     offsets  wiki_ID  \n",
       "13909                0  (277, 277)       -1  "
      ]
     },
     "execution_count": 37,
     "metadata": {},
     "output_type": "execute_result"
    }
   ],
   "source": [
    "wn_val[wn_val['entity title'].isna()==True]\n",
    "# wn_val['entity_title'].unique()\n",
    "# wn_val[wn_val['wiki_ID'].isna()==True]"
   ]
  },
  {
   "cell_type": "code",
   "execution_count": null,
   "id": "ca6b0f59-700a-4e38-ade2-0d376edca8ec",
   "metadata": {},
   "outputs": [],
   "source": [
    "wn_val.info()"
   ]
  },
  {
   "cell_type": "code",
   "execution_count": null,
   "id": "d59aa101-de75-46a1-9cac-63564cec429c",
   "metadata": {},
   "outputs": [],
   "source": [
    "wn_val = wn_val.dropna(subset=['entity_title'])"
   ]
  }
 ],
 "metadata": {
  "kernelspec": {
   "display_name": "baseline-salient-entities",
   "language": "python",
   "name": "baseline"
  },
  "language_info": {
   "codemirror_mode": {
    "name": "ipython",
    "version": 3
   },
   "file_extension": ".py",
   "mimetype": "text/x-python",
   "name": "python",
   "nbconvert_exporter": "python",
   "pygments_lexer": "ipython3",
   "version": "3.9.21"
  }
 },
 "nbformat": 4,
 "nbformat_minor": 5
}
