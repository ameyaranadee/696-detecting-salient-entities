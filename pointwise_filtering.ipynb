{
 "cells": [
  {
   "cell_type": "code",
   "execution_count": 1,
   "id": "f9682c75-69ef-4cad-a264-d743d943a1ad",
   "metadata": {},
   "outputs": [
    {
     "name": "stderr",
     "output_type": "stream",
     "text": [
      "2025-05-08 00:21:15.013166: I tensorflow/core/util/port.cc:153] oneDNN custom operations are on. You may see slightly different numerical results due to floating-point round-off errors from different computation orders. To turn them off, set the environment variable `TF_ENABLE_ONEDNN_OPTS=0`.\n",
      "2025-05-08 00:21:15.024232: E external/local_xla/xla/stream_executor/cuda/cuda_fft.cc:477] Unable to register cuFFT factory: Attempting to register factory for plugin cuFFT when one has already been registered\n",
      "WARNING: All log messages before absl::InitializeLog() is called are written to STDERR\n",
      "E0000 00:00:1746663675.037918  715151 cuda_dnn.cc:8310] Unable to register cuDNN factory: Attempting to register factory for plugin cuDNN when one has already been registered\n",
      "E0000 00:00:1746663675.042096  715151 cuda_blas.cc:1418] Unable to register cuBLAS factory: Attempting to register factory for plugin cuBLAS when one has already been registered\n",
      "2025-05-08 00:21:15.056211: I tensorflow/core/platform/cpu_feature_guard.cc:210] This TensorFlow binary is optimized to use available CPU instructions in performance-critical operations.\n",
      "To enable the following instructions: SSE4.1 SSE4.2 AVX AVX2 AVX512F AVX512_VNNI FMA, in other operations, rebuild TensorFlow with the appropriate compiler flags.\n"
     ]
    }
   ],
   "source": [
    "import os\n",
    "import re\n",
    "import ast\n",
    "import json\n",
    "import spacy\n",
    "import pickle\n",
    "import difflib\n",
    "import requests\n",
    "import datetime\n",
    "import jsonlines\n",
    "import numpy as np\n",
    "import pandas as pd\n",
    "from utils.shared_configs import LLAMA_MODEL_PATH, ZEHPYR_MODEL_PATH, get_sampling_params, initialize_llm\n",
    "nlp = spacy.load(\"en_core_web_sm\")"
   ]
  },
  {
   "cell_type": "code",
   "execution_count": 2,
   "id": "2d374870-8a1b-480e-94e5-b272e416f6d3",
   "metadata": {
    "scrolled": true,
    "tags": []
   },
   "outputs": [
    {
     "name": "stdout",
     "output_type": "stream",
     "text": [
      "INFO 05-08 00:21:21 __init__.py:207] Automatically detected platform cuda.\n",
      "INFO 05-08 00:21:33 config.py:549] This model supports multiple tasks: {'score', 'embed', 'classify', 'reward', 'generate'}. Defaulting to 'generate'.\n",
      "WARNING 05-08 00:21:34 arg_utils.py:1187] Chunked prefill is enabled by default for models with max_model_len > 32K. Currently, chunked prefill might not work with some features or models. If you encounter any issues, please disable chunked prefill by setting --enable-chunked-prefill=False.\n",
      "INFO 05-08 00:21:34 config.py:1555] Chunked prefill is enabled with max_num_batched_tokens=2048.\n",
      "INFO 05-08 00:21:34 llm_engine.py:234] Initializing a V0 LLM engine (v0.7.3) with config: model='/datasets/ai/llama3/hub/models--meta-llama--Meta-Llama-3.1-8B-Instruct/snapshots/5206a32e0bd3067aef1ce90f5528ade7d866253f', speculative_config=None, tokenizer='/datasets/ai/llama3/hub/models--meta-llama--Meta-Llama-3.1-8B-Instruct/snapshots/5206a32e0bd3067aef1ce90f5528ade7d866253f', skip_tokenizer_init=False, tokenizer_mode=auto, revision=None, override_neuron_config=None, tokenizer_revision=None, trust_remote_code=False, dtype=torch.bfloat16, max_seq_len=131072, download_dir='/work/pi_wenlongzhao_umass_edu/8/aranade/models', load_format=auto, tensor_parallel_size=1, pipeline_parallel_size=1, disable_custom_all_reduce=False, quantization=None, enforce_eager=False, kv_cache_dtype=auto,  device_config=cuda, decoding_config=DecodingConfig(guided_decoding_backend='xgrammar'), observability_config=ObservabilityConfig(otlp_traces_endpoint=None, collect_model_forward_time=False, collect_model_execute_time=False), seed=0, served_model_name=/datasets/ai/llama3/hub/models--meta-llama--Meta-Llama-3.1-8B-Instruct/snapshots/5206a32e0bd3067aef1ce90f5528ade7d866253f, num_scheduler_steps=1, multi_step_stream_outputs=True, enable_prefix_caching=False, chunked_prefill_enabled=True, use_async_output_proc=True, disable_mm_preprocessor_cache=False, mm_processor_kwargs=None, pooler_config=None, compilation_config={\"splitting_ops\":[],\"compile_sizes\":[],\"cudagraph_capture_sizes\":[256,248,240,232,224,216,208,200,192,184,176,168,160,152,144,136,128,120,112,104,96,88,80,72,64,56,48,40,32,24,16,8,4,2,1],\"max_capture_size\":256}, use_cached_outputs=False, \n",
      "INFO 05-08 00:21:35 cuda.py:229] Using Flash Attention backend.\n",
      "INFO 05-08 00:21:35 model_runner.py:1110] Starting to load model /datasets/ai/llama3/hub/models--meta-llama--Meta-Llama-3.1-8B-Instruct/snapshots/5206a32e0bd3067aef1ce90f5528ade7d866253f...\n"
     ]
    },
    {
     "data": {
      "application/vnd.jupyter.widget-view+json": {
       "model_id": "16ea6ef478034cf8b3229ccde70d8aa9",
       "version_major": 2,
       "version_minor": 0
      },
      "text/plain": [
       "Loading safetensors checkpoint shards:   0% Completed | 0/4 [00:00<?, ?it/s]\n"
      ]
     },
     "metadata": {},
     "output_type": "display_data"
    },
    {
     "name": "stdout",
     "output_type": "stream",
     "text": [
      "INFO 05-08 00:21:38 model_runner.py:1115] Loading model weights took 14.9888 GB\n",
      "INFO 05-08 00:21:39 worker.py:267] Memory profiling takes 0.73 seconds\n",
      "INFO 05-08 00:21:39 worker.py:267] the current vLLM instance can use total_gpu_memory (44.34GiB) x gpu_memory_utilization (0.90) = 39.91GiB\n",
      "INFO 05-08 00:21:39 worker.py:267] model weights take 14.99GiB; non_torch_memory takes 0.06GiB; PyTorch activation peak memory takes 1.19GiB; the rest of the memory reserved for KV Cache is 23.67GiB.\n",
      "INFO 05-08 00:21:39 executor_base.py:111] # cuda blocks: 12119, # CPU blocks: 2048\n",
      "INFO 05-08 00:21:39 executor_base.py:116] Maximum concurrency for 131072 tokens per request: 1.48x\n",
      "INFO 05-08 00:21:41 model_runner.py:1434] Capturing cudagraphs for decoding. This may lead to unexpected consequences if the model is not static. To run the model in eager mode, set 'enforce_eager=True' or use '--enforce-eager' in the CLI. If out-of-memory error occurs during cudagraph capture, consider decreasing `gpu_memory_utilization` or switching to eager mode. You can also reduce the `max_num_seqs` as needed to decrease memory usage.\n"
     ]
    },
    {
     "name": "stderr",
     "output_type": "stream",
     "text": [
      "Capturing CUDA graph shapes: 100%|██████████| 35/35 [00:19<00:00,  1.82it/s]"
     ]
    },
    {
     "name": "stdout",
     "output_type": "stream",
     "text": [
      "INFO 05-08 00:22:01 model_runner.py:1562] Graph capturing finished in 19 secs, took 0.26 GiB\n",
      "INFO 05-08 00:22:01 llm_engine.py:436] init engine (profile, create kv cache, warmup model) took 22.33 seconds\n"
     ]
    },
    {
     "name": "stderr",
     "output_type": "stream",
     "text": [
      "\n"
     ]
    }
   ],
   "source": [
    "llm = initialize_llm(model_path=LLAMA_MODEL_PATH, tokenizer_path=LLAMA_MODEL_PATH)\n",
    "sampling_params = get_sampling_params(max_tokens=200, temperature=0.6, top_p=0.9, stops=[\"</s>\", \"\\n}\"])"
   ]
  },
  {
   "cell_type": "markdown",
   "id": "0a94de5a-10e9-4d26-8d32-b6511359f0d7",
   "metadata": {},
   "source": [
    "### Load WN-Salience"
   ]
  },
  {
   "cell_type": "code",
   "execution_count": 2,
   "id": "e638e103-e1fd-48ac-bd30-6bb1624b6bde",
   "metadata": {},
   "outputs": [],
   "source": [
    "# wn_salience_train = \"/project/pi_wenlongzhao_umass_edu/8/data/WN-Salience-2/SED_train.json\"\n",
    "# with open(wn_salience_train) as f:\n",
    "#     sed_outputs = json.load(f)"
   ]
  },
  {
   "cell_type": "code",
   "execution_count": 50,
   "id": "470003f8-636c-4193-85a1-a3bd9b108005",
   "metadata": {},
   "outputs": [],
   "source": [
    "# train_path = \"/work/pi_wenlongzhao_umass_edu/8/riya/TrainValDataSplit/WN_salience_TrainSplit.pkl\"\n",
    "# val_path = \"/work/pi_wenlongzhao_umass_edu/8/riya/TrainValDataSplit/WN_salience_ValSplit.pkl\"\n",
    "\n",
    "train_path = \"/work/pi_wenlongzhao_umass_edu/8/696-detecting-salient-entities/data/WN_csv/WN_salience_TrainSplit.csv\"\n",
    "val_path = \"/work/pi_wenlongzhao_umass_edu/8/696-detecting-salient-entities/data/WN_csv/WN_salience_ValSplit.csv\""
   ]
  },
  {
   "cell_type": "code",
   "execution_count": 4,
   "id": "51378ccf-8e5b-4669-a4b3-e477518cd0f5",
   "metadata": {},
   "outputs": [
    {
     "name": "stderr",
     "output_type": "stream",
     "text": [
      "/tmp/ipykernel_712181/2559814351.py:2: DeprecationWarning: numpy.core.numeric is deprecated and has been renamed to numpy._core.numeric. The numpy._core namespace contains private NumPy internals and its use is discouraged, as NumPy internals can change without warning in any release. In practice, most real-world usage of numpy.core is to access functionality in the public NumPy API. If that is the case, use the public NumPy API. If not, you are using NumPy internals. If you would still like to access an internal attribute, use numpy._core.numeric._frombuffer.\n",
      "  wn_val = pickle.load(f)\n"
     ]
    }
   ],
   "source": [
    "# with open(val_path, \"rb\") as f:\n",
    "#     wn_val = pickle.load(f)"
   ]
  },
  {
   "cell_type": "code",
   "execution_count": 51,
   "id": "839b5395-0561-45e1-9820-3b4b8730bd40",
   "metadata": {},
   "outputs": [],
   "source": [
    "wn_val = pd.read_csv(val_path)"
   ]
  },
  {
   "cell_type": "code",
   "execution_count": 52,
   "id": "bf188080-830a-4aeb-99c7-04a1b03a5247",
   "metadata": {},
   "outputs": [
    {
     "name": "stdout",
     "output_type": "stream",
     "text": [
      "<class 'pandas.core.frame.DataFrame'>\n",
      "RangeIndex: 15524 entries, 0 to 15523\n",
      "Data columns (total 7 columns):\n",
      " #   Column           Non-Null Count  Dtype \n",
      "---  ------           --------------  ----- \n",
      " 0   text             15524 non-null  object\n",
      " 1   date             15524 non-null  object\n",
      " 2   title            15524 non-null  object\n",
      " 3   entity title     15523 non-null  object\n",
      " 4   entity salience  15524 non-null  int64 \n",
      " 5   offsets          15524 non-null  object\n",
      " 6   wiki_ID          15524 non-null  int64 \n",
      "dtypes: int64(2), object(5)\n",
      "memory usage: 849.1+ KB\n"
     ]
    }
   ],
   "source": [
    "wn_val.info()"
   ]
  },
  {
   "cell_type": "code",
   "execution_count": 53,
   "id": "638e8831-2fcd-4018-a15f-388428720c61",
   "metadata": {},
   "outputs": [
    {
     "data": {
      "text/html": [
       "<div>\n",
       "<style scoped>\n",
       "    .dataframe tbody tr th:only-of-type {\n",
       "        vertical-align: middle;\n",
       "    }\n",
       "\n",
       "    .dataframe tbody tr th {\n",
       "        vertical-align: top;\n",
       "    }\n",
       "\n",
       "    .dataframe thead th {\n",
       "        text-align: right;\n",
       "    }\n",
       "</style>\n",
       "<table border=\"1\" class=\"dataframe\">\n",
       "  <thead>\n",
       "    <tr style=\"text-align: right;\">\n",
       "      <th></th>\n",
       "      <th>text</th>\n",
       "      <th>date</th>\n",
       "      <th>title</th>\n",
       "      <th>entity title</th>\n",
       "      <th>entity salience</th>\n",
       "      <th>offsets</th>\n",
       "      <th>wiki_ID</th>\n",
       "    </tr>\n",
       "  </thead>\n",
       "  <tbody>\n",
       "    <tr>\n",
       "      <th>0</th>\n",
       "      <td>Homebush Bay, New South Wales —Earlier today, ...</td>\n",
       "      <td>2012-07-20</td>\n",
       "      <td>Australian Gliders glide past China women's na...</td>\n",
       "      <td>Australian</td>\n",
       "      <td>1</td>\n",
       "      <td>(50, 60)</td>\n",
       "      <td>4689264</td>\n",
       "    </tr>\n",
       "    <tr>\n",
       "      <th>1</th>\n",
       "      <td>Homebush Bay, New South Wales —Earlier today, ...</td>\n",
       "      <td>2012-07-20</td>\n",
       "      <td>Australian Gliders glide past China women's na...</td>\n",
       "      <td>Gliders</td>\n",
       "      <td>1</td>\n",
       "      <td>(61, 68)</td>\n",
       "      <td>32339793</td>\n",
       "    </tr>\n",
       "    <tr>\n",
       "      <th>2</th>\n",
       "      <td>Homebush Bay, New South Wales —Earlier today, ...</td>\n",
       "      <td>2012-07-20</td>\n",
       "      <td>Australian Gliders glide past China women's na...</td>\n",
       "      <td>Chinese</td>\n",
       "      <td>1</td>\n",
       "      <td>(78, 85)</td>\n",
       "      <td>5405</td>\n",
       "    </tr>\n",
       "    <tr>\n",
       "      <th>3</th>\n",
       "      <td>Homebush Bay, New South Wales —Earlier today, ...</td>\n",
       "      <td>2012-07-20</td>\n",
       "      <td>Australian Gliders glide past China women's na...</td>\n",
       "      <td>wheelchair basketball</td>\n",
       "      <td>1</td>\n",
       "      <td>(103, 124)</td>\n",
       "      <td>848348</td>\n",
       "    </tr>\n",
       "    <tr>\n",
       "      <th>4</th>\n",
       "      <td>Homebush Bay, New South Wales —Earlier today, ...</td>\n",
       "      <td>2012-07-20</td>\n",
       "      <td>Australian Gliders glide past China women's na...</td>\n",
       "      <td>Sydney</td>\n",
       "      <td>1</td>\n",
       "      <td>(221, 227)</td>\n",
       "      <td>27862</td>\n",
       "    </tr>\n",
       "  </tbody>\n",
       "</table>\n",
       "</div>"
      ],
      "text/plain": [
       "                                                text        date  \\\n",
       "0  Homebush Bay, New South Wales —Earlier today, ...  2012-07-20   \n",
       "1  Homebush Bay, New South Wales —Earlier today, ...  2012-07-20   \n",
       "2  Homebush Bay, New South Wales —Earlier today, ...  2012-07-20   \n",
       "3  Homebush Bay, New South Wales —Earlier today, ...  2012-07-20   \n",
       "4  Homebush Bay, New South Wales —Earlier today, ...  2012-07-20   \n",
       "\n",
       "                                               title           entity title  \\\n",
       "0  Australian Gliders glide past China women's na...             Australian   \n",
       "1  Australian Gliders glide past China women's na...                Gliders   \n",
       "2  Australian Gliders glide past China women's na...                Chinese   \n",
       "3  Australian Gliders glide past China women's na...  wheelchair basketball   \n",
       "4  Australian Gliders glide past China women's na...                 Sydney   \n",
       "\n",
       "   entity salience     offsets   wiki_ID  \n",
       "0                1    (50, 60)   4689264  \n",
       "1                1    (61, 68)  32339793  \n",
       "2                1    (78, 85)      5405  \n",
       "3                1  (103, 124)    848348  \n",
       "4                1  (221, 227)     27862  "
      ]
     },
     "execution_count": 53,
     "metadata": {},
     "output_type": "execute_result"
    }
   ],
   "source": [
    "wn_val.head()"
   ]
  },
  {
   "cell_type": "markdown",
   "id": "fb6f797b-0da9-4ae8-a655-0a744647a938",
   "metadata": {},
   "source": [
    "## Pointwise EL"
   ]
  },
  {
   "cell_type": "markdown",
   "id": "d2348227-faa5-4e7a-82ed-906b4f36a75a",
   "metadata": {},
   "source": [
    "### Preprocessing\n",
    "1. Rename columns\n",
    "2. Add surrounding context\n",
    "3. Assign WikiID based on Wiki url"
   ]
  },
  {
   "cell_type": "code",
   "execution_count": 54,
   "id": "e62a17e0-4f4c-4d20-b961-94f75ddaf153",
   "metadata": {},
   "outputs": [],
   "source": [
    "column_mapping = {\n",
    "    'text': 'article_text',\n",
    "    'title': 'article_title',\n",
    "    'entity title': 'entity_title',\n",
    "    'entity salience': 'entity_salience'\n",
    "}\n",
    "wn_val.rename(columns=column_mapping, inplace=True)"
   ]
  },
  {
   "cell_type": "code",
   "execution_count": 55,
   "id": "330854d8-54e7-44b3-95ec-037d8a261a79",
   "metadata": {},
   "outputs": [
    {
     "name": "stdout",
     "output_type": "stream",
     "text": [
      "<class 'pandas.core.frame.DataFrame'>\n",
      "RangeIndex: 15524 entries, 0 to 15523\n",
      "Data columns (total 7 columns):\n",
      " #   Column           Non-Null Count  Dtype \n",
      "---  ------           --------------  ----- \n",
      " 0   article_text     15524 non-null  object\n",
      " 1   date             15524 non-null  object\n",
      " 2   article_title    15524 non-null  object\n",
      " 3   entity_title     15523 non-null  object\n",
      " 4   entity_salience  15524 non-null  int64 \n",
      " 5   offsets          15524 non-null  object\n",
      " 6   wiki_ID          15524 non-null  int64 \n",
      "dtypes: int64(2), object(5)\n",
      "memory usage: 849.1+ KB\n"
     ]
    }
   ],
   "source": [
    "wn_val.info()"
   ]
  },
  {
   "cell_type": "code",
   "execution_count": 56,
   "id": "2a54bd8e-7a1e-4dba-9c8c-3f8bee3f40ab",
   "metadata": {},
   "outputs": [
    {
     "data": {
      "text/html": [
       "<div>\n",
       "<style scoped>\n",
       "    .dataframe tbody tr th:only-of-type {\n",
       "        vertical-align: middle;\n",
       "    }\n",
       "\n",
       "    .dataframe tbody tr th {\n",
       "        vertical-align: top;\n",
       "    }\n",
       "\n",
       "    .dataframe thead th {\n",
       "        text-align: right;\n",
       "    }\n",
       "</style>\n",
       "<table border=\"1\" class=\"dataframe\">\n",
       "  <thead>\n",
       "    <tr style=\"text-align: right;\">\n",
       "      <th></th>\n",
       "      <th>article_text</th>\n",
       "      <th>date</th>\n",
       "      <th>article_title</th>\n",
       "      <th>entity_title</th>\n",
       "      <th>entity_salience</th>\n",
       "      <th>offsets</th>\n",
       "      <th>wiki_ID</th>\n",
       "    </tr>\n",
       "  </thead>\n",
       "  <tbody>\n",
       "    <tr>\n",
       "      <th>13909</th>\n",
       "      <td>On Sunday in tennis's French Open men's single...</td>\n",
       "      <td>2017-06-13</td>\n",
       "      <td>¡La décima! Nadal again a French CHAMP10N</td>\n",
       "      <td>NaN</td>\n",
       "      <td>0</td>\n",
       "      <td>(277, 277)</td>\n",
       "      <td>-1</td>\n",
       "    </tr>\n",
       "  </tbody>\n",
       "</table>\n",
       "</div>"
      ],
      "text/plain": [
       "                                            article_text        date  \\\n",
       "13909  On Sunday in tennis's French Open men's single...  2017-06-13   \n",
       "\n",
       "                                   article_title entity_title  \\\n",
       "13909  ¡La décima! Nadal again a French CHAMP10N          NaN   \n",
       "\n",
       "       entity_salience     offsets  wiki_ID  \n",
       "13909                0  (277, 277)       -1  "
      ]
     },
     "execution_count": 56,
     "metadata": {},
     "output_type": "execute_result"
    }
   ],
   "source": [
    "wn_val[wn_val['entity_title'].isna()==True]"
   ]
  },
  {
   "cell_type": "code",
   "execution_count": 57,
   "id": "17128491-5594-438c-aca1-b6d9fc4fc8cf",
   "metadata": {},
   "outputs": [
    {
     "name": "stdout",
     "output_type": "stream",
     "text": [
      "<class 'pandas.core.frame.DataFrame'>\n",
      "Index: 15523 entries, 0 to 15523\n",
      "Data columns (total 7 columns):\n",
      " #   Column           Non-Null Count  Dtype \n",
      "---  ------           --------------  ----- \n",
      " 0   article_text     15523 non-null  object\n",
      " 1   date             15523 non-null  object\n",
      " 2   article_title    15523 non-null  object\n",
      " 3   entity_title     15523 non-null  object\n",
      " 4   entity_salience  15523 non-null  int64 \n",
      " 5   offsets          15523 non-null  object\n",
      " 6   wiki_ID          15523 non-null  int64 \n",
      "dtypes: int64(2), object(5)\n",
      "memory usage: 970.2+ KB\n"
     ]
    }
   ],
   "source": [
    "wn_val = wn_val.dropna(subset=['entity_title'])\n",
    "wn_val.info()"
   ]
  },
  {
   "cell_type": "code",
   "execution_count": 60,
   "id": "8f00681c-be85-4ce9-b909-f8d0badd2a78",
   "metadata": {},
   "outputs": [],
   "source": [
    "wn_val = wn_val[wn_val['wiki_ID'] != -1]"
   ]
  },
  {
   "cell_type": "code",
   "execution_count": 61,
   "id": "7560dbb9-eb2d-4e88-954d-a1e4dc684148",
   "metadata": {},
   "outputs": [
    {
     "name": "stdout",
     "output_type": "stream",
     "text": [
      "<class 'pandas.core.frame.DataFrame'>\n",
      "Index: 15299 entries, 0 to 15523\n",
      "Data columns (total 7 columns):\n",
      " #   Column           Non-Null Count  Dtype \n",
      "---  ------           --------------  ----- \n",
      " 0   article_text     15299 non-null  object\n",
      " 1   date             15299 non-null  object\n",
      " 2   article_title    15299 non-null  object\n",
      " 3   entity_title     15299 non-null  object\n",
      " 4   entity_salience  15299 non-null  int64 \n",
      " 5   offsets          15299 non-null  object\n",
      " 6   wiki_ID          15299 non-null  int64 \n",
      "dtypes: int64(2), object(5)\n",
      "memory usage: 956.2+ KB\n"
     ]
    }
   ],
   "source": [
    "wn_val.info()"
   ]
  },
  {
   "cell_type": "code",
   "execution_count": 62,
   "id": "84e8f2aa-8e51-4983-b345-c6886326cc79",
   "metadata": {},
   "outputs": [],
   "source": [
    "wn_val_subset = wn_val.head(250).copy()"
   ]
  },
  {
   "cell_type": "code",
   "execution_count": 63,
   "id": "28bf2a82-a5aa-4528-bd39-dfce9da64193",
   "metadata": {},
   "outputs": [
    {
     "data": {
      "text/html": [
       "<div>\n",
       "<style scoped>\n",
       "    .dataframe tbody tr th:only-of-type {\n",
       "        vertical-align: middle;\n",
       "    }\n",
       "\n",
       "    .dataframe tbody tr th {\n",
       "        vertical-align: top;\n",
       "    }\n",
       "\n",
       "    .dataframe thead th {\n",
       "        text-align: right;\n",
       "    }\n",
       "</style>\n",
       "<table border=\"1\" class=\"dataframe\">\n",
       "  <thead>\n",
       "    <tr style=\"text-align: right;\">\n",
       "      <th></th>\n",
       "      <th>article_text</th>\n",
       "      <th>date</th>\n",
       "      <th>article_title</th>\n",
       "      <th>entity_title</th>\n",
       "      <th>entity_salience</th>\n",
       "      <th>offsets</th>\n",
       "      <th>wiki_ID</th>\n",
       "    </tr>\n",
       "  </thead>\n",
       "  <tbody>\n",
       "    <tr>\n",
       "      <th>0</th>\n",
       "      <td>Homebush Bay, New South Wales —Earlier today, ...</td>\n",
       "      <td>2012-07-20</td>\n",
       "      <td>Australian Gliders glide past China women's na...</td>\n",
       "      <td>Australian</td>\n",
       "      <td>1</td>\n",
       "      <td>(50, 60)</td>\n",
       "      <td>4689264</td>\n",
       "    </tr>\n",
       "    <tr>\n",
       "      <th>1</th>\n",
       "      <td>Homebush Bay, New South Wales —Earlier today, ...</td>\n",
       "      <td>2012-07-20</td>\n",
       "      <td>Australian Gliders glide past China women's na...</td>\n",
       "      <td>Gliders</td>\n",
       "      <td>1</td>\n",
       "      <td>(61, 68)</td>\n",
       "      <td>32339793</td>\n",
       "    </tr>\n",
       "    <tr>\n",
       "      <th>2</th>\n",
       "      <td>Homebush Bay, New South Wales —Earlier today, ...</td>\n",
       "      <td>2012-07-20</td>\n",
       "      <td>Australian Gliders glide past China women's na...</td>\n",
       "      <td>Chinese</td>\n",
       "      <td>1</td>\n",
       "      <td>(78, 85)</td>\n",
       "      <td>5405</td>\n",
       "    </tr>\n",
       "    <tr>\n",
       "      <th>3</th>\n",
       "      <td>Homebush Bay, New South Wales —Earlier today, ...</td>\n",
       "      <td>2012-07-20</td>\n",
       "      <td>Australian Gliders glide past China women's na...</td>\n",
       "      <td>wheelchair basketball</td>\n",
       "      <td>1</td>\n",
       "      <td>(103, 124)</td>\n",
       "      <td>848348</td>\n",
       "    </tr>\n",
       "    <tr>\n",
       "      <th>4</th>\n",
       "      <td>Homebush Bay, New South Wales —Earlier today, ...</td>\n",
       "      <td>2012-07-20</td>\n",
       "      <td>Australian Gliders glide past China women's na...</td>\n",
       "      <td>Sydney</td>\n",
       "      <td>1</td>\n",
       "      <td>(221, 227)</td>\n",
       "      <td>27862</td>\n",
       "    </tr>\n",
       "  </tbody>\n",
       "</table>\n",
       "</div>"
      ],
      "text/plain": [
       "                                        article_text        date  \\\n",
       "0  Homebush Bay, New South Wales —Earlier today, ...  2012-07-20   \n",
       "1  Homebush Bay, New South Wales —Earlier today, ...  2012-07-20   \n",
       "2  Homebush Bay, New South Wales —Earlier today, ...  2012-07-20   \n",
       "3  Homebush Bay, New South Wales —Earlier today, ...  2012-07-20   \n",
       "4  Homebush Bay, New South Wales —Earlier today, ...  2012-07-20   \n",
       "\n",
       "                                       article_title           entity_title  \\\n",
       "0  Australian Gliders glide past China women's na...             Australian   \n",
       "1  Australian Gliders glide past China women's na...                Gliders   \n",
       "2  Australian Gliders glide past China women's na...                Chinese   \n",
       "3  Australian Gliders glide past China women's na...  wheelchair basketball   \n",
       "4  Australian Gliders glide past China women's na...                 Sydney   \n",
       "\n",
       "   entity_salience     offsets   wiki_ID  \n",
       "0                1    (50, 60)   4689264  \n",
       "1                1    (61, 68)  32339793  \n",
       "2                1    (78, 85)      5405  \n",
       "3                1  (103, 124)    848348  \n",
       "4                1  (221, 227)     27862  "
      ]
     },
     "execution_count": 63,
     "metadata": {},
     "output_type": "execute_result"
    }
   ],
   "source": [
    "wn_val_subset.head()"
   ]
  },
  {
   "cell_type": "code",
   "execution_count": 73,
   "id": "7b4feb9f-1d63-4a17-84f6-8414e92d3d89",
   "metadata": {},
   "outputs": [],
   "source": [
    "def spacy_sent_tokenize(text):\n",
    "    return [sent.text for sent in nlp(text).sents]\n",
    "\n",
    "def extract_surrounding_context(article_text, offset, entity_title, n=1):\n",
    "    \"\"\"\n",
    "    Return n sentences before and after the entity sentence, \n",
    "    with entity mention highlighted with ###mention###.\n",
    "    \"\"\"\n",
    "    offset = ast.literal_eval(offset)\n",
    "    start, end = offset    \n",
    "    sents = list(nlp(article_text).sents)\n",
    "\n",
    "    for i, sent in enumerate(sents):\n",
    "        if sent.start_char <= start < sent.end_char:\n",
    "            # Pick n sentences before and after\n",
    "            begin = max(i - n, 0)\n",
    "            end_ = min(i + n + 1, len(sents))\n",
    "            context_sentences = [s.text for s in sents[begin:end_]]\n",
    "            context = \" \".join(context_sentences)\n",
    "            entity_pattern = re.escape(entity_title)\n",
    "            highlighted_context = re.sub(\n",
    "                entity_pattern,\n",
    "                f\"###{entity_title}###\",\n",
    "                context,\n",
    "                count=1  # Only highlight the first occurrence\n",
    "            )\n",
    "            return highlighted_context\n",
    "    return \"\""
   ]
  },
  {
   "cell_type": "code",
   "execution_count": 74,
   "id": "f8710ffb-3b8b-4422-96ee-2b15d2119f2b",
   "metadata": {},
   "outputs": [],
   "source": [
    "wn_val_subset['surrounding_context'] = wn_val_subset.apply(lambda row: extract_surrounding_context(row['article_text'], row['offsets'], row['entity_title'], n=2), axis=1)"
   ]
  },
  {
   "cell_type": "code",
   "execution_count": 75,
   "id": "dfe46ff3-ba9c-477d-8439-972ea2cbfe46",
   "metadata": {},
   "outputs": [
    {
     "data": {
      "text/html": [
       "<div>\n",
       "<style scoped>\n",
       "    .dataframe tbody tr th:only-of-type {\n",
       "        vertical-align: middle;\n",
       "    }\n",
       "\n",
       "    .dataframe tbody tr th {\n",
       "        vertical-align: top;\n",
       "    }\n",
       "\n",
       "    .dataframe thead th {\n",
       "        text-align: right;\n",
       "    }\n",
       "</style>\n",
       "<table border=\"1\" class=\"dataframe\">\n",
       "  <thead>\n",
       "    <tr style=\"text-align: right;\">\n",
       "      <th></th>\n",
       "      <th>article_text</th>\n",
       "      <th>date</th>\n",
       "      <th>article_title</th>\n",
       "      <th>entity_title</th>\n",
       "      <th>entity_salience</th>\n",
       "      <th>offsets</th>\n",
       "      <th>wiki_ID</th>\n",
       "      <th>surrounding_context</th>\n",
       "    </tr>\n",
       "  </thead>\n",
       "  <tbody>\n",
       "    <tr>\n",
       "      <th>0</th>\n",
       "      <td>Homebush Bay, New South Wales —Earlier today, ...</td>\n",
       "      <td>2012-07-20</td>\n",
       "      <td>Australian Gliders glide past China women's na...</td>\n",
       "      <td>Australian</td>\n",
       "      <td>1</td>\n",
       "      <td>(50, 60)</td>\n",
       "      <td>4689264</td>\n",
       "      <td>Homebush Bay, New South Wales —Earlier today, ...</td>\n",
       "    </tr>\n",
       "    <tr>\n",
       "      <th>1</th>\n",
       "      <td>Homebush Bay, New South Wales —Earlier today, ...</td>\n",
       "      <td>2012-07-20</td>\n",
       "      <td>Australian Gliders glide past China women's na...</td>\n",
       "      <td>Gliders</td>\n",
       "      <td>1</td>\n",
       "      <td>(61, 68)</td>\n",
       "      <td>32339793</td>\n",
       "      <td>Homebush Bay, New South Wales —Earlier today, ...</td>\n",
       "    </tr>\n",
       "    <tr>\n",
       "      <th>2</th>\n",
       "      <td>Homebush Bay, New South Wales —Earlier today, ...</td>\n",
       "      <td>2012-07-20</td>\n",
       "      <td>Australian Gliders glide past China women's na...</td>\n",
       "      <td>Chinese</td>\n",
       "      <td>1</td>\n",
       "      <td>(78, 85)</td>\n",
       "      <td>5405</td>\n",
       "      <td>Homebush Bay, New South Wales —Earlier today, ...</td>\n",
       "    </tr>\n",
       "    <tr>\n",
       "      <th>3</th>\n",
       "      <td>Homebush Bay, New South Wales —Earlier today, ...</td>\n",
       "      <td>2012-07-20</td>\n",
       "      <td>Australian Gliders glide past China women's na...</td>\n",
       "      <td>wheelchair basketball</td>\n",
       "      <td>1</td>\n",
       "      <td>(103, 124)</td>\n",
       "      <td>848348</td>\n",
       "      <td>Homebush Bay, New South Wales —Earlier today, ...</td>\n",
       "    </tr>\n",
       "    <tr>\n",
       "      <th>4</th>\n",
       "      <td>Homebush Bay, New South Wales —Earlier today, ...</td>\n",
       "      <td>2012-07-20</td>\n",
       "      <td>Australian Gliders glide past China women's na...</td>\n",
       "      <td>Sydney</td>\n",
       "      <td>1</td>\n",
       "      <td>(221, 227)</td>\n",
       "      <td>27862</td>\n",
       "      <td>Homebush Bay, New South Wales —Earlier today, ...</td>\n",
       "    </tr>\n",
       "  </tbody>\n",
       "</table>\n",
       "</div>"
      ],
      "text/plain": [
       "                                        article_text        date  \\\n",
       "0  Homebush Bay, New South Wales —Earlier today, ...  2012-07-20   \n",
       "1  Homebush Bay, New South Wales —Earlier today, ...  2012-07-20   \n",
       "2  Homebush Bay, New South Wales —Earlier today, ...  2012-07-20   \n",
       "3  Homebush Bay, New South Wales —Earlier today, ...  2012-07-20   \n",
       "4  Homebush Bay, New South Wales —Earlier today, ...  2012-07-20   \n",
       "\n",
       "                                       article_title           entity_title  \\\n",
       "0  Australian Gliders glide past China women's na...             Australian   \n",
       "1  Australian Gliders glide past China women's na...                Gliders   \n",
       "2  Australian Gliders glide past China women's na...                Chinese   \n",
       "3  Australian Gliders glide past China women's na...  wheelchair basketball   \n",
       "4  Australian Gliders glide past China women's na...                 Sydney   \n",
       "\n",
       "   entity_salience     offsets   wiki_ID  \\\n",
       "0                1    (50, 60)   4689264   \n",
       "1                1    (61, 68)  32339793   \n",
       "2                1    (78, 85)      5405   \n",
       "3                1  (103, 124)    848348   \n",
       "4                1  (221, 227)     27862   \n",
       "\n",
       "                                 surrounding_context  \n",
       "0  Homebush Bay, New South Wales —Earlier today, ...  \n",
       "1  Homebush Bay, New South Wales —Earlier today, ...  \n",
       "2  Homebush Bay, New South Wales —Earlier today, ...  \n",
       "3  Homebush Bay, New South Wales —Earlier today, ...  \n",
       "4  Homebush Bay, New South Wales —Earlier today, ...  "
      ]
     },
     "execution_count": 75,
     "metadata": {},
     "output_type": "execute_result"
    }
   ],
   "source": [
    "wn_val_subset.head()"
   ]
  },
  {
   "cell_type": "code",
   "execution_count": 15,
   "id": "52799e86-d36e-44e7-8cb7-fc06e0a093bf",
   "metadata": {
    "tags": []
   },
   "outputs": [],
   "source": [
    "# def get_wiki_id(url):\n",
    "#     if not url:\n",
    "#         return None\n",
    "    \n",
    "#     # title_match = re.search(r\"wiki/(.+)$\", url)\n",
    "#     title_match = re.search(r\"wiki/([^#?]+)\", url)\n",
    "#     if not title_match:\n",
    "#         return None\n",
    "    \n",
    "#     title = title_match.group(1)\n",
    "#     api_url = f\"https://en.wikipedia.org/w/api.php?action=query&titles={title}&format=json\"\n",
    "    \n",
    "#     try:\n",
    "#         response = requests.get(api_url)\n",
    "#         response_data = response.json()\n",
    "#         pages = response_data.get(\"query\", {}).get(\"pages\", {})\n",
    "        \n",
    "#         if pages:\n",
    "#             return next(iter(pages))  # Extract the first (and only) page ID\n",
    "#     except Exception as e:\n",
    "#         print(f\"Error fetching Wiki ID for {url}: {e}\")\n",
    "    \n",
    "#     return None\n",
    "\n",
    "# wn_val_subset['gt_wiki_id'] = wn_val_subset['url'].apply(get_wiki_id)"
   ]
  },
  {
   "cell_type": "code",
   "execution_count": 77,
   "id": "84bc885d-39aa-47fc-badd-80c35cfaa3f6",
   "metadata": {},
   "outputs": [],
   "source": [
    "wn_val_subset.to_csv('outputs/pointwise/wn_val_subset_5_7.csv', index=False)"
   ]
  },
  {
   "cell_type": "code",
   "execution_count": 64,
   "id": "bfee53c0-fe1d-48e1-90e1-e377aea254ed",
   "metadata": {},
   "outputs": [
    {
     "data": {
      "text/html": [
       "<div>\n",
       "<style scoped>\n",
       "    .dataframe tbody tr th:only-of-type {\n",
       "        vertical-align: middle;\n",
       "    }\n",
       "\n",
       "    .dataframe tbody tr th {\n",
       "        vertical-align: top;\n",
       "    }\n",
       "\n",
       "    .dataframe thead th {\n",
       "        text-align: right;\n",
       "    }\n",
       "</style>\n",
       "<table border=\"1\" class=\"dataframe\">\n",
       "  <thead>\n",
       "    <tr style=\"text-align: right;\">\n",
       "      <th></th>\n",
       "      <th>article_text</th>\n",
       "      <th>date</th>\n",
       "      <th>article_title</th>\n",
       "      <th>entity_title</th>\n",
       "      <th>entity_salience</th>\n",
       "      <th>offsets</th>\n",
       "      <th>wiki_ID</th>\n",
       "      <th>surrounding_context</th>\n",
       "    </tr>\n",
       "  </thead>\n",
       "  <tbody>\n",
       "    <tr>\n",
       "      <th>0</th>\n",
       "      <td>Homebush Bay, New South Wales —Earlier today, ...</td>\n",
       "      <td>2012-07-20</td>\n",
       "      <td>Australian Gliders glide past China women's na...</td>\n",
       "      <td>Australian</td>\n",
       "      <td>1</td>\n",
       "      <td>(50, 60)</td>\n",
       "      <td>4689264</td>\n",
       "      <td>Homebush Bay, New South Wales —Earlier today, ...</td>\n",
       "    </tr>\n",
       "    <tr>\n",
       "      <th>1</th>\n",
       "      <td>Homebush Bay, New South Wales —Earlier today, ...</td>\n",
       "      <td>2012-07-20</td>\n",
       "      <td>Australian Gliders glide past China women's na...</td>\n",
       "      <td>Gliders</td>\n",
       "      <td>1</td>\n",
       "      <td>(61, 68)</td>\n",
       "      <td>32339793</td>\n",
       "      <td>Homebush Bay, New South Wales —Earlier today, ...</td>\n",
       "    </tr>\n",
       "    <tr>\n",
       "      <th>2</th>\n",
       "      <td>Homebush Bay, New South Wales —Earlier today, ...</td>\n",
       "      <td>2012-07-20</td>\n",
       "      <td>Australian Gliders glide past China women's na...</td>\n",
       "      <td>Chinese</td>\n",
       "      <td>1</td>\n",
       "      <td>(78, 85)</td>\n",
       "      <td>5405</td>\n",
       "      <td>Homebush Bay, New South Wales —Earlier today, ...</td>\n",
       "    </tr>\n",
       "    <tr>\n",
       "      <th>3</th>\n",
       "      <td>Homebush Bay, New South Wales —Earlier today, ...</td>\n",
       "      <td>2012-07-20</td>\n",
       "      <td>Australian Gliders glide past China women's na...</td>\n",
       "      <td>wheelchair basketball</td>\n",
       "      <td>1</td>\n",
       "      <td>(103, 124)</td>\n",
       "      <td>848348</td>\n",
       "      <td>Homebush Bay, New South Wales —Earlier today, ...</td>\n",
       "    </tr>\n",
       "    <tr>\n",
       "      <th>4</th>\n",
       "      <td>Homebush Bay, New South Wales —Earlier today, ...</td>\n",
       "      <td>2012-07-20</td>\n",
       "      <td>Australian Gliders glide past China women's na...</td>\n",
       "      <td>Sydney</td>\n",
       "      <td>1</td>\n",
       "      <td>(221, 227)</td>\n",
       "      <td>27862</td>\n",
       "      <td>Homebush Bay, New South Wales —Earlier today, ...</td>\n",
       "    </tr>\n",
       "  </tbody>\n",
       "</table>\n",
       "</div>"
      ],
      "text/plain": [
       "                                        article_text        date  \\\n",
       "0  Homebush Bay, New South Wales —Earlier today, ...  2012-07-20   \n",
       "1  Homebush Bay, New South Wales —Earlier today, ...  2012-07-20   \n",
       "2  Homebush Bay, New South Wales —Earlier today, ...  2012-07-20   \n",
       "3  Homebush Bay, New South Wales —Earlier today, ...  2012-07-20   \n",
       "4  Homebush Bay, New South Wales —Earlier today, ...  2012-07-20   \n",
       "\n",
       "                                       article_title           entity_title  \\\n",
       "0  Australian Gliders glide past China women's na...             Australian   \n",
       "1  Australian Gliders glide past China women's na...                Gliders   \n",
       "2  Australian Gliders glide past China women's na...                Chinese   \n",
       "3  Australian Gliders glide past China women's na...  wheelchair basketball   \n",
       "4  Australian Gliders glide past China women's na...                 Sydney   \n",
       "\n",
       "   entity_salience     offsets   wiki_ID  \\\n",
       "0                1    (50, 60)   4689264   \n",
       "1                1    (61, 68)  32339793   \n",
       "2                1    (78, 85)      5405   \n",
       "3                1  (103, 124)    848348   \n",
       "4                1  (221, 227)     27862   \n",
       "\n",
       "                                 surrounding_context  \n",
       "0  Homebush Bay, New South Wales —Earlier today, ...  \n",
       "1  Homebush Bay, New South Wales —Earlier today, ...  \n",
       "2  Homebush Bay, New South Wales —Earlier today, ...  \n",
       "3  Homebush Bay, New South Wales —Earlier today, ...  \n",
       "4  Homebush Bay, New South Wales —Earlier today, ...  "
      ]
     },
     "execution_count": 64,
     "metadata": {},
     "output_type": "execute_result"
    }
   ],
   "source": [
    "wn_val_subset = pd.read_csv('outputs/pointwise/wn_val_subset_5_7.csv', dtype={'gt_wiki_id': 'Int64'})\n",
    "wn_val_subset.head()"
   ]
  },
  {
   "cell_type": "markdown",
   "id": "db610ee0-dae0-416a-a52f-69072b2b3b1f",
   "metadata": {},
   "source": [
    "### Candidate retrieval"
   ]
  },
  {
   "cell_type": "code",
   "execution_count": 4,
   "id": "c5ab704f-7198-48ad-95ae-76e5034329b1",
   "metadata": {},
   "outputs": [
    {
     "data": {
      "text/plain": [
       "29037"
      ]
     },
     "execution_count": 4,
     "metadata": {},
     "output_type": "execute_result"
    }
   ],
   "source": [
    "with open('/work/pi_wenlongzhao_umass_edu/8/aranade/696-detecting-salient-entities/prep_kb/filtered_kb_4_22.json') as f:\n",
    "    filtered_kb = json.load(f)\n",
    "    \n",
    "alias_kb = {}\n",
    "for entry in filtered_kb:\n",
    "    key = entry['mentions'].lower()\n",
    "    alias_kb.setdefault(key, []).append(entry)\n",
    "    # cid = entry['wiki_id']\n",
    "    # candidate_freq[cid] = candidate_freq.get(cid, 0) + 1\n",
    "\n",
    "# max_freq, min_freq = max(candidate_freq.values()), min(candidate_freq.values())\n",
    "\n",
    "len(alias_kb)"
   ]
  },
  {
   "cell_type": "code",
   "execution_count": 5,
   "id": "6bb1e83a-7b0b-46f0-bd6a-02f01a9bc6eb",
   "metadata": {},
   "outputs": [],
   "source": [
    "def retrieve_candidates(mention, alias_kb):\n",
    "    return alias_kb.get(mention.lower())"
   ]
  },
  {
   "cell_type": "code",
   "execution_count": 7,
   "id": "10000d5a-0348-45a0-bd2c-577f90165287",
   "metadata": {},
   "outputs": [],
   "source": [
    "# import copy\n",
    "\n",
    "# def retrieve_candidates(mention, cutoff=0.8, alpha=0.5, k=10):\n",
    "#     mention_lower = mention.lower()\n",
    "#     close_keys = difflib.get_close_matches(mention_lower, alias_kb.keys(), n=len(alias_kb), cutoff=cutoff)\n",
    "\n",
    "#     # de‑dup while collecting\n",
    "#     seen, uniq = set(), []\n",
    "#     for key in close_keys:\n",
    "#         for cand in alias_kb[key]:\n",
    "#             cid = cand['cand_wiki_id']\n",
    "#             # already collected\n",
    "#             if cid in seen:\n",
    "#                 continue\n",
    "#             seen.add(cid)\n",
    "\n",
    "#             new_cand = copy.deepcopy(cand)\n",
    "#             # weighted score = α·fuzzy + (1‑α)·norm_freq\n",
    "#             fuzzy = difflib.SequenceMatcher(None, mention_lower, cand['mention'].lower()).ratio()\n",
    "#             freq  = candidate_freq[cid]\n",
    "#             norm_freq = (freq - min_freq) / (max_freq - min_freq) if max_freq > min_freq else 1\n",
    "#             new_cand['weighted_score'] = alpha * fuzzy + (1 - alpha) * norm_freq\n",
    "#             uniq.append(new_cand)\n",
    "\n",
    "#     return sorted(uniq, key=lambda c: c['weighted_score'], reverse=True)[:k]"
   ]
  },
  {
   "cell_type": "markdown",
   "id": "743fb85a-23b4-4ce2-9f71-36e02fde2c1c",
   "metadata": {
    "tags": []
   },
   "source": [
    "### PROMPT TEMPLATE  (point‑wise)"
   ]
  },
  {
   "cell_type": "code",
   "execution_count": 11,
   "id": "8a36ca73-b36a-4353-825c-9098eb9cbefa",
   "metadata": {},
   "outputs": [],
   "source": [
    "def pointwise_el_prompt(entity, candidate):\n",
    "    prompt = f\"\"\"<|begin_of_text|><|start_header_id|>system<|end_header_id|> You are an entity disambiguator. I'll provide you with a detailed description of entity disambiguation along with several tips on what to look out for: 1. Context: Look at the surrounding text to understand the topic. 2. Categories: Consider the type of the entity (person, organization, location, etc.). 3. Modifiers: Pay attention to words or phrases that add details to the mention. 4. Co-references: Check other mentions of the same entity in the text. 5. Temporal and Geographical Factors: Consider when and where the text was written. 6. External Knowledge: Use knowledge from outside the text. Remember, effective entity disambiguation requires understanding the text thoroughly, having world knowledge, and exercising good judgment. <|eot_id|><|start_header_id|>user<|end_header_id|>\\n Now, I will provide you with a mention, its context, and a candidate entity. The mention in the context is highlighted with '###'. mention: {entity['entity_title']} context: {entity['surrounding_context']} candidate entity: {candidate['title']}.{candidate['text'][:250]} Output the JSON object in a single line without any line breaks, indentation, or extra spaces. Only output the JSON object. Do not output anything else. Here is the JSON structure to follow: {{\"final_decision\": \"yes or no\", \"reasoning\": \"your explanation here\"}} <|eot_id|><|start_header_id|>assistant<|end_header_id|>\"\"\" \n",
    "    return prompt"
   ]
  },
  {
   "cell_type": "code",
   "execution_count": 54,
   "id": "334ba14a-b881-4dbf-87c0-7316285a9743",
   "metadata": {},
   "outputs": [],
   "source": [
    "# def pointwise_el_chat(entity, candidate):\n",
    "#     return [\n",
    "#         {\n",
    "#             \"role\": \"user\", \n",
    "#             \"content\": (f\"\"\"You are an entity disambiguator. I'll provide you with a detailed description of entity disambiguation along with several tips on what to look out for:\\n 1. Context: Look at the surrounding text to understand the topic. 2. Categories: Consider the type of the entity (person, organization, location, etc.). 3. Modifiers: Pay attention to words or phrases that add details to the mention. 4. Co-references: Check other mentions of the same entity in the text. 5. Temporal and Geographical Factors: Consider when and where the text was written. 6. External Knowledge: Use knowledge from outside the text. Remember, effective entity disambiguation requires understanding the text thoroughly, having world knowledge, and exercising good judgment. Now, I will provide you with a mention, its context, and a candidate entity. The mention in the context is highlighted with '###'. mention: {entity['entity_title']} context: {entity['surrounding_context']}\" candidate entity: {candidate['title']}. {candidate['text'][:300]}. Remember, the final answer must be \\\"yes\\\" when you believe the available information is insufficient or uncertain. Please analyze the information and determine if the mention and the candidate entity are related. Output the JSON object in a single line without any line breaks, indentation, or extra spaces. Only output the JSON object. Do not output anything else. Here is the JSON structure to follow:\"{{\"final_decision\": \"yes or no\",\"reasoning\": \"your explanation here\"}}\"\"\")\n",
    "#         }\n",
    "#     ]"
   ]
  },
  {
   "cell_type": "code",
   "execution_count": 12,
   "id": "481a9bb4-d605-4a5d-9efc-d8aae4cfbc91",
   "metadata": {},
   "outputs": [],
   "source": [
    "def pointwise_el_chat(entity, candidate):\n",
    "    return [\n",
    "        {\n",
    "            \"role\": \"user\", \n",
    "            \"content\": (f\"\"\"You are an entity disambiguator. I'll provide you with a detailed description of entity disambiguation along with several tips on what to look out for:\\n 1. Context: Look at the surrounding text to understand the topic. 2. Categories: Consider the type of the entity (person, organization, location, etc.). 3. Modifiers: Pay attention to words or phrases that add details to the mention. 4. Co-references: Check other mentions of the same entity in the text. 5. Temporal and Geographical Factors: Consider when and where the text was written. 6. External Knowledge: Use knowledge from outside the text. Remember, effective entity disambiguation requires understanding the text thoroughly, having world knowledge, and exercising good judgment. Now, I will provide you with a mention, its context, and a candidate entity. The mention in the context is highlighted with '###'. mention: {entity['entity_title']} context: {entity['surrounding_context']}\" candidate entity: {candidate['title']}. {candidate['text'][:300]}. Remember, the final answer must be \\\"yes\\\" when you believe the available information is insufficient or uncertain. Please analyze the information and determine if the mention and the candidate entity are related. Output the JSON object in a single line without any line breaks, indentation, or extra spaces. Only output the JSON object. Do not output anything else. Here is the JSON structure to follow:\"{{\"final_decision\": \"yes or no\",\"reasoning\": \"your explanation here\"}}\"\"\")\n",
    "        }\n",
    "    ]"
   ]
  },
  {
   "cell_type": "code",
   "execution_count": 14,
   "id": "42917539-4a3e-405e-9992-c9a167b3c2a9",
   "metadata": {},
   "outputs": [],
   "source": [
    "def pointwise_el_chat(entity, candidate):\n",
    "    return [\n",
    "        {\n",
    "            \"role\": \"user\", \n",
    "            \"content\": (f\"\"\"You are an entity disambiguator. I'll provide you with a detailed description of entity disambiguation along with several tips on what to look out for:\\n 1. Context: Look at the surrounding text to understand the topic. 2. Categories: Consider the type of the entity (person, organization, location, etc.). 3. Modifiers: Pay attention to words or phrases that add details to the mention. 4. Co-references: Check other mentions of the same entity in the text. 5. Temporal and Geographical Factors: Consider when and where the text was written. 6. External Knowledge: Use knowledge from outside the text. Remember, effective entity disambiguation requires understanding the text thoroughly, having world knowledge, and exercising good judgment. Your job is to decide whether a candidate should stay on the shortlist for an entity in context. 1. Output **\"yes\"** if the candidate is clearly the correct entity or you are uncertain / information is insufficient. Output **\"no\"** only if the candidate is clearly impossible. Now, I will provide you with an entity, its context, and a candidate with its description. The entity in the context is highlighted with '###'. entity: {entity['entity_title']} context: {entity['surrounding_context']}\" candidate: {candidate['title']}. {candidate['text'][:300]}. Remember, the final answer must be \\\"yes\\\" when you believe the available information is insufficient or uncertain. Please analyze the information and determine if the entity and the candidate are related. Keep the answer to exactly one compact JSON object on a single line, no extra spaces: {{\"final_decision\":\"yes|no\",\"reasoning\":\"\"}}\"\"\")\n",
    "        }\n",
    "    ]"
   ]
  },
  {
   "cell_type": "code",
   "execution_count": 21,
   "id": "aa886726-f069-4c91-b23b-4d4ab2699f3d",
   "metadata": {},
   "outputs": [],
   "source": [
    "def construct_pointwise_prompt(entity, candidate):\n",
    "    return [\n",
    "        {\n",
    "            \"role\": \"user\", \n",
    "            \"content\": (f\"\"\"You are an entity disambiguator. I'll provide you with a detailed description of entity disambiguation along with several tips on what to look out for:\\n 1. Context: Look at the surrounding text to understand the topic. 2. Categories: Consider the type of the entity (person, organization, location, etc.). 3. Modifiers: Pay attention to words or phrases that add details to the mention. 4. Co-references: Check other mentions of the same entity in the text. 5. Temporal and Geographical Factors: Consider when and where the text was written. 6. External Knowledge: Use knowledge from outside the text. Remember, effective entity disambiguation requires understanding the text thoroughly, having world knowledge, and exercising good judgment. Your job is to decide whether a candidate should stay on the shortlist for an entity in context. 1. Output **\"yes\"** if the candidate is clearly the correct entity or you are uncertain or information is insufficient. 2. Output **\"no\"** only if the candidate is clearly impossible. Example 1: entity: Australian. context: \"Earlier today, the ###Australian### Gliders beat the Chinese women's national wheelchair basketball team 57–45 at the Rollers & Gliders World Challenge.\" candidate: Australia — A country in the Southern Hemisphere that includes the mainland of the Australian continent, Tasmania, and numerous smaller islands. {{\"final_decision\":\"yes\",\"reasoning\":\"The mention 'Australian' modifies 'Gliders', a known Australian team. While the candidate is a country, it is plausible and commonly used in such adjectival form.\"}} Example 2: entity: Gliders. context: \"Earlier today, the Australian ###Gliders### beat the Chinese women's national wheelchair basketball team.\"  candidate: Glider (aircraft) — A heavier-than-air aircraft that is supported in flight by the dynamic reaction of the air against its lifting surfaces.  {{\"final_decision\":\"no\",\"reasoning\":\"The candidate refers to an aircraft, which is not relevant here. In the context of a sports match, 'Gliders' refers to a sports team, not a flying machine.\"}} Now, I will provide you with an entity, its context, and a candidate with its description. The entity in the context is highlighted with '###'. entity: {entity['entity_title']} context: {entity['surrounding_context']}\" candidate: {candidate['title']}. {candidate['text'][:300]}. Remember, the final answer must be \"yes\" when you believe the available information is insufficient or uncertain. Please analyze the information and determine if the entity and the candidate are related. Keep the answer to exactly one compact JSON object on a single line, no extra spaces: {{\"final_decision\":\"yes|no\",\"reasoning\":\"\"}}\"\"\")\n",
    "        }\n",
    "    ]"
   ]
  },
  {
   "cell_type": "code",
   "execution_count": 83,
   "id": "b1faadee-914d-4ffc-9196-c985a978a41c",
   "metadata": {},
   "outputs": [],
   "source": [
    "def construct_pointwise_prompt(entity, candidate):\n",
    "    return [\n",
    "        {\n",
    "            \"role\": \"user\", \n",
    "            \"content\": (f\"\"\"You are an entity disambiguator. I'll provide you with a detailed description of entity disambiguation along with several tips on what to look out for:\\n 1. Context: Look at the surrounding text to understand the topic. 2. Categories: Consider the type of the entity (person, organization, location, etc.). 3. Modifiers: Pay attention to words or phrases that add details to the mention. 4. Co-references: Check other mentions of the same entity in the text. 5. Temporal and Geographical Factors: Consider when and where the text was written. 6. External Knowledge: Use knowledge from outside the text. Remember, effective entity disambiguation requires understanding the text thoroughly, having world knowledge, and exercising good judgment. Your job is to decide whether a candidate should stay on the shortlist for an entity in context. Output **\"yes\"** if the candidate is a **plausible match** for the entity mention based on the context. Output **\"no\"** if the candidate is **clearly irrelevant or incompatible** with the context, even if the entity names look similar. Do **not** default to \"yes\" if you're unsure — use clues from the context, entity type, and modifiers to guide your decision. Example 1: entity: Australian. context: \"Earlier today, the ###Australian### Gliders beat the Chinese women's national wheelchair basketball team 57–45 at the Rollers & Gliders World Challenge.\" candidate: Australia — A country in the Southern Hemisphere that includes the mainland of the Australian continent, Tasmania, and numerous smaller islands. {{\"final_decision\":\"yes\",\"reasoning\":\"The mention 'Australian' modifies 'Gliders', a known Australian team. While the candidate is a country, it is plausible and commonly used in such adjectival form.\"}} Example 2: entity: Gliders. context: \"Earlier today, the Australian ###Gliders### beat the Chinese women's national wheelchair basketball team.\"  candidate: Glider (aircraft) — A heavier-than-air aircraft that is supported in flight by the dynamic reaction of the air against its lifting surfaces.  {{\"final_decision\":\"no\",\"reasoning\":\"The candidate refers to an aircraft, which is not relevant here. In the context of a sports match, 'Gliders' refers to a sports team, not a flying machine.\"}} Now, I will provide you with an entity, its context, and a candidate with its description. The entity in the context is highlighted with '###'. entity: {entity['entity_title']} context: {entity['surrounding_context']}\" candidate: {candidate['title']}. {candidate['text'][:300]}. Please analyze the information and determine if the entity and the candidate are related. Keep the answer to exactly one compact JSON object on a single line, no extra spaces: {{\"final_decision\":\"yes|no\",\"reasoning\":\"\"}}\"\"\")\n",
    "        }\n",
    "    ]"
   ]
  },
  {
   "cell_type": "markdown",
   "id": "830acbbe-c917-4158-b8d3-a64cb9232855",
   "metadata": {
    "tags": []
   },
   "source": [
    "### Sample run"
   ]
  },
  {
   "cell_type": "code",
   "execution_count": 66,
   "id": "5c3f30b8-b108-429d-a0e8-1e7779931cf4",
   "metadata": {},
   "outputs": [
    {
     "data": {
      "text/plain": [
       "'Australian'"
      ]
     },
     "execution_count": 66,
     "metadata": {},
     "output_type": "execute_result"
    }
   ],
   "source": [
    "et = wn_val_subset.iloc[0]\n",
    "et['entity_title']"
   ]
  },
  {
   "cell_type": "code",
   "execution_count": 67,
   "id": "3083856c-a8cf-4a64-8798-887c83db7b19",
   "metadata": {
    "scrolled": true,
    "tags": []
   },
   "outputs": [
    {
     "data": {
      "text/plain": [
       "\"Homebush Bay, New South Wales —Earlier today, the Australian Gliders beat the Chinese women's national wheelchair basketball team 57–45 at the Rollers & Gliders World Challenge taking place at the Sport Centre at the Sydney Olympic Park.China won the game's opening tip off but did not score in their first time down the floor. Australia's Sarah Stewart took and missed Australia's first shot. China's 1.5 point player Li Yanhua eventually made the game's first basket. Cobi Crispin made Australia's first basket at 6:55 left in the first quarter, successfully turning her basket into a three point play by making her free throw as a result of a personal foul. Aggressive first quarter play resulted in four Chinese personal fouls with 5:21 left. The first quarter ended 13–9 in China's favour.The first half ended 24–20, with China leading. China's lead came with a high level of energy, the bench loudly supporting their players, few substitutions, lots of on the court talk, playing a half court game that involved setting up the defense early and fouling. In contrast, Australia played a different first half. The team did not yell from the bench or on the court, had many substitutions, ran the shot clock down and played a full court defense.The second half contrasted visibly with the first. Fewer fouls were made by both teams. Australia continued to run the shot clock down but their bench woke up, started cheering loudly for their teammates and made fewer substitutions. The Australians tied the game 34–34 with 1:54 left in the third quarter. China's answer to the closer game was to start substituting players. Tactically, things were little changed as neither team changed their defensive game. The game was tied again at 9:01 left in the fourth with a score of 38–38. Australia was up 42–38 at 7:14 left in the fourth. Some of China's defensive difficulties continued to hold them back, including a player who entered the box early for a second time during a free throw shot by an Australian player.The Gliders will play tomorrow at 2:30pm Sydney time in the first place match against an opponent to be determined in a game later today between Germany and Japan.\""
      ]
     },
     "execution_count": 67,
     "metadata": {},
     "output_type": "execute_result"
    }
   ],
   "source": [
    "et['article_text']"
   ]
  },
  {
   "cell_type": "code",
   "execution_count": 68,
   "id": "709672ff-bf88-43bf-bd7f-02f6800657c9",
   "metadata": {},
   "outputs": [
    {
     "data": {
      "text/plain": [
       "\"Homebush Bay, New South Wales —Earlier today, the ###Australian### Gliders beat the Chinese women's national wheelchair basketball team 57–45 at the Rollers & Gliders World Challenge taking place at the Sport Centre at the Sydney Olympic Park. China won the game's opening tip off but did not score in their first time down the floor. Australia's Sarah Stewart took and missed Australia's first shot.\""
      ]
     },
     "execution_count": 68,
     "metadata": {},
     "output_type": "execute_result"
    }
   ],
   "source": [
    "et['surrounding_context']"
   ]
  },
  {
   "cell_type": "code",
   "execution_count": 69,
   "id": "cd24f98f-f387-446e-a4cd-29d8f23cf9d8",
   "metadata": {},
   "outputs": [
    {
     "data": {
      "text/plain": [
       "58"
      ]
     },
     "execution_count": 69,
     "metadata": {},
     "output_type": "execute_result"
    }
   ],
   "source": [
    "candidates=retrieve_candidates(et['entity_title'], alias_kb)\n",
    "len(candidates)"
   ]
  },
  {
   "cell_type": "code",
   "execution_count": 70,
   "id": "14b49594-7355-4d49-a506-7357309999fd",
   "metadata": {
    "tags": []
   },
   "outputs": [
    {
     "name": "stderr",
     "output_type": "stream",
     "text": [
      "Processed prompts: 100%|██████████| 1/1 [00:02<00:00,  2.07s/it, est. speed input: 226.17 toks/s, output: 32.93 toks/s]\n"
     ]
    },
    {
     "data": {
      "text/plain": [
       "'{\"final_decision\": \"no\",\"reasoning\": \"The context mentions Homebush Bay, New South Wales, and the Australian Gliders, indicating that \\'Australian\\' refers to the team, not the country. The use of \\'Australian\\' as an adjective to describe the team suggests a nationality, rather than a geographic location.\"}'"
      ]
     },
     "execution_count": 70,
     "metadata": {},
     "output_type": "execute_result"
    }
   ],
   "source": [
    "prompt1=pointwise_el_chat(et, candidates[0])\n",
    "op1 = llm.chat(messages=prompt1, sampling_params=sampling_params)\n",
    "op1[0].outputs[0].text"
   ]
  },
  {
   "cell_type": "code",
   "execution_count": 71,
   "id": "e3fe0fa0-d40b-42e1-8462-1cca50aa2c61",
   "metadata": {},
   "outputs": [
    {
     "data": {
      "text/plain": [
       "False"
      ]
     },
     "execution_count": 71,
     "metadata": {},
     "output_type": "execute_result"
    }
   ],
   "source": [
    "decision(op1[0].outputs[0].text)"
   ]
  },
  {
   "cell_type": "code",
   "execution_count": 72,
   "id": "342b7dcd-b0db-4258-a3a6-f21e96552871",
   "metadata": {},
   "outputs": [
    {
     "name": "stderr",
     "output_type": "stream",
     "text": [
      "Processed prompts: 100%|██████████| 1/1 [00:02<00:00,  2.26s/it, est. speed input: 178.80 toks/s, output: 32.83 toks/s]\n"
     ]
    },
    {
     "data": {
      "text/plain": [
       "'\\n\\n{\"final_decision\": \"yes\", \"reasoning\": \"The mention ###Australian### is in the context of a sports team name, and the candidate entity is the country of Australia, which is consistent with the context of the sports team name, especially considering the country\\'s name is often used in team names, such as the Australian national wheelchair basketball team.\"}'"
      ]
     },
     "execution_count": 72,
     "metadata": {},
     "output_type": "execute_result"
    }
   ],
   "source": [
    "prompt2=pointwise_el_prompt(et, candidates[0])\n",
    "op2 = llm.generate(prompts=prompt2, sampling_params=sampling_params)\n",
    "op2[0].outputs[0].text"
   ]
  },
  {
   "cell_type": "code",
   "execution_count": 73,
   "id": "bbc83dc9-440c-4483-a4d0-dfd17cc119bf",
   "metadata": {},
   "outputs": [
    {
     "data": {
      "text/plain": [
       "True"
      ]
     },
     "execution_count": 73,
     "metadata": {},
     "output_type": "execute_result"
    }
   ],
   "source": [
    "decision(op2[0].outputs[0].text)"
   ]
  },
  {
   "cell_type": "code",
   "execution_count": 74,
   "id": "904e3570-253b-4867-9398-feeb2a788795",
   "metadata": {},
   "outputs": [
    {
     "name": "stderr",
     "output_type": "stream",
     "text": [
      "Processed prompts: 100%|██████████| 1/1 [00:01<00:00,  1.39s/it, est. speed input: 539.76 toks/s, output: 31.03 toks/s]\n"
     ]
    },
    {
     "data": {
      "text/plain": [
       "'{\"final_decision\":\"yes\",\"reasoning\":\"The mention \\'Australian\\' modifies \\'Gliders\\', a known Australian team. The candidate is a country that the team is from, making it a plausible match.\"}'"
      ]
     },
     "execution_count": 74,
     "metadata": {},
     "output_type": "execute_result"
    }
   ],
   "source": [
    "prompt3=construct_pointwise_prompt(et, candidates[0])\n",
    "op3 = llm.chat(messages=prompt3, sampling_params=sampling_params)\n",
    "op3[0].outputs[0].text"
   ]
  },
  {
   "cell_type": "code",
   "execution_count": 75,
   "id": "5d5aa5f2-2d52-49eb-bf1c-74d66a724049",
   "metadata": {},
   "outputs": [
    {
     "data": {
      "text/plain": [
       "True"
      ]
     },
     "execution_count": 75,
     "metadata": {},
     "output_type": "execute_result"
    }
   ],
   "source": [
    "decision(op3[0].outputs[0].text)"
   ]
  },
  {
   "cell_type": "code",
   "execution_count": 14,
   "id": "1b38a4eb-37fd-47f7-80ae-dc50eb2e0e77",
   "metadata": {},
   "outputs": [],
   "source": [
    "# def decision(text: str) -> bool:\n",
    "#     try:\n",
    "#         text = text.strip()\n",
    "\n",
    "#         # If text already starts with { and ends with }, treat it directly\n",
    "#         if text.startswith(\"{\") and text.endswith(\"}\"):\n",
    "#             data = json.loads(text)\n",
    "#             return data.get(\"final_decision\", \"\").strip().lower() == \"yes\"\n",
    "        \n",
    "#         # fallback: try to find first {...} block manually\n",
    "#         first_brace = text.find(\"{\")\n",
    "#         last_brace = text.rfind(\"}\")\n",
    "#         if first_brace != -1 and last_brace != -1:\n",
    "#             json_chunk = text[first_brace:last_brace+1]\n",
    "#             data = json.loads(json_chunk)\n",
    "#             return data.get(\"final_decision\", \"\").strip().lower() == \"yes\"\n",
    "\n",
    "#         raise ValueError(\"No JSON block found\")\n",
    "\n",
    "#     except Exception as e:\n",
    "#         print(f\"[decision error] Could not parse decision from: {text[:100]} — {e}\")\n",
    "#         return False\n",
    "\n",
    "def decision(text: str) -> bool:\n",
    "    \"\"\"\n",
    "    Extract the LLM’s yes/no verdict.\n",
    "    If extraction fails, default to True (‘yes’) to maintain high recall.\n",
    "    \"\"\"\n",
    "    try:\n",
    "        if not text:\n",
    "            raise ValueError(\"empty text\")\n",
    "\n",
    "        # Strip ``` or ```json fences and surrounding whitespace\n",
    "        text = re.sub(r\"^```(?:json)?|```$\", \"\", text.strip(), flags=re.MULTILINE).strip()\n",
    "\n",
    "        # ---------- 1. strict‑ish JSON ----------\n",
    "        if text.startswith(\"{\") and text.endswith(\"}\"):\n",
    "            try:\n",
    "                data = json.loads(text)\n",
    "            except json.JSONDecodeError:\n",
    "                # fix single quotes & trailing commas, then retry\n",
    "                cleaned = re.sub(r\"(')\", '\"', text)\n",
    "                cleaned = re.sub(r\",\\s*([}\\]])\", r\"\\1\", cleaned)\n",
    "                data = json.loads(cleaned)\n",
    "\n",
    "            for k in (\"final_decision\", \"finalDecision\", \"decision\"):\n",
    "                if k in data:\n",
    "                    return str(data[k]).strip().lower() == \"yes\"\n",
    "\n",
    "        # ---------- 2. regex fallback ----------\n",
    "        m = re.search(\n",
    "            r'''(?:final[_\\s]?decision|finalDecision|decision)  # key variants\n",
    "                \\s*[\"']?\\s*:\\s*[\"']?\\s*\n",
    "                (?P<ans>yes|no)                                # value\n",
    "            ''',\n",
    "            text,\n",
    "            flags=re.IGNORECASE | re.VERBOSE,\n",
    "        )\n",
    "        if m:\n",
    "            return m.group(\"ans\").lower() == \"yes\"\n",
    "\n",
    "        # If we reach here, we didn’t find a usable answer\n",
    "        raise ValueError(\"final_decision key not found\")\n",
    "\n",
    "    except Exception as e:\n",
    "        print(f\"[decision warning] Falling back to YES ‑ could not parse: {text[:120]} — {e}\")\n",
    "        return True"
   ]
  },
  {
   "cell_type": "markdown",
   "id": "47b21d00-ad6a-4d51-9122-e3bfc871fe0c",
   "metadata": {
    "jp-MarkdownHeadingCollapsed": true,
    "tags": []
   },
   "source": [
    "### Old implementation"
   ]
  },
  {
   "cell_type": "code",
   "execution_count": null,
   "id": "29f92591-13a3-4270-b8f6-f64609abcbab",
   "metadata": {},
   "outputs": [],
   "source": [
    "# # [(article_idx, ent_idx, cand_idx, prompt_str)]\n",
    "# prompt_records = []          \n",
    "\n",
    "# for art_idx, output in enumerate(sed_outputs):\n",
    "#     for ent_idx, ent in enumerate(output[\"entities\"]):\n",
    "#         ent[\"candidates\"] = retrieve_candidates(ent[\"entity_title\"])\n",
    "#         for cand_idx, cand in enumerate(ent[\"candidates\"]):\n",
    "#             prompt_records.append((art_idx, ent_idx, cand_idx, point_wise_el_prompt(ent, cand)))"
   ]
  },
  {
   "cell_type": "code",
   "execution_count": null,
   "id": "19263510-266e-4ad6-bceb-f3418e352446",
   "metadata": {},
   "outputs": [
    {
     "data": {
      "text/plain": [
       "147315"
      ]
     },
     "execution_count": 10,
     "metadata": {},
     "output_type": "execute_result"
    }
   ],
   "source": [
    "# len(prompt_records)"
   ]
  },
  {
   "cell_type": "code",
   "execution_count": null,
   "id": "57c8b18c-d5c6-4aa5-bbdb-43f1c64a1bbd",
   "metadata": {},
   "outputs": [
    {
     "name": "stdout",
     "output_type": "stream",
     "text": [
      "Saved\n"
     ]
    }
   ],
   "source": [
    "# with open(f\"prompts/prompt_records_4_18_v3.json\", \"w\", encoding=\"utf-8\") as f:\n",
    "#         json.dump(prompt_records, f, indent=2)\n",
    "# print('Saved')"
   ]
  },
  {
   "cell_type": "code",
   "execution_count": null,
   "id": "19c5951d-688e-46ce-ba0c-12e0048c9a5f",
   "metadata": {
    "tags": []
   },
   "outputs": [],
   "source": [
    "# for chunk_start in range(0, len(prompt_records), BATCH):\n",
    "#     chunk = prompt_records[chunk_start: chunk_start+BATCH]\n",
    "#     prompts = [p[-1] for p in chunk]\n",
    "#     responses = llm.generate(prompts=prompts, sampling_params=sampling_params)\n",
    "\n",
    "#     timestamp = datetime.datetime.now().isoformat()\n",
    "#     batch_out = []\n",
    "\n",
    "#     for rec, resp in zip(chunk, responses):\n",
    "#         art_idx, ent_idx, cand_idx, _ = rec\n",
    "#         txt = resp.outputs[0].text\n",
    "#         keep = decision(txt)\n",
    "\n",
    "#         sed_outputs[art_idx][\"entities\"][ent_idx][\"candidates\"][cand_idx][\"llm_decision\"] = txt\n",
    "#         sed_outputs[art_idx][\"entities\"][ent_idx][\"candidates\"][cand_idx][\"relevant\"] = keep\n",
    "\n",
    "#         batch_out.append({\n",
    "#             \"article_idx\": art_idx,\n",
    "#             \"entity_idx\":  ent_idx,\n",
    "#             \"cand_idx\":    cand_idx,\n",
    "#             \"keep\":        keep,\n",
    "#             \"llm_text\":    txt,\n",
    "#             \"timestamp\":   timestamp\n",
    "#         })\n",
    "\n",
    "#     with open(f\"outputs/pointwise/pointwise_filtered/batch_{chunk_start//BATCH+1}_{timestamp.replace(':','-')}.json\", \"w\", encoding=\"utf-8\") as f:\n",
    "#         json.dump(batch_out, f, indent=2)\n",
    "#     print(f'Saved batch {chunk_start//BATCH+1}')"
   ]
  },
  {
   "cell_type": "code",
   "execution_count": null,
   "id": "32719f76-3438-4bdf-8ff2-33a9fada4568",
   "metadata": {},
   "outputs": [],
   "source": [
    "# with open(f\"outputs/pointwise/pointwise_filtered/pointwise_sed_outputs_pre_pruning.json\", \"w\", encoding=\"utf-8\") as f:\n",
    "#     json.dump(sed_outputs, f, indent=2)"
   ]
  },
  {
   "cell_type": "code",
   "execution_count": 17,
   "id": "e8b610d9-753c-4b1e-b030-7394b1764111",
   "metadata": {},
   "outputs": [],
   "source": [
    "for output in sed_outputs:\n",
    "    for ent in output[\"entities\"]:\n",
    "        ent[\"candidates\"] = [c for c in ent[\"candidates\"] if c.get(\"relevant\")]"
   ]
  },
  {
   "cell_type": "code",
   "execution_count": 19,
   "id": "cde0bc97-82f3-4e74-95da-35df0d954424",
   "metadata": {},
   "outputs": [],
   "source": [
    "with open(f\"outputs/pointwise/pointwise_filtered/pointwise_sed_outputs.json\", \"w\", encoding=\"utf-8\") as f:\n",
    "    json.dump(sed_outputs, f, indent=2)"
   ]
  },
  {
   "cell_type": "code",
   "execution_count": 21,
   "id": "8d382214-716f-4768-a03d-519c2b146b09",
   "metadata": {},
   "outputs": [],
   "source": [
    "chunk_7500 = prompt_records[chunk_start: chunk_start+BATCH]\n",
    "prompts_7500 = [p[-1] for p in chunk]"
   ]
  },
  {
   "cell_type": "code",
   "execution_count": 24,
   "id": "bc8b2e96-59bf-458c-a59e-54687a9bfa87",
   "metadata": {},
   "outputs": [
    {
     "data": {
      "text/plain": [
       "((272,\n",
       "  6,\n",
       "  4,\n",
       "  '\\n        <|begin_of_text|><|start_header_id|>system<|end_header_id|>\\n\\n        You are an entity disambiguator. I\\'ll provide you with a detailed description of entity disambiguation along with several tips on what to look out for:\\n\\n        1. Context: Look at the surrounding text to understand the topic.\\n\\n        2. Categories: Consider the type of the entity (person, organization, location, etc.).\\n\\n        3. Modifiers: Pay attention to words or phrases that add details to the mention.\\n\\n        4. Co-references: Check other mentions of the same entity in the text.\\n\\n        5. Temporal and Geographical Factors: Consider when and where the text was written.\\n\\n        6. External Knowledge: Use knowledge from outside the text.\\n\\n        Remember, effective entity disambiguation requires understanding the text thoroughly, having world knowledge, and exercising good judgment.\\n \\n        <|eot_id|><|start_header_id|>user<|end_header_id|>\\n\\n        Now, I will provide you with a mention, its context, and a candidate entity. The mention in the context is highlighted with \\'###\\'.\\n\\n        mention: Red Bull context: fifth while his teammate Vitaly Petrov finished seventh.Sebastian Vettel of ###Red Bull### who had taken the pole in qualifying to the main\\n\\n        candidate entity: Red Bull.Red Bull is an energy drink sold by Red Bull GmbH, an Austrian company, with the highest market share in the world, available in a tall and slim blue-silver can, and marketed through extreme sport events, celebrity endorsements, and music, with a slogan of \"Red Bull gives you wings,\" and considered safe for consumption by the European Food Safety Authority, despite potential health risks associated with energy drinks.\\n\\n        Please analyze the information: determine if the mention and the candidate entity are related. Your response should follow this exact structure:\\n        1. Final Decision (at the beginning): On the very first line, output exactly one line in the following format: Final Decision: yes   OR   Final Decision: no\\n\\n        2. Brief Explanation: Immediately following the final decision, provide a short sentence summarizing why that decision was made.\\n\\n        3. Detailed Reasoning: Provide a thorough explanation of your analysis, covering all relevant points.\\n\\n        4. Final Decision (repeat): At the very end of your response, on a new line, repeat the final decision in the same format as the first line.\\n\\n\\n        For example, a correct output would be:\\n\\n        Final Decision: no\\n\\n        I determined that the information is not sufficient to establish a relationship because [brief explanation].\\n\\n        [Your detailed reasoning here...]\\n\\n        Final Decision: no\\n\\n        Remember, answer \"yes\" when you believe the available information is insufficient or uncertain.\\n\\n        <|eot_id|><|start_header_id|>assistant<|end_header_id|>\\n\\n        \\n    '),\n",
       " '\\n        <|begin_of_text|><|start_header_id|>system<|end_header_id|>\\n\\n        You are an entity disambiguator. I\\'ll provide you with a detailed description of entity disambiguation along with several tips on what to look out for:\\n\\n        1. Context: Look at the surrounding text to understand the topic.\\n\\n        2. Categories: Consider the type of the entity (person, organization, location, etc.).\\n\\n        3. Modifiers: Pay attention to words or phrases that add details to the mention.\\n\\n        4. Co-references: Check other mentions of the same entity in the text.\\n\\n        5. Temporal and Geographical Factors: Consider when and where the text was written.\\n\\n        6. External Knowledge: Use knowledge from outside the text.\\n\\n        Remember, effective entity disambiguation requires understanding the text thoroughly, having world knowledge, and exercising good judgment.\\n \\n        <|eot_id|><|start_header_id|>user<|end_header_id|>\\n\\n        Now, I will provide you with a mention, its context, and a candidate entity. The mention in the context is highlighted with \\'###\\'.\\n\\n        mention: Red Bull context: fifth while his teammate Vitaly Petrov finished seventh.Sebastian Vettel of ###Red Bull### who had taken the pole in qualifying to the main\\n\\n        candidate entity: Red Bull.Red Bull is an energy drink sold by Red Bull GmbH, an Austrian company, with the highest market share in the world, available in a tall and slim blue-silver can, and marketed through extreme sport events, celebrity endorsements, and music, with a slogan of \"Red Bull gives you wings,\" and considered safe for consumption by the European Food Safety Authority, despite potential health risks associated with energy drinks.\\n\\n        Please analyze the information: determine if the mention and the candidate entity are related. Your response should follow this exact structure:\\n        1. Final Decision (at the beginning): On the very first line, output exactly one line in the following format: Final Decision: yes   OR   Final Decision: no\\n\\n        2. Brief Explanation: Immediately following the final decision, provide a short sentence summarizing why that decision was made.\\n\\n        3. Detailed Reasoning: Provide a thorough explanation of your analysis, covering all relevant points.\\n\\n        4. Final Decision (repeat): At the very end of your response, on a new line, repeat the final decision in the same format as the first line.\\n\\n\\n        For example, a correct output would be:\\n\\n        Final Decision: no\\n\\n        I determined that the information is not sufficient to establish a relationship because [brief explanation].\\n\\n        [Your detailed reasoning here...]\\n\\n        Final Decision: no\\n\\n        Remember, answer \"yes\" when you believe the available information is insufficient or uncertain.\\n\\n        <|eot_id|><|start_header_id|>assistant<|end_header_id|>\\n\\n        \\n    ')"
      ]
     },
     "execution_count": 24,
     "metadata": {},
     "output_type": "execute_result"
    }
   ],
   "source": [
    "chunk_7500[-1], prompts_7500[-1]"
   ]
  },
  {
   "cell_type": "markdown",
   "id": "e6ec5c1a-a5fe-4e10-a67f-464e7bece758",
   "metadata": {},
   "source": [
    "### Dataframe based inference"
   ]
  },
  {
   "cell_type": "code",
   "execution_count": 20,
   "id": "5c8a1043-b3cc-4c8a-a709-8f1c86405178",
   "metadata": {},
   "outputs": [],
   "source": [
    "skipped_rows = []\n",
    "wn_val_subset['candidates'] = None\n",
    "wn_val_subset['pre_pt_len_candidates'] = 0\n",
    "\n",
    "# [(row_idx, cand_idx, prompt_str)]\n",
    "for idx, row in wn_val_subset.iterrows():\n",
    "    row_candidates = retrieve_candidates(row['entity_title'], alias_kb)\n",
    "    if not row_candidates:\n",
    "        skipped_rows.append((idx, row['entity_title']))\n",
    "        continue\n",
    "        \n",
    "    wn_val_subset.at[idx, 'candidates'] = row_candidates\n",
    "    wn_val_subset.at[idx, 'pre_pt_len_candidates'] = len(row_candidates)"
   ]
  },
  {
   "cell_type": "code",
   "execution_count": 21,
   "id": "68826831-e727-4540-8b6e-64dda95e6999",
   "metadata": {},
   "outputs": [],
   "source": [
    "# wn_val_subset.to_csv('outputs/pointwise/wn_val_subset_5_7_pre_pt.csv', index=False)"
   ]
  },
  {
   "cell_type": "code",
   "execution_count": 76,
   "id": "40fbe1ea-872a-4818-8349-e12d6d590a99",
   "metadata": {},
   "outputs": [],
   "source": [
    "wn_val_subset = pd.read_csv('outputs/pointwise/wn_val_subset_5_7_pre_pt.csv', dtype={'gt_wiki_id': 'Int64'})"
   ]
  },
  {
   "cell_type": "code",
   "execution_count": 40,
   "id": "dc15af58-9b4f-483e-ae3b-360e04c140ac",
   "metadata": {},
   "outputs": [],
   "source": [
    "# wn_val_subset[wn_val_subset['gt_wiki_id'].isna()==True]\n",
    "# wn_val_subset = wn_val_subset.dropna(subset=['gt_wiki_id'])"
   ]
  },
  {
   "cell_type": "code",
   "execution_count": 77,
   "id": "e5745fa3-16cc-45a9-8ac4-3f5563148b4a",
   "metadata": {},
   "outputs": [
    {
     "name": "stdout",
     "output_type": "stream",
     "text": [
      "<class 'pandas.core.frame.DataFrame'>\n",
      "RangeIndex: 250 entries, 0 to 249\n",
      "Data columns (total 10 columns):\n",
      " #   Column                 Non-Null Count  Dtype \n",
      "---  ------                 --------------  ----- \n",
      " 0   article_text           250 non-null    object\n",
      " 1   date                   250 non-null    object\n",
      " 2   article_title          250 non-null    object\n",
      " 3   entity_title           250 non-null    object\n",
      " 4   entity_salience        250 non-null    int64 \n",
      " 5   offsets                250 non-null    object\n",
      " 6   wiki_ID                250 non-null    int64 \n",
      " 7   surrounding_context    250 non-null    object\n",
      " 8   candidates             237 non-null    object\n",
      " 9   pre_pt_len_candidates  250 non-null    int64 \n",
      "dtypes: int64(3), object(7)\n",
      "memory usage: 19.7+ KB\n"
     ]
    }
   ],
   "source": [
    "wn_val_subset.info()"
   ]
  },
  {
   "cell_type": "code",
   "execution_count": 86,
   "id": "10fe46b2-1fd9-46f7-84b6-8b5e2d7c0f47",
   "metadata": {},
   "outputs": [],
   "source": [
    "wn_val_subset['candidates'] = wn_val_subset['candidates'].apply(\n",
    "    lambda x: ast.literal_eval(x) if isinstance(x, str) else x\n",
    ")"
   ]
  },
  {
   "cell_type": "code",
   "execution_count": 87,
   "id": "1a0dd6ff-d0ce-4529-bfa0-1922c2f33cc1",
   "metadata": {},
   "outputs": [],
   "source": [
    "prompt_records = []\n",
    "\n",
    "for idx, row in wn_val_subset.iterrows():\n",
    "    row_candidates = row['candidates']\n",
    "    if not isinstance(row_candidates, list) or not row_candidates:\n",
    "        continue\n",
    "        \n",
    "    for cand_idx, cand in enumerate(row_candidates):\n",
    "        prompt = construct_pointwise_prompt(row, cand)\n",
    "        # prompt = pointwise_el_prompt(row, cand)\n",
    "        prompt_records.append({\n",
    "            \"row_idx\": idx,\n",
    "            \"cand_idx\": cand_idx,\n",
    "            \"messages\": prompt\n",
    "        })"
   ]
  },
  {
   "cell_type": "code",
   "execution_count": 88,
   "id": "42c7b014-ba2a-452d-910d-45561fb979ce",
   "metadata": {},
   "outputs": [
    {
     "data": {
      "text/plain": [
       "13984"
      ]
     },
     "execution_count": 88,
     "metadata": {},
     "output_type": "execute_result"
    }
   ],
   "source": [
    "len(prompt_records)"
   ]
  },
  {
   "cell_type": "code",
   "execution_count": 89,
   "id": "5f6d59fc-bc3d-471a-a3e3-1914cf789955",
   "metadata": {
    "scrolled": true,
    "tags": []
   },
   "outputs": [
    {
     "data": {
      "text/plain": [
       "{'row_idx': 0,\n",
       " 'cand_idx': 0,\n",
       " 'messages': [{'role': 'user',\n",
       "   'content': 'You are an entity disambiguator. I\\'ll provide you with a detailed description of entity disambiguation along with several tips on what to look out for:\\n 1. Context: Look at the surrounding text to understand the topic. 2. Categories: Consider the type of the entity (person, organization, location, etc.). 3. Modifiers: Pay attention to words or phrases that add details to the mention. 4. Co-references: Check other mentions of the same entity in the text. 5. Temporal and Geographical Factors: Consider when and where the text was written. 6. External Knowledge: Use knowledge from outside the text. Remember, effective entity disambiguation requires understanding the text thoroughly, having world knowledge, and exercising good judgment. Your job is to decide whether a candidate should stay on the shortlist for an entity in context. Output **\"yes\"** if the candidate is a **plausible match** for the entity mention based on the context. Output **\"no\"** if the candidate is **clearly irrelevant or incompatible** with the context, even if the entity names look similar. Do **not** default to \"yes\" if you\\'re unsure — use clues from the context, entity type, and modifiers to guide your decision. Example 1: entity: Australian. context: \"Earlier today, the ###Australian### Gliders beat the Chinese women\\'s national wheelchair basketball team 57–45 at the Rollers & Gliders World Challenge.\" candidate: Australia — A country in the Southern Hemisphere that includes the mainland of the Australian continent, Tasmania, and numerous smaller islands. {\"final_decision\":\"yes\",\"reasoning\":\"The mention \\'Australian\\' modifies \\'Gliders\\', a known Australian team. While the candidate is a country, it is plausible and commonly used in such adjectival form.\"} Example 2: entity: Gliders. context: \"Earlier today, the Australian ###Gliders### beat the Chinese women\\'s national wheelchair basketball team.\"  candidate: Glider (aircraft) — A heavier-than-air aircraft that is supported in flight by the dynamic reaction of the air against its lifting surfaces.  {\"final_decision\":\"no\",\"reasoning\":\"The candidate refers to an aircraft, which is not relevant here. In the context of a sports match, \\'Gliders\\' refers to a sports team, not a flying machine.\"} Now, I will provide you with an entity, its context, and a candidate with its description. The entity in the context is highlighted with \\'###\\'. entity: Australian context: Homebush Bay, New South Wales —Earlier today, the ###Australian### Gliders beat the Chinese women\\'s national wheelchair basketball team 57–45 at the Rollers & Gliders World Challenge taking place at the Sport Centre at the Sydney Olympic Park. China won the game\\'s opening tip off but did not score in their first time down the floor. Australia\\'s Sarah Stewart took and missed Australia\\'s first shot.\" candidate: Australia. Australia, officially the Commonwealth of Australia, is a sovereign country comprising the mainland of the Australian continent, the island of Tasmania, and numerous smaller islands. It is the largest country in Oceania and the world\\'s sixth-largest country by total area. The neighbouring countries . Please analyze the information and determine if the entity and the candidate are related. Keep the answer to exactly one compact JSON object on a single line, no extra spaces: {\"final_decision\":\"yes|no\",\"reasoning\":\"\"}'}]}"
      ]
     },
     "execution_count": 89,
     "metadata": {},
     "output_type": "execute_result"
    }
   ],
   "source": [
    "prompt_records[0]"
   ]
  },
  {
   "cell_type": "code",
   "execution_count": 90,
   "id": "add0bef6-c524-46f5-a3eb-62662eea38da",
   "metadata": {},
   "outputs": [],
   "source": [
    "prompt_df = pd.DataFrame(prompt_records)"
   ]
  },
  {
   "cell_type": "code",
   "execution_count": 91,
   "id": "6bbe6ce5-fbaa-4ba5-b239-d28a9ac79d0f",
   "metadata": {},
   "outputs": [
    {
     "data": {
      "text/html": [
       "<div>\n",
       "<style scoped>\n",
       "    .dataframe tbody tr th:only-of-type {\n",
       "        vertical-align: middle;\n",
       "    }\n",
       "\n",
       "    .dataframe tbody tr th {\n",
       "        vertical-align: top;\n",
       "    }\n",
       "\n",
       "    .dataframe thead th {\n",
       "        text-align: right;\n",
       "    }\n",
       "</style>\n",
       "<table border=\"1\" class=\"dataframe\">\n",
       "  <thead>\n",
       "    <tr style=\"text-align: right;\">\n",
       "      <th></th>\n",
       "      <th>row_idx</th>\n",
       "      <th>cand_idx</th>\n",
       "      <th>messages</th>\n",
       "    </tr>\n",
       "  </thead>\n",
       "  <tbody>\n",
       "    <tr>\n",
       "      <th>0</th>\n",
       "      <td>0</td>\n",
       "      <td>0</td>\n",
       "      <td>[{'role': 'user', 'content': 'You are an entit...</td>\n",
       "    </tr>\n",
       "    <tr>\n",
       "      <th>1</th>\n",
       "      <td>0</td>\n",
       "      <td>1</td>\n",
       "      <td>[{'role': 'user', 'content': 'You are an entit...</td>\n",
       "    </tr>\n",
       "    <tr>\n",
       "      <th>2</th>\n",
       "      <td>0</td>\n",
       "      <td>2</td>\n",
       "      <td>[{'role': 'user', 'content': 'You are an entit...</td>\n",
       "    </tr>\n",
       "    <tr>\n",
       "      <th>3</th>\n",
       "      <td>0</td>\n",
       "      <td>3</td>\n",
       "      <td>[{'role': 'user', 'content': 'You are an entit...</td>\n",
       "    </tr>\n",
       "    <tr>\n",
       "      <th>4</th>\n",
       "      <td>0</td>\n",
       "      <td>4</td>\n",
       "      <td>[{'role': 'user', 'content': 'You are an entit...</td>\n",
       "    </tr>\n",
       "  </tbody>\n",
       "</table>\n",
       "</div>"
      ],
      "text/plain": [
       "   row_idx  cand_idx                                           messages\n",
       "0        0         0  [{'role': 'user', 'content': 'You are an entit...\n",
       "1        0         1  [{'role': 'user', 'content': 'You are an entit...\n",
       "2        0         2  [{'role': 'user', 'content': 'You are an entit...\n",
       "3        0         3  [{'role': 'user', 'content': 'You are an entit...\n",
       "4        0         4  [{'role': 'user', 'content': 'You are an entit..."
      ]
     },
     "execution_count": 91,
     "metadata": {},
     "output_type": "execute_result"
    }
   ],
   "source": [
    "prompt_df.head()"
   ]
  },
  {
   "cell_type": "code",
   "execution_count": 93,
   "id": "33431a73-e26f-4761-ac42-c60e804c337b",
   "metadata": {
    "tags": []
   },
   "outputs": [
    {
     "name": "stderr",
     "output_type": "stream",
     "text": [
      "Processed prompts: 100%|██████████| 7500/7500 [17:05<00:00,  7.31it/s, est. speed input: 5830.93 toks/s, output: 384.39 toks/s]\n"
     ]
    },
    {
     "name": "stdout",
     "output_type": "stream",
     "text": [
      "Saved batch 1\n"
     ]
    },
    {
     "name": "stderr",
     "output_type": "stream",
     "text": [
      "Processed prompts: 100%|██████████| 6484/6484 [15:53<00:00,  6.80it/s, est. speed input: 5868.48 toks/s, output: 362.47 toks/s]\n"
     ]
    },
    {
     "name": "stdout",
     "output_type": "stream",
     "text": [
      "Saved batch 2\n"
     ]
    }
   ],
   "source": [
    "BATCH = 7500\n",
    "all_outputs = []\n",
    "\n",
    "for chunk_start in range(0, len(prompt_df), BATCH):\n",
    "    chunk = prompt_df.iloc[chunk_start:chunk_start + BATCH]\n",
    "    messages_batch = list(chunk['messages'])\n",
    "    # responses = llm.generate(prompts=messages_batch, sampling_params=sampling_params)\n",
    "    responses = llm.chat(messages=messages_batch, sampling_params=sampling_params)\n",
    "\n",
    "    outputs = []\n",
    "    for (i, resp) in enumerate(responses):\n",
    "        row = chunk.iloc[i]\n",
    "        txt = resp.outputs[0].text\n",
    "        keep = decision(txt)\n",
    "\n",
    "        outputs.append({\n",
    "            \"row_idx\": row['row_idx'],\n",
    "            \"cand_idx\": row['cand_idx'],\n",
    "            \"keep\": keep,\n",
    "            \"llm_text\": txt\n",
    "        })\n",
    "    all_outputs.extend(outputs)\n",
    "\n",
    "    print(f\"Saved batch {chunk_start//BATCH + 1}\")"
   ]
  },
  {
   "cell_type": "code",
   "execution_count": 94,
   "id": "8ff3d828-278b-4941-9e57-ccd57caa5a7f",
   "metadata": {},
   "outputs": [],
   "source": [
    "import copy\n",
    "\n",
    "wn_val_subset['candidates_after_pointwise'] = wn_val_subset['candidates'].apply(\n",
    "    lambda x: copy.deepcopy(x) if isinstance(x, list) else []\n",
    ")"
   ]
  },
  {
   "cell_type": "code",
   "execution_count": 95,
   "id": "c4520d6c-e637-4918-8d1f-c55c42997129",
   "metadata": {},
   "outputs": [],
   "source": [
    "output_df = pd.DataFrame(all_outputs)\n",
    "\n",
    "for _, row in output_df.iterrows():\n",
    "    row_idx = row['row_idx']\n",
    "    cand_idx = row['cand_idx']\n",
    "    \n",
    "    wn_val_subset.at[row_idx, 'candidates_after_pointwise'][cand_idx]['llm_decision'] = row['llm_text']\n",
    "    wn_val_subset.at[row_idx, 'candidates_after_pointwise'][cand_idx]['relevant'] = row['keep']"
   ]
  },
  {
   "cell_type": "code",
   "execution_count": 96,
   "id": "267a792d-61a2-473a-ad45-f98f32b236ab",
   "metadata": {},
   "outputs": [],
   "source": [
    "wn_val_subset.to_csv('outputs/pointwise/wn_val_subset_5_7_pointwise_pre_pruning.csv', index=False)"
   ]
  },
  {
   "cell_type": "code",
   "execution_count": 78,
   "id": "49795a43-3a4a-4cae-b78d-807f3db0fadc",
   "metadata": {},
   "outputs": [],
   "source": [
    "# pre_pruning_df = pd.read_csv('wn_val_subset_5_1_pointwise_pre_pruning.csv')"
   ]
  },
  {
   "cell_type": "markdown",
   "id": "6a9a63a7-d421-4fc4-9722-235bac91b428",
   "metadata": {},
   "source": [
    "### Prune non‑relevant candidates (in‑place)"
   ]
  },
  {
   "cell_type": "code",
   "execution_count": 97,
   "id": "989619b8-f56d-4ef9-bf03-1f156197a53e",
   "metadata": {},
   "outputs": [],
   "source": [
    "wn_val_subset['candidates_after_pointwise'] = wn_val_subset['candidates_after_pointwise'].apply(\n",
    "    lambda cand_list: [c for c in cand_list if c.get(\"relevant\") is True] if isinstance(cand_list, list) else cand_list\n",
    ")"
   ]
  },
  {
   "cell_type": "code",
   "execution_count": 98,
   "id": "3f4de549-04f0-49c3-b295-daafc3963ae5",
   "metadata": {},
   "outputs": [],
   "source": [
    "wn_val_subset['post_pt_len_candidates'] = wn_val_subset['candidates_after_pointwise'].apply(\n",
    "    lambda x: len(x) if isinstance(x, list) else 0\n",
    ")"
   ]
  },
  {
   "cell_type": "code",
   "execution_count": 99,
   "id": "28b303ce-0ad0-49c0-8d45-8589c7f911c3",
   "metadata": {},
   "outputs": [],
   "source": [
    "wn_val_subset.to_csv('outputs/pointwise/wn_val_subset_5_7_pointwise_results.csv', index=False)"
   ]
  },
  {
   "cell_type": "markdown",
   "id": "35123d03-e448-4f94-9771-d9b6e7269f9a",
   "metadata": {},
   "source": [
    "### Evaluation"
   ]
  },
  {
   "cell_type": "code",
   "execution_count": 100,
   "id": "0bd2baa9-84f2-433c-9837-d1578b538b86",
   "metadata": {
    "scrolled": true,
    "tags": []
   },
   "outputs": [
    {
     "data": {
      "text/plain": [
       "[{'mentions': 'australian',\n",
       "  'wiki_id': 4689264,\n",
       "  'title': 'Australia',\n",
       "  'text': \"Australia, officially the Commonwealth of Australia, is a sovereign country comprising the mainland of the Australian continent, the island of Tasmania, and numerous smaller islands. It is the largest country in Oceania and the world's sixth-largest country by total area. The neighbouring countries are Papua New Guinea, Indonesia, and East Timor to the north; the Solomon Islands and Vanuatu to the north-east; and New Zealand to the south-east. The population of million is highly urbanised and heavily concentrated on the eastern seaboard. Australia's capital is Canberra, and its largest city is Sydney. The country's other major metropolitan areas are Melbourne, Brisbane, Perth, and Adelaide. Indigenous Australians inhabited the continent for about 65,000 years prior to European discovery with the arrival of Dutch explorers in the early 17th century, who named it New Holland. In 1770, Australia's eastern half was claimed by Great Britain and initially settled through penal transportation to the colony of New South Wales from 26 January 1788, a date which became Australia's national day. The population grew steadily in subsequent decades, and by the time of an 1850s gold rush, most of the continent had been explored and an additional five self-governing crown colonies established. On 1January 1901, the six colonies federated, forming the Commonwealth of Australia. Australia has since maintained a stable liberal democratic political system that functions as a federal parliamentary constitutional monarchy, comprising six states and ten territories. Being the oldest, flattest and driest inhabited continent, with the least fertile soils, Australia has a landmass of . A megadiverse country, its size gives it a wide variety of landscapes, with deserts in the centre, tropical rainforests in the north-east and mountain ranges in the south-east. Its population density, 2.8 inhabitants per square kilometre, remains among the lowest in the world. Australia generates its income from various sources including mining-related exports, telecommunications, banking, and manufacturing. Australia is a highly developed country, with the world's 14th-largest economy. It has a high-income economy, with the world's tenth-highest per capita income. It is a regional power and has the world's 13th-highest military expenditure. Australia has the world's eighth-largest immigrant population, with immigrants accounting for 29% of the population. Having the third-highest human development index and the eighth-highest ranked democracy globally, the country ranks highly in quality of life, health, education, economic freedom, civil liberties and political rights, with all its major cities faring well in global comparative livability surveys. Australia is a member of the United Nations, G20, Commonwealth of Nations, ANZUS, Organisation for Economic Co-operation and Development (OECD), World Trade Organization, Asia-Pacific Economic Cooperation, Pacific Islands Forum, and the .\"},\n",
       " {'mentions': 'australian',\n",
       "  'wiki_id': 11197621,\n",
       "  'title': 'Australians',\n",
       "  'text': \"Australians, colloquially known as Aussies (), are citizens of the Commonwealth of Australia. Home to people of many different ethnic origins, religious and national origins, the Australian culture and law does not correspond nationality with race or ethnicity, but with citizenship and loyalty to the country. Australia is a multicultural society and has the world's ninth-largest immigrant population, with immigrants accounting for 29% of the population. Many early settlements were penal colonies, which were home to transported convicts (who often later became ex-convicts) along with free settlers and administrators. Immigration increased exponentially from the 1850s, following a series of gold rushes. Further waves of immigration occurred after the First and Second World Wars, with many post-World War II migrants coming from Europe, Asia, and the Pacific Islands, and to a lesser degree, from Latin America and Africa. Prior to British settlement, Australia was inhabited by various indigenous peoples – Aboriginal Australians, Aboriginal Tasmanians and Torres Strait Islanders, a Melanesian people. A small percentage of present-day Australians descend from these peoples. The development of a separate Australian identity and national character is often linked with the anti-transportation and nativist movements and the Eureka Rebellion during the colonial period and in the lead-up to Federation, as well as the period surrounding the First World War. However, Australian culture predates the federation of the Australian colonies by several decades – Australian literature, most notably the work of the bush poets, dates from colonial times. Modern Australian identity draws on a multicultural and Anglo-Celtic cultural heritage.\"},\n",
       " {'mentions': 'australian',\n",
       "  'wiki_id': 374833,\n",
       "  'title': 'Australia national cricket team',\n",
       "  'text': \"The Australian men's national cricket team represents Australia in international cricket. As one of the oldest teams in Test cricket history, playing in the first ever Test match in 1877, the team also plays One-Day International (ODI) and Twenty20 International (T20I) cricket, participating in both the first ODI, against England in the 1970–71 season and the first T20I, against New Zealand in the 2004–05 season, winning both games. The team draws its players from teams playing in the Australian domestic competitions – the Sheffield Shield, the Australian domestic limited-overs cricket tournament and the Big Bash League. The national team has played 820 Test matches, winning 386, losing 222, drawing 210 and tying 2. , Australia is ranked fifth in the ICC Test Championship on 99 rating points. Australia is the most successful team in Test cricket history, in terms of overall wins, win-loss ratio and wins percentage. The Australian cricket team has played 939 ODI matches, winning 572, losing 324, tying 9 and with 34 ending in a no-result. , Australia is ranked third in the ICC ODI Championship on 113 rating points, though have been ranked first for 141 of 185 months since its introduction in 2002Australia is the most successful ODI team in history, winning more than 60 per cent of their matches. Australia have made a record seven World Cup final appearances (1975, 1987, 1996, 1999, 2003, 2007 and 2015) and have won the World Cup a record five times: 1987, 1999, 2003, 2007 and 2015. Australia is the first team to appear in four consecutive World Cup finals (1996, 1999, 2003 and 2007), surpassing the old record of three consecutive World Cup appearances by the West Indies (1975, 1979 and 1983) and the first team to win 3 consecutive World Cups (1999, 2003 and 2007). The team was undefeated in 34 consecutive World Cup matches until 19 March at the 2011 Cricket World Cup where Pakistan beat them by 4 wickets. It is also the second team to win a World Cup (2015) on home soil, after India (2011). Australia have also won the ICC Champions Trophy twice (2006 and 2009) making them the first and the only team to become back to back winners in the Champions Trophy tournaments. The national team has played 116 Twenty20 International matches, winning 60, losing 52, tying 2 and with 2 ending in a no-result. , Australia is ranked fifth in the ICC T20I Championship on 261 rating points. Additionally, the team made the final of the 2010 ICC World Twenty20, in which they lost to England. On 12 January 2019, Australia won the first ODI against India at the Sydney Cricket Ground by 34 runs, to record their 1,000th win in international cricket.\"},\n",
       " {'mentions': 'australian',\n",
       "  'wiki_id': 1075201,\n",
       "  'title': 'Australian literature',\n",
       "  'text': 'Australian literature is the written or literary work produced in the area or by the people of the Commonwealth of Australia and its preceding colonies. During its early Western history, Australia was a collection of British colonies, therefore, its recognised literary tradition begins with and is linked to the broader tradition of English literature. However, the narrative art of Australian writers has, since 1788, introduced the character of a new continent into literature—exploring such themes as Aboriginality, mateship, egalitarianism, democracy, national identity, migration, Australia\\'s unique location and geography, the complexities of urban living, and \"the beauty and the terror\" of life in the Australian bush.'},\n",
       " {'mentions': 'australian',\n",
       "  'wiki_id': 1897,\n",
       "  'title': 'Australian English',\n",
       "  'text': \"Australian English (AuE; en-AU) is the set of varieties of the English language native to Australia. Although English has no official status in the Constitution, Australian English is the country's national and de facto official language as it is the first language of the majority of the population. Australian English began to diverge from British English after the First Settlers, who set up the Colony of New South Wales, arrived in 1788. By 1820, their speech was recognised as being different from British English. Australian English arose from the intermingling of early settlers, who were from a great variety of mutually intelligible dialectal regions of Great Britain and Ireland, and quickly developed into a distinct variety of English which differs considerably from most other varieties of English in vocabulary, accent, pronunciation, register, grammar and spelling.\"},\n",
       " {'mentions': 'australian',\n",
       "  'wiki_id': 951978,\n",
       "  'title': 'Australia national rugby league team',\n",
       "  'text': \"The Australian national rugby league team (or the Kangaroos) have represented Australia in senior men's rugby league football competition since the establishment of the 'Northern Union game' in Australia in 1908. Administered by the Australian Rugby League, the Kangaroos are ranked first in the RLIF World Rankings. The team is the most successful in Rugby League World Cup history, having contested all 15 and winning 11 of them, failing to reach the final only once; the inaugural tournament in 1954. Only five nations have beaten Australia in test matches, and Australia have an overall win percentage of 67%. Dating back to 1908, Australia are the fourth oldest national side after England, New Zealand and Wales. The team was first assembled in 1908 for a tour of Great Britain. The majority of the Kangaroos' games since then have been played against Great Britain and New Zealand. In the first half of the 20th century, Australia's international competition came from alternating tours to Great Britain and New Zealand, with Australia playing host to these teams in non-tour years. Great Britain dominated in the early years, and Australia did not win a Test against the Lions until 11 November 1911 under captain Chris McKivat. Australia did not win a series at home against Great Britain until 1920 or abroad until 1958. Since 1908, the team has been nicknamed the Kangaroos. Initially only used when touring Great Britain, and later France, this has been the official nickname of the team since 7 July 1994. In 1997 Australia was also represented by a Super League Australia team, drawing on players from that year's competition. While in the past players for the side had been selected from clubs in various leagues around the country, in recent years the side has consisted exclusively of players from clubs of the National Rugby League.\"},\n",
       " {'mentions': 'australian',\n",
       "  'wiki_id': 526224,\n",
       "  'title': 'Indo-Australian Plate',\n",
       "  'text': 'The Indo-Australian Plate is a major tectonic plate that includes the continent of Australia and surrounding ocean, and extends northwest to include the Indian subcontinent and adjacent waters. It was formed by the fusion of Indian and Australian plates approximately 43 million years ago.'},\n",
       " {'mentions': 'australian',\n",
       "  'wiki_id': 67530,\n",
       "  'title': 'Music of Australia',\n",
       "  'text': 'The music of Australia has an extensive history made of music societies. Indigenous Australian music is a part of the unique heritage of a 40,000 to 60,000 year history which produced the iconic didgeridoo. Contemporary fusions of indigenous and Western styles (exemplified in the works of No Fixed Address, Yothu Yindi, Christine Anu and Geoffrey Gurrumul Yunupingu) mark distinctly Australian contributions to world music. During its early western history, Australia was a collection of British colonies, and Australian folk music and bush ballads such as \"Waltzing Matilda\" were heavily influenced by Anglo-Celtic traditions, while classical forms were derived from those of Europe. Contemporary Australian music ranges across a broad spectrum with trends often concurrent with those of the US, the UK, and similar nations – notably in the Australian rock and Australian country music genres. Tastes have diversified along with post-World War II multicultural immigration to Australia.'},\n",
       " {'mentions': 'australian',\n",
       "  'wiki_id': 97851,\n",
       "  'title': 'Australian Open',\n",
       "  'text': 'The Australian Open is a tennis tournament held annually over the last fortnight of January in Melbourne, Australia. The tournament is the first of the four Grand Slam tennis events held each year, preceding the French Open, Wimbledon, and the US Open. It features men\\'s and women\\'s singles; men\\'s, women\\'s, and mixed doubles; junior\\'s championships; and wheelchair, legends, and exhibition events. Prior to 1988 it was played on grass courts, but since then two types of hardcourt surfaces have been used at Melbourne Park – green coloured Rebound Ace up to 2007 and, afterwards, blue Plexicushion. First held in 1905 as the Australasian championships, the Australian Open has grown to become the largest annual sporting event in the Southern Hemisphere. Nicknamed \"the happy slam\" and often referred to as the \"Grand Slam of Asia/Pacific\" the tournament is the highest attended Grand Slam event, with more than 780,000 people attending the 2019 edition. It was also the first Grand Slam tournament to feature indoor play during wet weather or extreme heat with its eventually three primary courts, the Rod Laver Arena, Melbourne Arena and the refurbished Margaret Court Arena equipped with retractable roofs.'},\n",
       " {'mentions': 'australian',\n",
       "  'wiki_id': 62264,\n",
       "  'title': 'Australian cuisine',\n",
       "  'text': \"Australian cuisine refers to the food and cooking practices of Australia and its inhabitants. As a modern nation of large-scale immigration, Australia has a unique blend of culinary contributions and adaptations from various cultures around the world, including Indigenous Australians, Asians, Europeans and Pacific Islanders. Indigenous Australians have occupied Australia for some 65,000 years, during which they developed a unique hunter-gatherer diet, known as bush tucker, drawn from regional Australian flora and fauna. Australia became a collection of British colonies from 1788 to 1900, during which time culinary tastes were strongly influenced by British and Irish migrants, with agricultural products such as beef cattle, sheep and wheat becoming staples in the local diet. The Australian gold rushes introduced more varied immigrants and cuisines, mainly Chinese, whilst Australia's post-war multicultural immigration program led to a large-scale diversification of local food, particularly under the influence of Mediterranean and East and South Asian Australians. Australian cuisine in the 21st century reflects the influence of globalisation, with many fast-food restaurants and international trends becoming influential. Organic and biodynamic foods have also become widely available alongside a revival of interest in bushfood. Australia has become famous for the high quality of its exports, with major agricultural industries including cattle and calves, wheat, fruit and nuts, vegetables, milk, sheep and lambs (for meat and wool), poultry, barley, canola. The country is also well regarded for its locally-made wine, beer and soft drinks. While fast food chains are abundant, Australia's metropolitan areas have famed haute cuisine and nouvelle cuisine establishments that offer both local and international foods. Restaurants whose product includes contemporary adaptations, interpretations or fusions of exotic influences are frequently termed Modern Australian.\"},\n",
       " {'mentions': 'australian',\n",
       "  'wiki_id': 3002226,\n",
       "  'title': 'ARIA Charts',\n",
       "  'text': \"The ARIA Charts are the main Australian music sales charts, issued weekly by the Australian Recording Industry Association. The charts are a record of the highest selling songs and albums in various genres in Australia. ARIA became the official Australian music chart in June 1988, succeeding the Kent Music Report which had been Australia's national charts since 1974.\"},\n",
       " {'mentions': 'australian',\n",
       "  'wiki_id': 26327,\n",
       "  'title': 'Royal Australian Navy',\n",
       "  'text': \"The Royal Australian Navy (RAN) is the naval branch of the Australian Defence Force. Following the Federation of Australia in 1901, the ships and resources of the separate colonial navies were integrated into a national force, called the Commonwealth Naval Forces. Originally intended for local defence, the navy was granted the title of 'Royal Australian Navy' in 1911, and became increasingly responsible for defence of the region. Britain's Royal Navy’s Australian Squadron was assigned to the Australia Station and provided support to the RAN. The Australian and New Zealand governments helped to fund the Australian Squadron until 1913, while the Admiralty committed itself to keeping the Squadron at a constant strength. The Australian Squadron ceased on 4 October 1913, when RAN ships entered Sydney Harbour for the first time. The Royal Navy continued to provide blue-water defence capability in the Pacific up to the early years of the Second World War. Then, rapid wartime expansion saw the acquisition of large surface vessels and the building of many smaller warships. In the decade following the war, the RAN acquired a small number of aircraft carriers, the last of which was decommissioned in 1982. Today, the RAN consists of 48 commissioned vessels, 3 non-commissioned vessels and over 16,000 personnel. The navy is one of the largest and most sophisticated naval forces in the South Pacific region, with a significant presence in the Indian Ocean and worldwide operations in support of military campaigns and peacekeeping missions. The current Chief of Navy is Vice Admiral Michael Noonan.\"},\n",
       " {'mentions': 'australian',\n",
       "  'wiki_id': 2534399,\n",
       "  'title': 'Australian English phonology',\n",
       "  'text': 'Australian English (AuE) is a non-rhotic variety of English spoken by most native-born Australians. Phonologically, it is one of the most regionally homogeneous language varieties in the world. As with most dialects of English, it is distinguished primarily by its vowel phonology. The Australian English vowels , and are noticeably closer (pronounced with a higher tongue position) than their contemporary Received Pronunciation equivalents.'},\n",
       " {'mentions': 'australian',\n",
       "  'wiki_id': 2795,\n",
       "  'title': 'Australian Army',\n",
       "  'text': \"The Australian Army is Australia's military land force. Formed in 1901 through the amalgamation of the Australian colonial forces following federation, it is part of the Australian Defence Force (ADF) along with the Royal Australian Navy and the Royal Australian Air Force. While the Chief of the Defence Force (CDF) commands the ADF, the Army is commanded by the Chief of Army (CA). The CA is therefore subordinate to the CDF, but is also directly responsible to the Minister for Defence. Although Australian soldiers have been involved in a number of minor and major conflicts throughout Australia's history, only during the Second World War has Australian territory come under direct attack.\"},\n",
       " {'mentions': 'australian',\n",
       "  'wiki_id': 620967,\n",
       "  'title': 'Australia national rugby union team',\n",
       "  'text': 'The Australia national rugby union team, nicknamed the Wallabies, is the representative national team in the sport of rugby union for the nation of Australia. The team first played at Sydney in 1899, winning their first test match against the touring British Isles team. Australia have competed in all eight Rugby World Cups, winning the final on two occasions and also finishing as runner-up twice. Australia beat England at Twickenham in the final of the 1991 Rugby World Cup and won again in 1999 at the Millennium Stadium in Cardiff when their opponents in the final were France. The Wallabies also compete annually in The Rugby Championship (formerly the Tri-Nations), along with southern hemisphere counterparts Argentina, New Zealand and South Africa. They have won this championship on four occasions. Australia also plays Test matches against the various rugby-playing nations. More than a dozen former Wallabies players have been inducted into the World Rugby Hall of Fame.'},\n",
       " {'mentions': 'australian',\n",
       "  'wiki_id': 70209,\n",
       "  'title': 'Cinema of Australia',\n",
       "  'text': \"The Australian film industry had its beginnings with the 1906 production of The Story of the Kelly Gang, the earliest feature film ever made. Since then, Australian crews have produced many films, a number of which have received international recognition. Many actors and filmmakers started their careers in Australian films, many of whom have acquired international reputations, and a number of whom have found greater financial benefits in careers in larger film-producing centres, such as in the United States. The first public screenings of films in Australia took place in October 1896, within a year of the world's first screening in Paris by Lumière brothers. The first Australian exhibition took place at the Athenaeum Hall in Collins Street, Melbourne, to provide alternative entertainment for the dance-hall patrons. Commercially successful Australian films have included: Crocodile Dundee, Baz Luhrmann's Moulin Rouge!, and Chris Noonan's  Babe. Other award-winning productions include  Picnic at Hanging Rock,  Gallipoli,  The Tracker,  Shine and Ten Canoes. Australian actors of renown include Errol Flynn, Peter Finch, Rod Taylor, Paul Hogan, Jack Thompson, Bryan Brown, Judy Davis, Jacki Weaver, Geoffrey Rush, Hugo Weaving, Eric Bana, Guy Pearce, Hugh Jackman, Cate Blanchett, Ben Mendelsohn, Anthony LaPaglia, David Wenham, Nicole Kidman, Toni Collette, Rose Byrne, Sam Worthington, Heath Ledger, Abbie Cornish, Chris Hemsworth, Sarah Snook, Mia Wasikowska and Margot Robbie. Cinema in Australia is subject to censorship, called classification, though films may be refused classification, resulting in them being effectively banned.\"},\n",
       " {'mentions': 'australian',\n",
       "  'wiki_id': 4298756,\n",
       "  'title': 'Australian passport',\n",
       "  'text': 'Australian passports are travel documents issued to Australian citizens under by the Australian Passport Office of the Department of Foreign Affairs and Trade (DFAT), both in Australia and overseas, which enable the passport bearer to travel internationally. Australian citizens are allowed to hold passports from other countries. Since 1988 over a million Australian passports have been issued annually, and it reached 1.4 million in 2007, and increasing towards a projected 3 million annually by 2021. Since 24 October 2005 Australia has issued only biometric passports, called ePassports, which have an embedded microchip that contains the same personal information that is on the colour photo page of the passport, including a digitised photograph. As all previous passports have now expired, all Australian passports are now biometric. SmartGates have been installed in Australian airports to allow Australian ePassport holders and ePassport holders of several other countries to clear immigration controls more rapidly, and facial recognition technology has been installed at immigration gates.'},\n",
       " {'mentions': 'australian',\n",
       "  'wiki_id': 396952,\n",
       "  'title': 'The Australian',\n",
       "  'text': \"'The Australian' is a broadsheet newspaper published in Australia from Monday to Saturday each week since 14 July 1964, and is the country's most circulated nationally distributed newspaper, available in each state and territory. It rivals other nationally distributed newspapers like the business-focused Australian Financial Review and The Saturday Paper. The Australian is owned by News Corp Australia.\"},\n",
       " {'mentions': 'australian',\n",
       "  'wiki_id': 81215,\n",
       "  'title': 'Australian dollar',\n",
       "  'text': \"The Australian dollar (sign: $; code: AUD) is the currency of Australia, including its external territories: Christmas Island, Cocos (Keeling) Islands, and Norfolk Island. It is officially used as currency by three independent Pacific Island states: Kiribati, Nauru, and Tuvalu. It is in Australia. Within Australia, it is almost always abbreviated with the dollar sign ($), with A$ or AU$ sometimes used to distinguish it from other dollar-denominated currencies. The $ symbol precedes the amount. It is subdivided into 100 cents. The Australian dollar was introduced on 14 February 1966 to replace the pre-decimal Australian pound, with the conversion rate of A$2 per = A₤1. The Australian dollar was legal tender of Papua New Guinea until 31 December 1975, when the Papua New Guinean kina became sole legal tender, and of the Solomon Islands until 1977, when the Solomon Islands dollar became sole legal tender. In 2016, the Australian dollar was the fifth most traded currency in world foreign exchange markets, accounting for 6.9% of the world's daily share (down from 8.6% in 2013) behind the United States dollar, the European Union's euro, the Japanese yen and the United Kingdom's pound sterling. The Australian dollar is popular with currency traders, because of the comparatively high interest rates in Australia, the relative freedom of the foreign exchange market from government intervention, the general stability of Australia's economy and political system, and the prevailing view that the Australian dollar offers diversification benefits in a portfolio containing the major world currencies, especially because of its greater exposure to Asian economies and the commodities cycle. As at 31 December 2016, there were 57.71 billion US$ equivalent in Australian currency in circulation, $2,379.05 per person in Australia, which includes cash reserves held by the banking system and cash in circulation in other countries or held as a foreign exchange reserve.\"},\n",
       " {'mentions': 'australian',\n",
       "  'wiki_id': 26328,\n",
       "  'title': 'Royal Australian Air Force',\n",
       "  'text': \"The Royal Australian Air Force (RAAF), formed in March 1921, is the aerial warfare branch of the Australian Defence Force (ADF). It operates the majority of the ADF's fixed wing aircraft, although both the Australian Army and Royal Australian Navy also operate aircraft in various roles. It directly continues the traditions of the Australian Flying Corps (AFC), formed on 22 October 1912. The RAAF provides support across a spectrum of operations such as air superiority, precision strikes, intelligence, surveillance and reconnaissance, air mobility, space surveillance, and humanitarian support. The RAAF took part in many of the 20th century's major conflicts. During the early years of the Second World War a number of RAAF bomber, fighter, reconnaissance and other squadrons served in Britain, and with the Desert Air Force located in North Africa and the Mediterranean. From 1942, many RAAF units were formed in Australia, and fought in South West Pacific Area. Thousands of Australians also served with other Commonwealth air forces in Europe, including during the bomber offensive against Germany. By the time the war ended, a total of 216,900 men and women served in the RAAF, of whom 10,562 were killed in action. Later the RAAF served in the Berlin Airlift, Korean War, Malayan Emergency, Indonesia–Malaysia Confrontation and Vietnam War. More recently, the RAAF has participated in operations in East Timor, the Iraq War, the War in Afghanistan, and the military intervention against the Islamic State of Iraq and the Levant (ISIL). The RAAF has 259 aircraft, of which 110 are combat aircraft.\"},\n",
       " {'mentions': 'australian',\n",
       "  'wiki_id': 12519514,\n",
       "  'title': 'Australia national speedway team',\n",
       "  'text': 'Australia is one of the major teams in international motorcycle speedway with the country regarded as the birthplace of the sport in the 1920s. The current team is managed by former rider Mark Lemon, and captained by 2012 World Champion Chris Holder. Australia finished 3rd in the 2014 Speedway World Cup Final on 2 August in Bydgoszcz, Poland.'},\n",
       " {'mentions': 'australian',\n",
       "  'wiki_id': 197156,\n",
       "  'title': 'Australian Securities Exchange',\n",
       "  'text': \"The Australian Securities Exchange (ASX, sometimes referred to outside Australia as the Sydney Stock Exchange) is Australia's primary securities exchange. It is owned by the Australian Securities Exchange Ltd, or ASX Limited, an Australian public company (). Prior to December 2006 it was known as the Australian Stock Exchange, which was formed on 1 April 1987, incorporated under legislation of the Australian Parliament as an amalgamation of the six state securities exchanges. It merged with the Sydney Futures Exchange in 2006. Today, ASX has an average daily turnover of 4.685&nbsp; and a market capitalisation of around A$1.9&nbsp;, making it one of the world's top 16 listed exchange groups.\"},\n",
       " {'mentions': 'australian',\n",
       "  'wiki_id': 6569121,\n",
       "  'title': 'Military history of Australia during World War I',\n",
       "  'text': \"In Australia, the outbreak of World War I was greeted with considerable enthusiasm. Even before Britain declared war on Germany on 4 August 1914, the nation pledged its support alongside other states of the British Empire and almost immediately began preparations to send forces overseas to engage in the conflict. The first campaign that Australians were involved in was in German New Guinea after a hastily raised force known as the Australian Naval and Military Expeditionary Force was dispatched from Australia to seize German possessions in the Pacific in September 1914. At the same time another expeditionary force, initially consisting of 20,000 men and known as the First Australian Imperial Force (AIF), was raised for service overseas. The AIF departed Australia in November 1914 and, after several delays due to the presence of German naval vessels in the Indian Ocean, arrived in Egypt, where they were initially used to defend the Suez Canal. In early 1915, however, it was decided to carry out an amphibious landing on the Gallipoli peninsula with the goal of opening up a second front and securing the passage of the Dardanelles. The Australians and New Zealanders, grouped together as the Australian and New Zealand Army Corps (ANZAC), went ashore on 25 April 1915 and for the next eight months the Anzacs, alongside their British, French and other allies, fought a costly and ultimately unsuccessful campaign against the Turks. The force was evacuated from the peninsula in December 1915 and returned to Egypt, where the AIF was expanded. In early 1916 it was decided that the infantry divisions would be sent to France, where they took part in many of the major battles fought on the Western Front. Most of the light horse units remained in the Middle East until the end of the war, carrying out further operations against the Turks in Egypt and Palestine. Small numbers of Australians served in other theatres of war. While the main focus of the Australian military's effort was the ground war, air and naval forces were also committed. Squadrons of the Australian Flying Corps served in the Middle East and on the Western Front, while elements of the Royal Australian Navy carried out operations in the Atlantic, North Sea, Adriatic and Black Sea, as well as the Pacific and Indian Oceans. By the end of the war, Australians were far more circumspect. The nation's involvement cost more than 60,000 Australian lives and many more were left unable to work as a result of their injuries. The impact of the war was felt in many other areas as well. Financially it was very costly, while the effect on the social and political landscape was considerable and threatened to cause serious divides in the nation's social fabric. Conscription was possibly the most contentious issue and ultimately, despite having conscription for , Australia was one of only three combatants not to use conscripts in the fighting. Nevertheless, for many Australians the nation's involvement in World War I and the Gallipoli campaign was seen as a symbol of its emergence as an international actor, while many of the notions of the Australian character and nationhood that exist today have their origins in the war, and Anzac Day is commemorated as a national holiday.\"},\n",
       " {'mentions': 'australian',\n",
       "  'wiki_id': 2048074,\n",
       "  'title': 'Australian Party',\n",
       "  'text': 'The Australian Party was a political party founded and led by Billy Hughes after his expulsion from the Nationalist Party. The party was formed in 1929, and at its peak had four members of federal parliament. It was merged into the new United Australia Party in 1931, having never contested a federal election.'},\n",
       " {'mentions': 'australian',\n",
       "  'wiki_id': 67538,\n",
       "  'title': 'Australian Defence Force',\n",
       "  'text': 'The Australian Defence Force (ADF) is the military organisation responsible for the defence of Australia. It consists of the Royal Australian Navy (RAN), Australian Army, Royal Australian Air Force (RAAF) and several \"tri-service\" units. The ADF has a strength of just over 82,000 full-time personnel and active reservists and is supported by the Department of Defence and several other civilian agencies. During the first decades of the 20th century, the Australian Government established the armed services as separate organisations. Each service had an independent chain of command. In 1976, the government made a strategic change and established the ADF to place the services under a single headquarters. Over time, the degree of integration has increased and tri-service headquarters, logistics, and training institutions have supplanted many single-service establishments. The ADF is technologically sophisticated but relatively small. Although the ADF\\'s 58,206 full-time active-duty personnel and 21,694 active reservists make it the largest military in Oceania, it is smaller than most Asian military forces. Nonetheless, the ADF is supported by a significant budget by worldwide standards and can deploy forces in multiple locations outside Australia.'},\n",
       " {'mentions': 'australian',\n",
       "  'wiki_id': 330351,\n",
       "  'title': 'Australian Survivor',\n",
       "  'text': '\\'Australian Survivor\\' is an Australian based on the international Survivor format. Following the premise of other versions of the format, the show features a group of contestants who are marooned in an isolated island location, where they must provide food, water, fire, and shelter for themselves. The contestants compete in challenges for rewards and immunity from elimination. The contestants are progressively eliminated from the game as they vote each other off the island until only one remains and is awarded the title of \"Sole Survivor\" and the grand prize of A$500,000. The series first aired in 2002 on the Nine Network, who as of 2019, hold the first-run Australian broadcast rights to the American edition. In 2006, a celebrity edition aired on the Seven Network. Both iterations of the series only lasted one season due to low ratings. In November 2015, the Network Ten, at its network upfronts, announced that it would be reviving the series in 2016. The series commenced airing on 21 August 2016. Unlike its predecessors, the series was renewed by Network Ten for another season for 2017, and has continued to be successful since. The sixth season aired in the winter of 2019. An All-Star edition featuring former contestants will air from late February 2020 on Network 10. A second 2020 edition set to feature new civilian players is also expected for later in 2020.'},\n",
       " {'mentions': 'australian',\n",
       "  'wiki_id': 345155,\n",
       "  'title': 'Australian Aboriginal languages',\n",
       "  'text': 'The Australian Aboriginal languages consist of around 290–363 languages belonging to an estimated 28 language families and isolates, spoken by Aboriginal Australians of mainland Australia and a few nearby islands. The relationships between these languages are not clear at present. Despite this uncertainty, the Indigenous Australian languages are collectively covered by the technical term \"Australian languages\", or the \"Australian family\". The term can include both Tasmanian languages and the Western Torres Strait language, but the genetic relationship to the mainland Australian languages of the former is unknown, while that of the latter is Pama-Nyungan, though it shares features with the neighbouring Papuan Eastern Trans-Fly languages, in particular Meriam Mir, as well as the Papuan Tip Austronesian languages. Most Australian Aboriginal languages belong to the Pama–Nyungan family, while the remainder are classified as \"non-Pama–Nyungan\", which is a term of convenience that does not imply a genealogical relationship. In the late 18th century, there were more than 250 distinct Aboriginal social groupings and a similar number of languages or varieties. At the start of the 21st century, fewer than 150 Aboriginal languages remain in daily use, and all except only 13, which are still being transmitted to children, are highly endangered. The surviving languages are located in the most isolated areas. Of the five least endangered Western Australian Aboriginal languages, four belong to the Ngaanyatjarra grouping of the Central and Great Victoria Desert. Yolŋu languages from north-east Arnhem Land are also currently learned by children. Bilingual education is being used successfully in some communities. Seven of the most widely spoken Australian languages, such as Warlpiri, Murrinh-patha and Tiwi, retain between 1,000 and 3,000 speakers. Some Aboriginal communities and linguists show support for learning programmes either for language revival proper or for only \"post-vernacular maintenance\" (teaching Indigenous Australians some words and concepts related to the lost language).'},\n",
       " {'mentions': 'australian',\n",
       "  'wiki_id': 2912594,\n",
       "  'title': 'Aboriginal Australians',\n",
       "  'text': 'Aboriginal Australians are the various indigenous peoples of the Australian mainland, Tasmania, and often the Tiwi Islands. This group contains many distinct peoples that have developed across Australia for over 50,000 years. These peoples have a broadly shared, though complex, genetic history, but it is only in the last two hundred years that they have been defined and started to self identify as a single group. The definition of the term \"Aboriginal\" has changed over time and place, with the importance of family lineage, self identification and community acceptance all being of varying importance. In the past, Aboriginal Australians lived over large sections of the continental shelf and were isolated on many of the smaller offshore islands when the land was inundated at the start of the inter-glacial. However, they are considered distinct from the Torres Strait Islander people, despite extensive cultural exchange. As of 2016 Aboriginal Australians comprise 3.1% of Australia\\'s population. They also live throughout the world as part of the Australian diaspora. Before extensive European settlement, there were over 250 Aboriginal languages. However, today most Aboriginal people speak English, with Aboriginal phrases and words being added to create Australian Aboriginal English (which also has a tangible influence of Indigenous languages in the phonology and grammatical structure). They have a number of health and economic deprivations in comparison with the wider Australian community.'},\n",
       " {'mentions': 'australian',\n",
       "  'wiki_id': 665210,\n",
       "  'title': 'Australian Corps',\n",
       "  'text': 'The Australian Corps was a World War I army corps that contained all five Australian infantry divisions serving on the Western Front. It was the largest corps fielded by the British Empire in France. At its peak the Australian Corps numbered 109,881 men. By 1918 the headquarters consisted of more than 300 personnel of all ranks, including senior staff officers, as well as supporting personnel such as clerks, drivers and batmen. Formed on 1 November 1917, the corps replaced I Anzac Corps while II Anzac Corps, which contained the New Zealand Division, became the British XXII Corps. While its structure varied it usually included 4–5 infantry divisions, corps artillery and heavy artillery, a corps flying squadron and captive balloon sections, anti-aircraft batteries, corps engineers, corps mounted troops (light horse and cyclists), ordnance workshops, medical and dental units, transport, salvage and an employment company.'},\n",
       " {'mentions': 'australian',\n",
       "  'wiki_id': 1123259,\n",
       "  'title': '1995 Australian Grand Prix',\n",
       "  'text': \"The 1995 Australian Grand Prix (officially the LX EDS Australian Grand Prix) was a Formula One motor race held on 12 November 1995 at the Adelaide Street Circuit, Adelaide. The race, contested over 81 laps, was the seventeenth and final race of the 1995 Formula One season, and the eleventh and last Australian Grand Prix to be held at Adelaide before the event moved to Melbourne the following year. In a race of attrition, all the front-running cars retired except for the pole-sitting Williams-Renault of Damon Hill. Hill won by two clear laps from the Ligier-Mugen-Honda of Olivier Panis, with Gianni Morbidelli achieving his best-ever F1 result with third in a Footwork-Hart. Of the 23 drivers who started, only eight finished, the lowest number in the 1995 season. The race had an attendance of 210,000 – an F1 record until 2000, when 250,000 people attended that year's United States Grand Prix at Indianapolis.\"},\n",
       " {'mentions': 'australian',\n",
       "  'wiki_id': 20611325,\n",
       "  'title': 'Australia (continent)',\n",
       "  'text': 'The continent of Australia, sometimes known in technical contexts by the names Sahul (), Australinea, or Meganesia to distinguish it from the country of Australia, consists of the land masses which sit on Australia\\'s continental plate. This includes mainland Australia, Tasmania, and the island of New Guinea, which comprises Papua New Guinea and Indonesia\\'s Western New Guinea. Situated in the geographical region of Oceania, it is the smallest of the seven traditional continents in the English conception. The continent includes a continental shelf overlain by shallow seas which divide it into several landmasses—the Arafura Sea and Torres Strait between mainland Australia and New Guinea, and Bass Strait between mainland Australia and Tasmania. When sea levels were lower during the Pleistocene ice age, including the Last Glacial Maximum about 18,000 BC, they were connected by dry land. During the past 10,000 years, rising sea levels overflowed the lowlands and separated the continent into today\\'s low-lying arid to semi-arid mainland and the two mountainous islands of New Guinea and Tasmania. The Australian continent, being part of the Indo-Australian plate (more specifically, the Australian plate), is the lowest, flattest, and oldest landmass on Earth and it has had a relatively stable geological history. New Zealand is not part of the continent of Australia, but of the separate, submerged continent of Zealandia. New Zealand and Australia are both part of the Oceanian sub-region known as Australasia, with New Guinea being in Melanesia. The term Oceania, originally a \"great division\" of the world, was replaced by the concept of Australia in the 1950s. Today, the term Oceania is often used to denote the region encompassing the Australian continent, Zealandia and various islands in the Pacific Ocean that are not included in the seven-continent model. Papua New Guinea, a country within the continent, is one of the most culturally and linguistically diverse countries in the world. It is also one of the most rural, as only 18 percent of its people live in urban centres. West Papua, a province of Indonesia, is home to an estimated 44 uncontacted tribal groups. Australia, the largest landmass in the continent, is highly urbanised, and has the world\\'s 14th-largest economy with the second-highest human development index globally. Australia also has the world\\'s 9th largest immigrant population. The first settlers of Australia, New Guinea, and the large islands just to the east arrived between 50,000 and 30,000 years ago.'},\n",
       " {'mentions': 'australian',\n",
       "  'wiki_id': 5777566,\n",
       "  'title': 'Military history of Australia during the Vietnam War',\n",
       "  'text': \"Australia's involvement in the Vietnam War began with a small commitment of 30 military advisors in 1962, and increased over the following decade to a peak of 7,672 Australian personnel following the Menzies Government's April 1965 decision to upgrade its military commitment to South Vietnam's security. By the time the last Australian personnel were withdrawn in 1972, the Vietnam War had become Australia's longest war, and was only recently surpassed by Australia's long term commitment of combat forces to the War in Afghanistan. It remains Australia's largest force contribution to a foreign conflict since the Second World War and was also the most controversial in Australian society since the conscription controversy during the First World War. Although initially enjoying broad support due to concerns about the spread of communism in Southeast Asia, a vocal anti-war movement developed in response to Australia's programme of conscription. The withdrawal of Australia's forces from South Vietnam began in November 1970, under the Gorton Government, when 8 RAR completed its tour of duty and was not replaced. A phased withdrawal followed, and by 11 January 1973 Australian involvement in hostilities in Vietnam had ceased. Nevertheless, Australian troops from the Australian Embassy Platoon remained deployed in the country until 1 July 1973, and Australian forces were deployed briefly in April 1975, during the Fall of Saigon, to evacuate personnel from the Australian embassy. Approximately 60,000 Australians served in the war; 521 were killed and more than 3,000 were wounded.\"},\n",
       " {'mentions': 'australian',\n",
       "  'wiki_id': 1580640,\n",
       "  'title': 'Australian English vocabulary',\n",
       "  'text': 'Australian English is a major variety of the English language spoken throughout Australia. Most of the vocabulary of Australian English is shared with British English, though there are notable differences. The vocabulary of Australia is drawn from many sources, including various dialects of British English as well as Gaelic languages, some Indigenous Australian languages, and Polynesian languages. One of the first dictionaries of Australian slang was Karl Lentzner\\'s Dictionary of the Slang-English of Australia and of Some Mixed Languages in 1892. The first dictionary based on historical principles that covered Australian English was E. E. Morris\\'s Austral English: A Dictionary of Australasian Words, Phrases and Usages (1898). In 1981, the more comprehensive Macquarie Dictionary of Australian English was published. Oxford University Press published their own Australian Oxford Dictionary in 1999, as a joint effort with the Australian National University. Oxford University Press also published The Australian National Dictionary. Broad and colourful Australian English has been popularised over the years by \\'larrikin\\' characters created by Australian performers such as Chips Rafferty, John Meillon, Paul Hogan, Barry Humphries, Greig Pickhaver and John Doyle, Michael Caton, Steve Irwin, Jane Turner and Gina Riley. It has been claimed that, in recent times, the popularity of the Barry McKenzie character, played on screen by Barry Crocker, and in particular of the soap opera Neighbours, led to a \"huge shift in the attitude towards Australian English in the UK\", with such phrases as \"chunder\", \"liquid laugh\" and \"technicolour yawn\" all becoming well known as a result.'},\n",
       " {'mentions': 'australian',\n",
       "  'wiki_id': 10680530,\n",
       "  'title': \"Australia men's national water polo team\",\n",
       "  'text': 'The Australian national water polo team represents Australia in men\\'s international water polo competitions and is controlled by Australian Water Polo Inc. The national men\\'s team has the nickname of \"The Sharks\". It is organised into the Asia/Oceania regional group.'},\n",
       " {'mentions': 'australian',\n",
       "  'wiki_id': 17856651,\n",
       "  'title': 'Australian, British Columbia',\n",
       "  'text': \"Australian is an historic unincorporated community on the Fraser River in the Cariboo Country of the Central Interior of British Columbia, Canada. Its name is derived from that of the Australian Ranch, one of British Columbia's first ranching operations and also an important and popular roadhouse on the Cariboo Road during the Cariboo Gold Rush and afterwards. The Canadian National Railway point at this location is named Australian Wye.\"},\n",
       " {'mentions': 'australian',\n",
       "  'wiki_id': 308882,\n",
       "  'title': 'Australian Recording Industry Association',\n",
       "  'text': 'The Australian Recording Industry Association (ARIA) is a trade group representing the Australian recording industry which was established in 1983 by six major record companies, EMI, Festival, CBS, RCA, WEA and Universal replacing the Association of Australian Record Manufacturers (AARM) which was formed in 1956. It oversees the collection, administration and distribution of music licenses and royalties. The association has more than 100 members, including small labels typically run by one to five people, medium size organisations and very large companies with international affiliates. ARIA is administered by a Board of Directors comprising senior executives from record companies, both large and small. As of October 2010, the directors were Denis Handlin (chair, CEO of Sony Music), George Ash (Universal Music), Mark Poston (EMI), Sebastian Chase (MGM Distribution), David Vodica (Rubber Records/Music) and Tony Harlow (WAR).'},\n",
       " {'mentions': 'australian',\n",
       "  'wiki_id': 1301373,\n",
       "  'title': 'A-League',\n",
       "  'text': 'The A-League is the highest-level professional men\\'s soccer league in Australia. At the top of the Australian league system, it is the country\\'s primary competition for the sport. The A-League was established in 2004 by Football Federation Australia (FFA) as a successor to the National Soccer League (NSL) and competition commenced in August 2005. The league is currently contested by eleven teams; ten based in Australia and one based in New Zealand. A twelfth team, Macarthur FC, based in Sydney, is scheduled to join the league in the 2020–21 season. It has been officially known since its inception as the Hyundai A-League through a series of sponsorship arrangements with the Hyundai Motor Company. Seasons run from October to May and include a 26-round regular season followed by a Finals Series playoff involving the highest-placed teams, culminating in a grand final match. The winner of the regular season tournament is dubbed the \\'premier\\' while the winner of the grand final is the season\\'s \\'champion\\'. This differs from the other major football codes in Australia, where \\'premier\\' refers to the winner of the grand final and the winner of the regular season is the \\'minor premier\\'. Successful A-League clubs gain qualification into the Asian continental club competition, the Asian Football Confederation Champions League (ACL) also known as \"AFC Champions League\", in 2014 the Western Sydney Wanderers became the first and only winning Australian club. Similar to the United States and Canada\\'s Major League Soccer, as well as other professional sports leagues in Australia, Australia\\'s A-League does not practice promotion and relegation. Since the league\\'s inaugural season, a total of seven clubs have been crowned A-League Premiers and six clubs have been crowned A-League Champions. The current premier is Perth Glory, who finished first in the 2018–19 A-League. The current champions are Sydney FC, who won the 2019 A-League Grand Final, equalling the record of four domestic titles held by Melbourne Victory, Marconi Stallions, South Melbourne, and Sydney City. The A-League does not recognise the history of its predecessor, the National Soccer League (NSL) which was the nations premier football competition from 1977 to 2004.'},\n",
       " {'mentions': 'australian',\n",
       "  'wiki_id': 9260576,\n",
       "  'title': '2007 Australian Grand Prix',\n",
       "  'text': 'The 2007 Australian Grand Prix (formally the LXXII ING Australian Grand Prix) was a Formula One motor race held on 18 March 2007 at the Melbourne Grand Prix Circuit, Melbourne, Australia. It was the first&nbsp;race of the 2007 Formula One season. The 58&nbsp;lap race was won by Kimi Räikkönen for the Ferrari team after starting from pole position. Fernando Alonso finished second in a McLaren car, with teammate Lewis Hamilton third in the other McLaren on his Grand Prix debut. Räikkönen started the race alongside Alonso, but in the start Alonso was passed by BMW Sauber driver Nick Heidfeld and Hamilton, who started third and fourth. Räikkönen controlled the race from the front of the field, with Alonso regaining second place after overtaking Hamilton during the second round of pit stops.'},\n",
       " {'mentions': 'australian',\n",
       "  'wiki_id': 26610546,\n",
       "  'title': 'Australia national netball team',\n",
       "  'text': 'The Australia national netball team, commonly known as the Australian Netball Diamonds and Samsung Diamonds for sponsorship reasons, represent Australia in international netball tests and competitions. The team was formed in 1938 and played that year in the first international game of netball against New Zealand. The Diamonds are administered by Netball Australia, the national governing body for netball in Australia. Players are usually selected from the Australian Suncorp Super Netball franchises. The team is presently captained by Giants Netball shooter Caitlin Bassett.'},\n",
       " {'mentions': 'australian',\n",
       "  'wiki_id': 3655904,\n",
       "  'title': 'Australian diaspora',\n",
       "  'text': 'The term Australian diaspora refers to the approximately 310,000 Australian citizens (approximately 1.3% of the population) who today live outside Australia. The largest percentage of Australian emigrants (48%) are based in Europe, and the next largest percentage (24%) are in Asia. The Trans-Tasman Travel Arrangement enables Australians and New Zealanders to migrate between Australia and New Zealand. Australian diaspora may also be used to refer to the population of Indigenous Australians who have been displaced within Australia from their traditional homelands by colonisation, or from their families by child removal policies.'},\n",
       " {'mentions': 'australian',\n",
       "  'wiki_id': 415475,\n",
       "  'title': 'First Australian Imperial Force',\n",
       "  'text': 'The First Australian Imperial Force (1st AIF) was the main expeditionary force of the Australian Army during World War I. It was formed on 15 August 1914, following Britain\\'s declaration of war on Germany, initially with a strength of one infantry division and one light horse brigade. The infantry division subsequently fought at Gallipoli between April and December 1915, being reinforced by a second division which was later raised, as well as three light horse brigades. After being evacuated to Egypt the AIF was expanded to five infantry divisions, which were committed to the fighting in France and Belgium along the Western Front in March 1916. A sixth infantry division was partially raised in 1917 in the United Kingdom, but was broken up and used as reinforcements following heavy casualties on the Western Front. Meanwhile, two mounted divisions remained in the Middle East to fight against Turkish forces in the Sinai and Palestine. An all volunteer force, by the end of the war the AIF had gained a reputation as being a well-trained and highly effective military force, playing a significant role in the final Allied victory. However, this reputation came at a heavy cost with a casualty rate among the highest of any belligerent for the war. The AIF included the Australian Flying Corps (AFC), which consisted of four combat and four training squadrons that were deployed to the United Kingdom, the Western Front and the Middle East throughout the war. After the war, the AFC evolved into the Royal Australian Air Force; the remainder of the 1st AIF was disbanded between 1919 and 1921. After the war the achievements of the AIF and its soldiers, known colloquially as \"Diggers\", became central to the national mythology of the \"Anzac legend\". Generally known at the time as the AIF, it is today referred to as the 1st AIF to distinguish it from the Second Australian Imperial Force raised during World War II.'},\n",
       " {'mentions': 'australian',\n",
       "  'wiki_id': 19370774,\n",
       "  'title': '2009 Australian Open',\n",
       "  'text': \"The 2009 Australian Open was a tennis tournament played on . It was the 97th edition of the Australian Open, and the first Grand Slam event of the year. It took place at the Melbourne Park in Melbourne, Australia, from 19 January through 1 February 2009. The 2009 men's tournament is considered to be one of the best Grand Slam tournaments in open era history. It is remembered for containing many of the best matches of the 2009 year, including the Nadal v Verdasco semi final and the Nadal v Federer final. It was the first hard court Grand Slam in which Nadal made the final or won. Novak Djokovic and Maria Sharapova were the defending champions. Djokovic was forced to retire in his quarter-final match against Andy Roddick due to heat stress, ending his title defence, whilst Sharapova chose not to defend her title due to long lasting shoulder surgery; the withdrawal subsequently dropped her out of the WTA's Top 10 for the first time since July 2004. Second seeded Serena Williams regained the women's singles title and recorded her fourth Australian Open title and tenth Grand Slam title overall after defeating third seed Dinara Safina in straight sets. Serena, partnering with her sister Venus, also won the women's doubles tournament. First seeded Rafael Nadal defeated Roger Federer in five sets to win the men's singles title. This was Nadal's first hard court grand slam title, having previously only won on clay at Roland Garros four times and grass at Wimbledon once. He also became the first Spaniard to ever win the Australian Open. This tournament featured 23 five-set men's singles matches, the most since 1988. In men's doubles, another sibling pair took the title as Bob and Mike Bryan defeated Mahesh Bhupathi and Mark Knowles. This tournament was notable for being the warmest tournament weather-wise; the average daily maximum temperature throughout the tournament was 34.7 degrees Celsius, nine degrees above normal. The coolest Australian Open was in 1986, when the maximum temperature averaged just 22.5 degrees Celsius, 3.5 degrees below normal.\"},\n",
       " {'mentions': 'australian',\n",
       "  'wiki_id': 2807519,\n",
       "  'title': 'Australia at the 2002 Winter Olympics',\n",
       "  'text': \"Australia competed at the 2002 Winter Olympics in Salt Lake City, Utah, United States, winning its first two gold medals in the Winter Games. It was the nation's best performance at the Winter Games prior to the 2010 Winter Olympics in Vancouver.\"},\n",
       " {'mentions': 'australian',\n",
       "  'wiki_id': 8495860,\n",
       "  'title': 'Gladiators (1995 Australian TV series)',\n",
       "  'text': \"'Gladiators' is an Australian television series which aired on Saturday nights on the Seven Network from 29 April 1995 until 12 October 1996 almost consecutively for eighteen months. It was based on the popular franchise which started with American Gladiators in 1989. However the Australian show was more heavily based on the UK version with events, format and even music being used from the British show. It was revived in 2008. All three series of the show were filmed at the Brisbane Entertainment Centre in 1995, and was hosted by Kimberley Joseph and Aaron Pedersen, with Mike Hammond replacing Pedersen after the first series. The show was refereed by John Alexander in the first series, and Mike Whitney thereafter. John Forsythe served as assistant referee.\"},\n",
       " {'mentions': 'australian',\n",
       "  'wiki_id': 1781873,\n",
       "  'title': 'Australian White Ensign',\n",
       "  'text': 'The Australian White Ensign (also known as the Australian Naval Ensign or the Royal Australian Navy Ensign) is a naval ensign used by ships of the Royal Australian Navy (RAN) from 1967 onwards. From the formation of the RAN until 1967, Australian warships used the British White Ensign as their ensign. However, this led to situations where Australian vessels were mistaken for British ships, and when Australia became involved in the Vietnam War, the RAN was effectively fighting under the flag of another, uninvolved nation. Proposals were made in 1965 for a unique Australian ensign, which was approved in 1966, and entered use in 1967. The Australian White Ensign is identical in design to the Australian National Flag, but with the reversal of the blue background and the white Commonwealth Star and Southern Cross.'},\n",
       " {'mentions': 'australian',\n",
       "  'wiki_id': 2525308,\n",
       "  'title': \"Women's National Basketball League\",\n",
       "  'text': \"The Women's National Basketball League (WNBL) is the pre-eminent professional women's basketball league in Australia. It is currently composed of eight teams. The league was founded in 1981 and is the women's counterpart to the National Basketball League (NBL). Several WNBL teams have NBL counterparts. The Adelaide Lightning, Melbourne Boomers, Perth Lynx, Southside Flyers and Sydney Uni Flames are the current WNBL teams sharing a market with an NBL team (the Townsville Fire and University of Canberra Capitals shared a market with the Townsville Crocodiles and Canberra Cannons respectively, before both NBL clubs became defunct).The current league champions are the University of Canberra Capitals.\"},\n",
       " {'mentions': 'australian',\n",
       "  'wiki_id': 10849958,\n",
       "  'title': 'Australian National Water Polo League',\n",
       "  'text': \"The National Water Polo League is the premier Australian domestic water polo competition. The men's league began in 1990 and the women's league started in 2004. Twelve clubs compete in the league, each fielding a women's and a men's team. As of 2012 five clubs are based in Sydney, two in Brisbane, and one each in Adelaide, Fremantle, Melbourne, Newcastle and Perth. The first history of the sport in Australia was launched in February 2009, under the title 'Water Warriors: Chronicle of Australian Water Polo', by Dr. Tracy Rockwell. The 592-page publication features over 1,300 images and is an in-depth reference on water polo in Australia from its very first match in 1879 to the 2008 Beijing Olympic Games. An updated edition is being planned.\"},\n",
       " {'mentions': 'australian',\n",
       "  'wiki_id': 17173380,\n",
       "  'title': 'Australian Idol (season 3)',\n",
       "  'text': \"The 'third season of Australian Idol' debuted on 26 July 2005. The first of three semi-finals was held on 16 August 2005 with three of the Final 12 contenders announced the following night on 17 August 2005. 2Day FM radio host Kyle Sandilands replaced former judge Ian Dickson.\"},\n",
       " {'mentions': 'australian',\n",
       "  'wiki_id': 1140683,\n",
       "  'title': 'Official History of Australia in the War of 1914–1918',\n",
       "  'text': \"The 'Official History of Australia in the War of 1914–1918' is a 12-volume series covering Australian involvement in the First World War. The series was edited by C.E.W. Bean, who also wrote six of the volumes and was published between 1920 and 1942. The first seven volumes deal with the Australian Imperial Force while other volumes deal with the Australian Naval and Military Expeditionary Force at Rabaul, the Royal Australian Navy, the Australian Flying Corps and the home front; the final volume is a photographic record. Unlike other official histories which have been aimed at military staff, Bean intended the Australian history to be accessible to a non-military audience. The relatively small size of the Australian forces, enabled the history to be presented in great detail, giving accounts of individual actions that would not have been possible when covering a larger force. Bean devoted over to the Battle of Fromelles, a relatively small action intended as a diversion during the Battle of the Somme, which lasted one night and involved the 5th Australian Division. Fromelles was also the first time that the First Australian Imperial Force (AIF) saw action on the Western Front and was very costly for the Australians, with killed, wounded or captured. Following the publication of the final volume, Bean compiled , a condensed history in one volume aimed at the general public, which was published in 1946.\"},\n",
       " {'mentions': 'australian',\n",
       "  'wiki_id': 2519605,\n",
       "  'title': 'Australia A cricket team',\n",
       "  'text': \"The Australia A cricket team is a cricket team representing Australia and is the second team of the Australian cricket team. They have also played far more one-day than first-class matches; indeed they have played only three first-class games against equivalent A sides, against South Africa A in 2002–03 and Pakistan A in 2009. In the Australian summer of 1994–95, the (then) Benson and Hedges World Series Cup was expanded to involve four teams instead of the usual three – Australia, England, Zimbabwe and Australia A (though games involving Australia A are not considered official One-Day Internationals). In a shock result, the Australia A team (captained by Damien Martyn and featuring up-and-comers such as Ricky Ponting, Matthew Hayden and Greg Blewett, as well as veterans – wicket-keeper Phil Emery and pacemen Paul Reiffel and Merv Hughes) ousted England from the series and went into the best-of-3 final against Australia. They were swept 2–0, but it was unquestionably a display of the next generation of Australia's prowess. Many of the 1994–95 A players later played for Australia. In earlier times, Australia often sent Second XI teams on overseas tour, consisting of players on the fringes of national selection. Instances of this occurred in 1949–50 and 1959–60, to New Zealand. In one-day cricket, Australia A's team colours were the same as Australia's, except reversed with dark green instead of bottle green and canary yellow instead of wattle gold.\"},\n",
       " {'mentions': 'australian',\n",
       "  'wiki_id': 18645137,\n",
       "  'title': 'Australia at the 2008 Summer Paralympics',\n",
       "  'text': \"Australia sent a delegation to compete at the 2008 Summer Paralympics in Beijing. The country sent 167 (95 male and 72 female) athletes in 13 sports (out of 20) and 122 officials. It was the country's largest ever Paralympic delegation to an away Games. The team sent to Beijing was described as the emergence of the new generation of Australian athletes with 56 percent of the team attending their first Paralympic Games. The delegation's chef de mission was Darren Peters. Australia won 23 gold, 29 silver and 27 bronze medals. It finished fourth on the total medal tally and fifth on the gold medal tally. Major sporting achievements for the Australian team included: * Matt Cowdrey, an arm amputee swimmer, winning five gold and three silver medals to be the Games' leading athlete. * Peter Leek, a cerebral palsy swimmer, winning eight medals including three gold. * Heath Francis, an arm amputee sprinter and Evan O'Hanlon, cerebral palsy sprinter winning three gold medals. * Kurt Fearnley, a wheelchair racer, winning the marathon for the second time. * Australian men's wheelchair basketball team winning gold. * 98 Australian athletes won a medal. * Australian athletes: 21 new world records, 31 Paralympic records, 79 Australian records and 164 personal bests.\"},\n",
       " {'mentions': 'australian',\n",
       "  'wiki_id': 10398447,\n",
       "  'title': 'Athletics Australia',\n",
       "  'text': 'Athletics Australia is the National Sporting Organisation (NSO) recognised by the Australian Sports Commission for the sport of athletics in Australia. First founded in 1897, the organisation is responsible for administering a sport with over 16,000 registered athletes, coaches and officials.'},\n",
       " {'mentions': 'australian',\n",
       "  'wiki_id': 3270495,\n",
       "  'title': 'Australia at the 1994 Winter Olympics',\n",
       "  'text': \"Australia competed at the 1994 Winter Olympics in Lillehammer, Norway. Australia won a bronze medal in the men's 5000 metres short track relay, the nation's first medal at the Winter Olympic Games. A total of 25 Australian athletes competed, participating in alpine skiing, biathlon, bobsleigh, cross-country skiing, figure skating, freestyle skiing (in both aerials and moguls), luge, short track speed skating and speed skating.\"},\n",
       " {'mentions': 'australian',\n",
       "  'wiki_id': 5204925,\n",
       "  'title': 'Australian Club',\n",
       "  'text': 'The Australian Club is a private club founded in 1838 and located in Sydney at 165 Macquarie Street. Its membership is men-only and it is the oldest gentlemen\\'s club in the southern hemisphere. It enjoys reciprocal arrangements with other clubs of its type including; the Melbourne Club, Boodle\\'s and Brooks\\'s in London, the Pacific-Union Club in San Francisco, California Club in Los Angeles, Union Club and Knickerbocker Club of New York City and the Somerset Club in Boston. \"The Club provides excellent dining facilities, en-suite bedrooms and apartments, a fully equipped gym, and on Level 7 of the building in which the Clubhouse is located, are first rate business facilities which Members and resident guests may access.\"'},\n",
       " {'mentions': 'australian',\n",
       "  'wiki_id': 21821053,\n",
       "  'title': 'Australian National Boxing Hall of Fame',\n",
       "  'text': 'Australian National Boxing Hall of Fame was founded in 2001 and began inducting boxers into the Hall of Fame in 2003. Since then annual induction dinners have been held across Australia. Inductees are nominated and then voted upon by a panel of boxing experts and historians across Australia. Current committee members are: President - Brett McCormick. Vice President - Angie McCormick. Treasurer & Founder - David Hanvey. Secretary - Damian Membrey. Historian & Life Member - Peter Banks. The Hall of Fame has now introduced an ANBHOF Fighter of the year and also the Gus Mercurio Memorial Award for services to boxing for those who are not Inducted into the Australian National Boxing Hall of Fame.'},\n",
       " {'mentions': 'australian',\n",
       "  'wiki_id': 7203173,\n",
       "  'title': \"Australia's Got Talent\",\n",
       "  'text': '\\'Australia\\'s Got Talent\\' is an Australian reality television talent show. The show is based on the Got Talent series format that originated in the United Kingdom with Simon Cowell. The first six seasons aired on the Seven Network, from 2007 to 2012. In the first season the judges were Tom Burlinson, Red Symons and Dannii Minogue. The first season aired at 6:30pm on Sunday nights. After a successful run, the series was given a vote of confidence as Seven moved the show to a more competitive Tuesday night timeslot. The second season aired from 29 April 2008. Burlinson and Symons did not return for season four and were replaced by Brian McFadden and Kyle Sandilands. For season seven in 2013 the show moved to the Nine Network. Dawn French, Timomatic and Geri Halliwell joined the panel as replacements for McFadden and Minogue. On 4 April 2014, it was announced that Nine had axed Australia\\'s Got Talent due to low ratings. On 8 July 2015, Nine announced that the show would be returning in 2016 for an eighth season. The Nine Network aired season eight in 2016, with four new judges: Kelly Osbourne, Ian \"Dicko\" Dickson, Sophie Monk and Eddie Perfect. In December 2018, Seven announced the series would be returning to their network in 2019 for a ninth season. The ninth season, with Ricki-Lee Coulter as host, returned on 28 July 2019. == Overview == Australia\\'s Got Talent is a talent show that features performers of all ages competing for a top prize of between A$100,000 and A$250,000. The season consists of three stages: auditions, semi-finals, and a final. Only highlights are screened from the auditions. Some seasons included auditions in different cities. The judges cull down the approved audition acts to about 40 acts for the semi-finals. In most seasons, the semi-finals included a public vote, with a combination of public and judges\\' choices making the final. Also in the first series, during the semi-finals stage, each judge buzzed either a cross, or a tick. In Season 9, there is no public voting in the semi-finals. The logo used for the first, seventh and ninth seasons of Australia\\'s Got Talent is similar to the logo used by America\\'s Got Talent. The logo during the second to sixth seasons and season eight is similar to that used by Britain\\'s Got Talent.'},\n",
       " {'mentions': 'australian',\n",
       "  'wiki_id': 3083086,\n",
       "  'title': 'Australia international rules football team',\n",
       "  'text': \":This article concerns the men's team; for information on the Australian women's team, see Australia women's international rules football team. The Australia international rules football team is Australia's senior representative team in International rules football, a hybrid sport derived from Australian rules football and Gaelic football. The current team is solely made up of players from the Australian Football League. Although Australian rules football is played around the world at an amateur level, Australia is considered far too strong to compete against at senior level. Hence, selection in the Australian international rules team is the only opportunity that Australian rules footballers have to represent their country. Until 2004 the majority of the men's Australian squad was composed of members of the All-Australian team, as well as other outstanding performers from the season. In 2005 the decision was made to select players best suited to the conditions of the hybrid game, which resulted in a younger, smaller and quicker team being selected. However this was reverted to the All-Australian model ahead of the 2014 series. For the 2013 Series only, the decision was made to select an all-Indigenous team, known as the Indigenous All Stars. Competing in the International Rules Series, the only team Australia plays against is the Ireland international rules football team. The series has been played intermittently since 1984. Australian under-age teams have been represented in the past, as well as a women's team in 2006. Australia last hosted the International Rules Series in 2017.\"},\n",
       " {'mentions': 'australian',\n",
       "  'wiki_id': 13353292,\n",
       "  'title': 'Slovene Australians',\n",
       "  'text': 'Slovene Australians are Australian citizens who are fully or partially of Slovene descent or Slovenia-born people who reside in Australia.'}]"
      ]
     },
     "execution_count": 100,
     "metadata": {},
     "output_type": "execute_result"
    }
   ],
   "source": [
    "wn_val_subset.iloc[0].candidates"
   ]
  },
  {
   "cell_type": "code",
   "execution_count": 101,
   "id": "47cdbc9b-8c52-4c03-9221-e905e28e37e5",
   "metadata": {
    "scrolled": true,
    "tags": []
   },
   "outputs": [
    {
     "data": {
      "text/plain": [
       "np.int64(4689264)"
      ]
     },
     "execution_count": 101,
     "metadata": {},
     "output_type": "execute_result"
    }
   ],
   "source": [
    "wn_val_subset.iloc[0].wiki_ID"
   ]
  },
  {
   "cell_type": "code",
   "execution_count": 102,
   "id": "c4febd75-db77-4ebb-86e6-57d223a0fadb",
   "metadata": {},
   "outputs": [],
   "source": [
    "def safe_parse_candidates(x):\n",
    "    if pd.isna(x):\n",
    "        return []\n",
    "    try:\n",
    "        return json.loads(x)\n",
    "    except json.JSONDecodeError:\n",
    "        return ast.literal_eval(x)\n",
    "\n",
    "def compute_metrics_from_pointwise_csv(csv_path):\n",
    "    df = pd.read_csv(csv_path, dtype={'wiki_ID': 'Int64'})\n",
    "    df['candidates_after_pointwise'] = df['candidates_after_pointwise'].apply(safe_parse_candidates)\n",
    "\n",
    "    total_mentions = 0  # Count only mentions that retrieved candidates\n",
    "    recall_hits = 0\n",
    "    reduction_ratios = []\n",
    "    retained_counts = []\n",
    "\n",
    "    for idx, row in df.iterrows():\n",
    "        candidates = row['candidates_after_pointwise']\n",
    "        if not candidates or pd.isna(row['wiki_ID']):\n",
    "            continue\n",
    "\n",
    "        total_mentions += 1\n",
    "\n",
    "        original_count = row['pre_pt_len_candidates']\n",
    "        retained_count = row['post_pt_len_candidates']\n",
    "        retained = [c for c in candidates if c.get('relevant') is True]\n",
    "        \n",
    "        if original_count == 0:\n",
    "            continue\n",
    "\n",
    "        try:\n",
    "            gt_wiki_id = int(row['wiki_ID'])\n",
    "        except (ValueError, TypeError):\n",
    "            continue\n",
    "\n",
    "        # survived = any(int(c.get('wiki_id')) == int(row['gt_wiki_id']) and c.get('relevant') for c in candidates)\n",
    "        survived = any(\n",
    "            c.get('relevant') and 'wiki_id' in c and str(c['wiki_id']).isdigit() and int(c['wiki_id']) == gt_wiki_id\n",
    "            for c in candidates\n",
    "        )\n",
    "\n",
    "        recall_hits += int(survived)\n",
    "        reduction_ratios.append(retained_count / original_count)\n",
    "        retained_counts.append(retained_count)\n",
    "\n",
    "    recall_at_filter = recall_hits / total_mentions if total_mentions > 0 else 0.0\n",
    "    reduction_ratio = np.mean(reduction_ratios) if reduction_ratios else 1.0\n",
    "    avg_retained_candidates = np.mean(retained_counts) if retained_counts else 0.0\n",
    "\n",
    "    return {\n",
    "        \"Recall@filter\": recall_at_filter,\n",
    "        \"Reduction ratio\": float(reduction_ratio),\n",
    "        \"Average retained candidates\": float(avg_retained_candidates)\n",
    "    }"
   ]
  },
  {
   "cell_type": "code",
   "execution_count": 103,
   "id": "c3784829-8261-44a4-bd72-598e7630e200",
   "metadata": {},
   "outputs": [
    {
     "data": {
      "text/plain": [
       "{'Recall@filter': 0.7838983050847458,\n",
       " 'Reduction ratio': 0.7268797948905785,\n",
       " 'Average retained candidates': 28.64406779661017}"
      ]
     },
     "execution_count": 103,
     "metadata": {},
     "output_type": "execute_result"
    }
   ],
   "source": [
    "metrics = compute_metrics_from_pointwise_csv('outputs/pointwise/wn_val_subset_5_7_pointwise_results.csv')\n",
    "metrics"
   ]
  },
  {
   "cell_type": "code",
   "execution_count": 104,
   "id": "304868b8-320e-488d-bf8d-e6d5af344c87",
   "metadata": {},
   "outputs": [],
   "source": [
    "with open('outputs/pointwise/wn_val_subset_5_7_pointwise_metrics.json', 'w') as f:\n",
    "    json.dump(metrics, f, indent=4)"
   ]
  },
  {
   "cell_type": "code",
   "execution_count": 106,
   "id": "ee10ffe5-355c-4e60-aa0f-dd01249c7aae",
   "metadata": {},
   "outputs": [
    {
     "data": {
      "text/plain": [
       "array(['Japan', 'Brazil', 'Mexico', 'Great Britain', 'Olympic Games',\n",
       "       'Internet', 'Paris', 'Brussels', 'High Court', 'Colombia',\n",
       "       'football', 'Olympics', 'gymnastics', 'New Zealand', 'San Antonio',\n",
       "       'Mayor', 'Democratic', '2012 Summer Olympics', 'Green Party',\n",
       "       'governor', 'President', 'Prime Minister', 'Iran',\n",
       "       'South Carolina', 'New Mexico', 'Illinois', 'Ohio',\n",
       "       'Secretary of State', 'campaign', 'Supreme Court', '2008',\n",
       "       'Republican', 'California'], dtype=object)"
      ]
     },
     "execution_count": 106,
     "metadata": {},
     "output_type": "execute_result"
    }
   ],
   "source": [
    "csv_path = 'outputs/pointwise/wn_val_subset_5_7_pointwise_results.csv'\n",
    "\n",
    "df = pd.read_csv(csv_path, dtype={'wiki_ID': 'Int64'})\n",
    "df['candidates_after_pointwise'] = df['candidates_after_pointwise'].apply(safe_parse_candidates)\n",
    "\n",
    "df['retained_count'] = df['candidates_after_pointwise'].apply(\n",
    "    lambda candidates: sum(1 for c in candidates if c.get('relevant') is True)\n",
    ")\n",
    "\n",
    "# Filter only rows with retained_count > 80\n",
    "outliers_df = df[df['retained_count'] > 50].copy()\n",
    "\n",
    "# Compute retention ratio and extract retained titles only for outliers\n",
    "outliers_df['retention_ratio'] = outliers_df['retained_count'] / outliers_df['pre_pt_len_candidates']\n",
    "outliers_df['retained_titles'] = outliers_df['candidates_after_pointwise'].apply(\n",
    "    lambda candidates: [c.get('title') for c in candidates if c.get('relevant') is True]\n",
    ")\n",
    "\n",
    "outliers_df['entity_title'].unique()"
   ]
  },
  {
   "cell_type": "markdown",
   "id": "607e351c-272e-459e-aeb7-d4c28ff225f5",
   "metadata": {},
   "source": [
    "## Contextual EL"
   ]
  },
  {
   "cell_type": "code",
   "execution_count": 107,
   "id": "3b9e12bf-1398-4dec-b9ca-4a3f3eeff60b",
   "metadata": {},
   "outputs": [],
   "source": [
    "sampling_params = get_sampling_params(max_tokens=200, temperature=0.6, top_p=0.9, stops=[\"</s>\", \"\\n}\"])"
   ]
  },
  {
   "cell_type": "code",
   "execution_count": 108,
   "id": "5953534f-6ded-47c5-b140-bb11674ed9b1",
   "metadata": {},
   "outputs": [
    {
     "name": "stdout",
     "output_type": "stream",
     "text": [
      "<class 'pandas.core.frame.DataFrame'>\n",
      "RangeIndex: 250 entries, 0 to 249\n",
      "Data columns (total 12 columns):\n",
      " #   Column                      Non-Null Count  Dtype \n",
      "---  ------                      --------------  ----- \n",
      " 0   article_text                250 non-null    object\n",
      " 1   date                        250 non-null    object\n",
      " 2   article_title               250 non-null    object\n",
      " 3   entity_title                250 non-null    object\n",
      " 4   entity_salience             250 non-null    int64 \n",
      " 5   offsets                     250 non-null    object\n",
      " 6   wiki_ID                     250 non-null    Int64 \n",
      " 7   surrounding_context         250 non-null    object\n",
      " 8   candidates                  237 non-null    object\n",
      " 9   pre_pt_len_candidates       250 non-null    int64 \n",
      " 10  candidates_after_pointwise  250 non-null    object\n",
      " 11  post_pt_len_candidates      250 non-null    int64 \n",
      "dtypes: Int64(1), int64(3), object(8)\n",
      "memory usage: 23.8+ KB\n"
     ]
    }
   ],
   "source": [
    "wn_val_subset = pd.read_csv('outputs/pointwise/wn_val_subset_5_7_pointwise_results.csv', dtype={'wiki_ID': 'Int64'})\n",
    "wn_val_subset.info()"
   ]
  },
  {
   "cell_type": "code",
   "execution_count": 109,
   "id": "398233d5-003a-4229-879e-d01fc942c533",
   "metadata": {},
   "outputs": [],
   "source": [
    "import ast\n",
    "\n",
    "wn_val_subset['candidates_after_pointwise'] = wn_val_subset['candidates_after_pointwise'].apply(\n",
    "    lambda x: ast.literal_eval(x) if pd.notna(x) else []\n",
    ")"
   ]
  },
  {
   "cell_type": "code",
   "execution_count": 110,
   "id": "b0cddc65-4dba-41d1-aa3b-eca859781646",
   "metadata": {},
   "outputs": [],
   "source": [
    "COT_POOL = [\n",
    "    {\n",
    "        \"mention\": \"Washington, D.C.\",\n",
    "        \"surrounding_context\": \"The United States capital of ###Washington, D.C.### legalized same-sex marriage on Wednesday.\",\n",
    "        \"candidates\": [\n",
    "            {\"id\": 1, \"name\": \"Washington, D.C.\", \"summary\": \"The capital city of the United States.\"},\n",
    "            {\"id\": 2, \"name\": \"Washington (state)\", \"summary\": \"A state in the Pacific Northwest region of the United States.\"}\n",
    "        ],\n",
    "        \"answer\": \"1.Washington, D.C.\"\n",
    "    },\n",
    "    {\n",
    "        \"mention\": \"Eric Massa\",\n",
    "        \"surrounding_context\": \"New York Representative ###Eric Massa### announced Wednesday that he would be stepping down as Congressman from New York's 29th congressional district.\",\n",
    "        \"candidates\": [\n",
    "            {\"id\": 1, \"name\": \"Eric Massa\", \"summary\": \"A former U.S. Congressman from New York.\"},\n",
    "            {\"id\": 2, \"name\": \"Eric Massan\", \"summary\": \"A fictional character in a novel.\"}\n",
    "        ],\n",
    "        \"answer\": \"1.Eric Massa\"\n",
    "    },\n",
    "    {\n",
    "        \"mention\": \"Air Canada\",\n",
    "        \"surrounding_context\": \"Canadian airline ###Air Canada### has said that it will be laying off 1,010 machinists seconded to work at the Aveos Fleet Performance aircraft maintenance company.\",\n",
    "        \"candidates\": [\n",
    "            {\"id\": 1, \"name\": \"Air Canada\", \"summary\": \"The flag carrier and largest airline of Canada.\"},\n",
    "            {\"id\": 2, \"name\": \"Canada Air\", \"summary\": \"A fictional airline in a movie.\"}\n",
    "        ],\n",
    "        \"answer\": \"1.Air Canada\"\n",
    "    },\n",
    "    {\n",
    "        \"mention\": \"Bosnian president\",\n",
    "        \"surrounding_context\": \"Former ###Bosnian president### Dr. Ejup Ganić was arrested by the Metropolitan Police at Heathrow Airport, London on Monday.\",\n",
    "        \"candidates\": [\n",
    "            {\"id\": 1, \"name\": \"Ejup Ganić\", \"summary\": \"A former president of the Federation of Bosnia and Herzegovina.\"},\n",
    "            {\"id\": 2, \"name\": \"Alija Izetbegović\", \"summary\": \"The first president of Bosnia and Herzegovina.\"}\n",
    "        ],\n",
    "        \"answer\": \"1.Ejup Ganić\"\n",
    "    },\n",
    "    {\n",
    "        \"mention\": \"Greek bailout\",\n",
    "        \"surrounding_context\": \"The spike lower this morning indicates market nervousness about the prospects of a ###Greek bailout### - the message coming out of Europe is still confused.\",\n",
    "        \"candidates\": [\n",
    "            {\"id\": 1, \"name\": \"Greek bailout\", \"summary\": \"A financial assistance program for Greece during its debt crisis.\"},\n",
    "            {\"id\": 2, \"name\": \"Greek mythology\", \"summary\": \"A body of myths originally told by the ancient Greeks.\"}\n",
    "        ],\n",
    "        \"answer\": \"1.Greek bailout\"\n",
    "    }\n",
    "]"
   ]
  },
  {
   "cell_type": "code",
   "execution_count": 48,
   "id": "bdb21e9f-b016-4bf8-a4c1-cdc83402c981",
   "metadata": {},
   "outputs": [],
   "source": [
    "import random\n",
    "import textwrap\n",
    "\n",
    "def contextual_el_chat(entity_row):\n",
    "    ex = random.choice(COT_POOL)\n",
    "\n",
    "    ex_candidates = \"; \".join([f\"{c['id']}.{c['name']} – {c['summary']}\" for c in ex['candidates']])\n",
    "\n",
    "    return [\n",
    "        {\n",
    "            \"role\": \"user\",\n",
    "            \"content\": (f\"\"\"You are an entity disambiguator. I'll provide you with a detailed description of entity disambiguation along with several tips on what to look out for:\\n 1. Context: Look at the surrounding text to understand the topic. 2. Categories: Consider the type of the entity (person, organization, location, etc.). 3. Modifiers: Pay attention to words or phrases that add details to the mention. 4. Co-references: Check other mentions of the same entity in the text.  5. Temporal and Geographical Factors: Consider when and where the text was written. 6. External Knowledge: Use knowledge from outside the text.  Remember, effective entity disambiguation requires understanding the text thoroughly, having world knowledge, and exercising good judgment. Now, I will first provide you with an example to illustrate the task: Mention: {ex['mention']} Context: {ex['surrounding_context']} Candidates: {ex_candidates} Answer: {ex['answer']}. Now, I will give you a new mention, its context, and a list of candidate entities. The mention is highlighted with '###'. Mention: {entity_row['entity_title']} Context: {entity_row['surrounding_context']} Candidates: \"\"\" + \"; \".join([f\"{idx + 1}.{cand['title']} – {cand['text'][:300]}\"  for idx, cand in enumerate(entity_row['candidates_after_pointwise'])]) + \"\"\" Think step by step. At the end output exactly one line with the ID and name of the chosen entity, e.g., '3.Barack Obama'. If none of the candidates are correct, output '-1.None'. Only output a single JSON object in the following format, without line breaks, indentation, or extra text: {\"final_decision\": \"<id>.<entity name>\", \"reasoning\": \"your explanation here\"} \"\"\")\n",
    "        }\n",
    "    ]"
   ]
  },
  {
   "cell_type": "code",
   "execution_count": 111,
   "id": "e28e69b7-2d4e-4db2-8307-7e3de61b2086",
   "metadata": {},
   "outputs": [],
   "source": [
    "c_prompt = contextual_el_chat(wn_val_subset.iloc[0])"
   ]
  },
  {
   "cell_type": "code",
   "execution_count": 112,
   "id": "02ce7dc9-a1c8-4f99-aacd-33299ab2b3b2",
   "metadata": {},
   "outputs": [
    {
     "name": "stderr",
     "output_type": "stream",
     "text": [
      "Processed prompts: 100%|██████████| 1/1 [00:03<00:00,  3.59s/it, est. speed input: 333.28 toks/s, output: 32.35 toks/s]\n"
     ]
    },
    {
     "data": {
      "text/plain": [
       "'{\"final_decision\": \"1.Australia\", \"reasoning\": \"The mention \\'Australian\\' in the context of the text \\'Homebush Bay, New South Wales —Earlier today, the ###Australian### Gliders beat the Chinese women\\'s national wheelchair basketball team\\' suggests that the entity being referred to is the country of Australia, given that \\'Gliders\\' is the nickname of the Australian women\\'s national wheelchair basketball team. This is also supported by the fact that the game is taking place at the Sydney Olympic Park, which is a well-known location in Australia.\"}'"
      ]
     },
     "execution_count": 112,
     "metadata": {},
     "output_type": "execute_result"
    }
   ],
   "source": [
    "op = llm.chat(messages=c_prompt, sampling_params=sampling_params)\n",
    "op[0].outputs[0].text"
   ]
  },
  {
   "cell_type": "code",
   "execution_count": 113,
   "id": "17af4cd9-6565-4263-94e8-26dff833b045",
   "metadata": {},
   "outputs": [
    {
     "data": {
      "text/plain": [
       "1"
      ]
     },
     "execution_count": 113,
     "metadata": {},
     "output_type": "execute_result"
    }
   ],
   "source": [
    "parse_contextual_el_output(op[0].outputs[0].text)"
   ]
  },
  {
   "cell_type": "code",
   "execution_count": 51,
   "id": "2177e796-44f7-4215-805f-88e521d73cc3",
   "metadata": {},
   "outputs": [],
   "source": [
    "def parse_contextual_el_output(text):\n",
    "    try:\n",
    "        match = re.search(r'\\{.*?\\}', text, re.DOTALL)\n",
    "        if not match:\n",
    "            return -1\n",
    "        \n",
    "        data = json.loads(match.group())\n",
    "        decision = data.get(\"final_decision\", \"\").strip()\n",
    "        \n",
    "        # Expecting something like \"3.Tesla, Inc.\"\n",
    "        m = re.match(r'(-?\\d+)\\s*\\.\\s*(.+)', decision)\n",
    "        if not m:\n",
    "            return -1\n",
    "        \n",
    "        label = int(m.group(1))\n",
    "        return label\n",
    "\n",
    "    except Exception as e:\n",
    "        print(f\"[parse_contextual_el_output] Parsing error: {e}\")\n",
    "        return -1"
   ]
  },
  {
   "cell_type": "code",
   "execution_count": 114,
   "id": "a3198b67-3799-4675-a2e1-369901791c5f",
   "metadata": {},
   "outputs": [],
   "source": [
    "prompt_cel_records = []\n",
    "\n",
    "for idx, row in wn_val_subset.iterrows():\n",
    "    if not row['candidates_after_pointwise']:\n",
    "        continue\n",
    "    prompt = contextual_el_chat(row)\n",
    "    label_map = {i+1: cand for i, cand in enumerate(row['candidates_after_pointwise'])}\n",
    "    prompt_cel_records.append((idx, label_map, prompt))"
   ]
  },
  {
   "cell_type": "code",
   "execution_count": 115,
   "id": "47754237-6d13-4a90-a57d-aefad3d8187c",
   "metadata": {},
   "outputs": [
    {
     "name": "stderr",
     "output_type": "stream",
     "text": [
      "Processed prompts: 100%|██████████| 236/236 [02:47<00:00,  1.41it/s, est. speed input: 3584.06 toks/s, output: 174.13 toks/s]"
     ]
    },
    {
     "name": "stdout",
     "output_type": "stream",
     "text": [
      "[parse_contextual_el_output] Parsing error: Expecting ',' delimiter: line 1 column 67 (char 66)\n"
     ]
    },
    {
     "name": "stderr",
     "output_type": "stream",
     "text": [
      "\n"
     ]
    }
   ],
   "source": [
    "BATCH_SIZE = 7500\n",
    "\n",
    "all_outputs = []\n",
    "\n",
    "for chunk_start in range(0, len(prompt_cel_records), BATCH_SIZE):\n",
    "    batch = prompt_cel_records[chunk_start:chunk_start + BATCH_SIZE]\n",
    "    prompts = [rec[2] for rec in batch]\n",
    "\n",
    "    responses = llm.chat(messages=prompts, sampling_params=sampling_params)\n",
    "\n",
    "    for (record, response) in zip(batch, responses):\n",
    "        idx, label_map, _ = record\n",
    "        text = response.outputs[0].text.strip()\n",
    "        selected_label = parse_contextual_el_output(text)\n",
    "\n",
    "        if selected_label > 0 and selected_label in label_map:\n",
    "            selected_candidate = label_map[selected_label]\n",
    "        else:\n",
    "            selected_candidate = 0\n",
    "\n",
    "        all_outputs.append((idx, selected_candidate))"
   ]
  },
  {
   "cell_type": "code",
   "execution_count": 116,
   "id": "860bd5aa-d3b8-48eb-b824-130ad70d14ab",
   "metadata": {},
   "outputs": [],
   "source": [
    "# top_linked_entities = [None] * len(wn_val_subset)\n",
    "\n",
    "# for idx, selected_candidate in all_outputs:\n",
    "#     if selected_candidate:\n",
    "#         top_linked_entities[idx] = selected_candidate['wiki_id']\n",
    "#     else:\n",
    "#         top_linked_entities[idx] = 0\n",
    "\n",
    "# wn_val_subset['top_linked_entity'] = top_linked_entities\n",
    "\n",
    "top_linked_entities = [0] * len(wn_val_subset)\n",
    "\n",
    "for idx, selected_candidate in all_outputs:\n",
    "    if selected_candidate:\n",
    "        top_linked_entities[idx] = int(selected_candidate['wiki_id'])\n",
    "\n",
    "wn_val_subset['top_linked_entity'] = pd.Series(top_linked_entities, dtype=\"Int64\")"
   ]
  },
  {
   "cell_type": "code",
   "execution_count": 117,
   "id": "6c5adde5-4f4e-46a2-9073-a288e16fcaf0",
   "metadata": {},
   "outputs": [],
   "source": [
    "wn_val_subset.to_csv('outputs/contextual/wn_val_subset_5_7_contextual_results_v2.csv', index=False)"
   ]
  },
  {
   "cell_type": "code",
   "execution_count": 118,
   "id": "8f8518fc-be93-43db-8812-f77df71c2a45",
   "metadata": {},
   "outputs": [],
   "source": [
    "def evaluate_contextual_linking(df):\n",
    "    \"\"\"\n",
    "    Evaluate performance of contextual entity linker.\n",
    "    Assumes 'top_linked_entity' and 'wiki_ID' are both integers, with 0 meaning \"no prediction made\".\n",
    "    \"\"\"\n",
    "\n",
    "    total_mentions = len(df)\n",
    "    linked_mentions = (df['top_linked_entity'] != 0).sum()\n",
    "    ground_truth_mentions = df['wiki_ID'].notna().sum()\n",
    "\n",
    "    correct_links = 0\n",
    "\n",
    "    for _, row in df.iterrows():\n",
    "        pred = row['top_linked_entity']\n",
    "        gt = row['wiki_ID']\n",
    "\n",
    "        if pred == 0 or pd.isna(gt):\n",
    "            continue\n",
    "\n",
    "        if int(pred) == int(gt):\n",
    "            correct_links += 1\n",
    "\n",
    "    accuracy = correct_links / total_mentions if total_mentions else 0\n",
    "    precision_at_linked = correct_links / linked_mentions if linked_mentions else 0\n",
    "    recall = correct_links / ground_truth_mentions if ground_truth_mentions else 0\n",
    "    \n",
    "    if precision_at_linked + recall > 0:\n",
    "        f1_score = 2 * (precision_at_linked * recall) / (precision_at_linked + recall)\n",
    "    else:\n",
    "        f1_score = 0.0\n",
    "\n",
    "    print(f\"Entities evaluated: {total_mentions}\")\n",
    "    print(f\"Ground truth (non-null): {ground_truth_mentions}\")\n",
    "    print(f\"Predictions made: {linked_mentions}\")\n",
    "    print(f\"Correct links: {correct_links}\\n\")\n",
    "\n",
    "    return {\n",
    "        \"Accuracy\": accuracy,\n",
    "        \"Precision@Linked\": float(precision_at_linked),\n",
    "        \"Recall\": float(recall),\n",
    "        \"F1 Score\": float(f1_score)\n",
    "    }\n"
   ]
  },
  {
   "cell_type": "code",
   "execution_count": 119,
   "id": "f4e34a29-5d08-49f1-b3f5-2075a7af0a1f",
   "metadata": {},
   "outputs": [
    {
     "name": "stdout",
     "output_type": "stream",
     "text": [
      "Entities evaluated: 250\n",
      "Ground truth (non-null): 250\n",
      "Predictions made: 205\n",
      "Correct links: 145\n",
      "\n"
     ]
    },
    {
     "data": {
      "text/plain": [
       "{'Accuracy': 0.58,\n",
       " 'Precision@Linked': 0.7073170731707317,\n",
       " 'Recall': 0.58,\n",
       " 'F1 Score': 0.6373626373626374}"
      ]
     },
     "execution_count": 119,
     "metadata": {},
     "output_type": "execute_result"
    }
   ],
   "source": [
    "contextual_metrics = evaluate_contextual_linking(wn_val_subset)\n",
    "contextual_metrics"
   ]
  },
  {
   "cell_type": "code",
   "execution_count": 120,
   "id": "6f6de706-9095-4be0-8496-3c0b21b00019",
   "metadata": {},
   "outputs": [],
   "source": [
    "with open('outputs/contextual/wn_val_subset_5_7_contextual_metrics.json', 'w') as f:\n",
    "    json.dump(contextual_metrics, f, indent=4)"
   ]
  },
  {
   "cell_type": "code",
   "execution_count": null,
   "id": "6fe02b08-3f04-4f49-8b59-fd380e1d7b91",
   "metadata": {},
   "outputs": [],
   "source": []
  }
 ],
 "metadata": {
  "kernelspec": {
   "display_name": "baseline-salient-entities",
   "language": "python",
   "name": "baseline"
  },
  "language_info": {
   "codemirror_mode": {
    "name": "ipython",
    "version": 3
   },
   "file_extension": ".py",
   "mimetype": "text/x-python",
   "name": "python",
   "nbconvert_exporter": "python",
   "pygments_lexer": "ipython3",
   "version": "3.9.21"
  }
 },
 "nbformat": 4,
 "nbformat_minor": 5
}
